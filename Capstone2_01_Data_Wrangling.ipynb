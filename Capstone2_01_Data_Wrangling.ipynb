{
 "cells": [
  {
   "cell_type": "markdown",
   "id": "4757fa25",
   "metadata": {},
   "source": [
    "# Lending Club Loans Status Prediction - Part 1: Data Wrangling"
   ]
  },
  {
   "cell_type": "markdown",
   "id": "9c0d84cf",
   "metadata": {},
   "source": [
    "When one borrower submits a loan application, the lender company will collected many information from him/her, and based on the information collected, they will run their algorithm and try to predict if the customer will be able to or will be willing to fully paid the loans. Then they will either approve or deny the loan application. So the prediction must be as accurate as possible, otherwise the lending companny will either loss business opportunity or loss profit.\n",
    "\n",
    "In this study, we will use Lending Club's data from kaggle (https://www.kaggle.com/wordsforthewise/lending-club), and build a model to predict the loan's future status. "
   ]
  },
  {
   "cell_type": "markdown",
   "id": "5365e324",
   "metadata": {},
   "source": [
    "This is the first part of the study. In this part, we will have a careful look on the data, and reduce the data size by dropping some unnecessary columns and rows. "
   ]
  },
  {
   "cell_type": "markdown",
   "id": "ef3d753d",
   "metadata": {},
   "source": [
    "## Content:\n",
    "## 1. Import data;\n",
    "## 2. Remove columns with too many missing values;\n",
    "## 3. Remove columns high correlated with other columns;\n",
    "## 4. Drop columns with poor correlation to target variable;\n",
    "## 5. Remove categorical columns with large amount of unique values;\n",
    "## 6. Remove rows with missing value;\n",
    "## 7. Check outliners;\n",
    "## 8. Write data to file, conclusions."
   ]
  },
  {
   "cell_type": "markdown",
   "id": "c956a8f2",
   "metadata": {},
   "source": [
    "# 1. Import data"
   ]
  },
  {
   "cell_type": "code",
   "execution_count": 1,
   "id": "b43e7e34",
   "metadata": {},
   "outputs": [],
   "source": [
    "# Import modules\n",
    "import numpy as np\n",
    "import pandas as pd\n",
    "import seaborn as sns\n",
    "import matplotlib.pyplot as plt"
   ]
  },
  {
   "cell_type": "code",
   "execution_count": 2,
   "id": "0ee89c61",
   "metadata": {
    "scrolled": true
   },
   "outputs": [
    {
     "name": "stderr",
     "output_type": "stream",
     "text": [
      "C:\\Users\\cheng\\anaconda3\\lib\\site-packages\\IPython\\core\\interactiveshell.py:3165: DtypeWarning: Columns (0,19,49,59,118,129,130,131,134,135,136,139,145,146,147) have mixed types.Specify dtype option on import or set low_memory=False.\n",
      "  has_raised = await self.run_ast_nodes(code_ast.body, cell_name,\n"
     ]
    }
   ],
   "source": [
    "# read source data\n",
    "data_lc = pd.read_csv('../Raw_data/accepted_2007_to_2018Q4.csv')"
   ]
  },
  {
   "cell_type": "markdown",
   "id": "5f9733f0",
   "metadata": {},
   "source": [
    "The first thing we want to do is to check our data size."
   ]
  },
  {
   "cell_type": "code",
   "execution_count": 3,
   "id": "15fbf0b0",
   "metadata": {},
   "outputs": [
    {
     "data": {
      "text/plain": [
       "(2260701, 151)"
      ]
     },
     "execution_count": 3,
     "metadata": {},
     "output_type": "execute_result"
    }
   ],
   "source": [
    "data_lc.shape"
   ]
  },
  {
   "cell_type": "markdown",
   "id": "d61da615",
   "metadata": {},
   "source": [
    "The data have more than 2.2 million rows and 151 columns! It is a huge data! Keep in mind that we surely will reduce the size of this data. How? We will first remove some columns and then rows which are less important to our model. This will be done later. First let's see features of our data."
   ]
  },
  {
   "cell_type": "code",
   "execution_count": 4,
   "id": "2716aa77",
   "metadata": {},
   "outputs": [
    {
     "data": {
      "text/html": [
       "<div>\n",
       "<style scoped>\n",
       "    .dataframe tbody tr th:only-of-type {\n",
       "        vertical-align: middle;\n",
       "    }\n",
       "\n",
       "    .dataframe tbody tr th {\n",
       "        vertical-align: top;\n",
       "    }\n",
       "\n",
       "    .dataframe thead th {\n",
       "        text-align: right;\n",
       "    }\n",
       "</style>\n",
       "<table border=\"1\" class=\"dataframe\">\n",
       "  <thead>\n",
       "    <tr style=\"text-align: right;\">\n",
       "      <th></th>\n",
       "      <th>id</th>\n",
       "      <th>member_id</th>\n",
       "      <th>loan_amnt</th>\n",
       "      <th>funded_amnt</th>\n",
       "      <th>funded_amnt_inv</th>\n",
       "      <th>term</th>\n",
       "      <th>int_rate</th>\n",
       "      <th>installment</th>\n",
       "      <th>grade</th>\n",
       "      <th>sub_grade</th>\n",
       "      <th>...</th>\n",
       "      <th>hardship_payoff_balance_amount</th>\n",
       "      <th>hardship_last_payment_amount</th>\n",
       "      <th>disbursement_method</th>\n",
       "      <th>debt_settlement_flag</th>\n",
       "      <th>debt_settlement_flag_date</th>\n",
       "      <th>settlement_status</th>\n",
       "      <th>settlement_date</th>\n",
       "      <th>settlement_amount</th>\n",
       "      <th>settlement_percentage</th>\n",
       "      <th>settlement_term</th>\n",
       "    </tr>\n",
       "  </thead>\n",
       "  <tbody>\n",
       "    <tr>\n",
       "      <th>0</th>\n",
       "      <td>68407277</td>\n",
       "      <td>NaN</td>\n",
       "      <td>3600.0</td>\n",
       "      <td>3600.0</td>\n",
       "      <td>3600.0</td>\n",
       "      <td>36 months</td>\n",
       "      <td>13.99</td>\n",
       "      <td>123.03</td>\n",
       "      <td>C</td>\n",
       "      <td>C4</td>\n",
       "      <td>...</td>\n",
       "      <td>NaN</td>\n",
       "      <td>NaN</td>\n",
       "      <td>Cash</td>\n",
       "      <td>N</td>\n",
       "      <td>NaN</td>\n",
       "      <td>NaN</td>\n",
       "      <td>NaN</td>\n",
       "      <td>NaN</td>\n",
       "      <td>NaN</td>\n",
       "      <td>NaN</td>\n",
       "    </tr>\n",
       "    <tr>\n",
       "      <th>1</th>\n",
       "      <td>68355089</td>\n",
       "      <td>NaN</td>\n",
       "      <td>24700.0</td>\n",
       "      <td>24700.0</td>\n",
       "      <td>24700.0</td>\n",
       "      <td>36 months</td>\n",
       "      <td>11.99</td>\n",
       "      <td>820.28</td>\n",
       "      <td>C</td>\n",
       "      <td>C1</td>\n",
       "      <td>...</td>\n",
       "      <td>NaN</td>\n",
       "      <td>NaN</td>\n",
       "      <td>Cash</td>\n",
       "      <td>N</td>\n",
       "      <td>NaN</td>\n",
       "      <td>NaN</td>\n",
       "      <td>NaN</td>\n",
       "      <td>NaN</td>\n",
       "      <td>NaN</td>\n",
       "      <td>NaN</td>\n",
       "    </tr>\n",
       "    <tr>\n",
       "      <th>2</th>\n",
       "      <td>68341763</td>\n",
       "      <td>NaN</td>\n",
       "      <td>20000.0</td>\n",
       "      <td>20000.0</td>\n",
       "      <td>20000.0</td>\n",
       "      <td>60 months</td>\n",
       "      <td>10.78</td>\n",
       "      <td>432.66</td>\n",
       "      <td>B</td>\n",
       "      <td>B4</td>\n",
       "      <td>...</td>\n",
       "      <td>NaN</td>\n",
       "      <td>NaN</td>\n",
       "      <td>Cash</td>\n",
       "      <td>N</td>\n",
       "      <td>NaN</td>\n",
       "      <td>NaN</td>\n",
       "      <td>NaN</td>\n",
       "      <td>NaN</td>\n",
       "      <td>NaN</td>\n",
       "      <td>NaN</td>\n",
       "    </tr>\n",
       "    <tr>\n",
       "      <th>3</th>\n",
       "      <td>66310712</td>\n",
       "      <td>NaN</td>\n",
       "      <td>35000.0</td>\n",
       "      <td>35000.0</td>\n",
       "      <td>35000.0</td>\n",
       "      <td>60 months</td>\n",
       "      <td>14.85</td>\n",
       "      <td>829.90</td>\n",
       "      <td>C</td>\n",
       "      <td>C5</td>\n",
       "      <td>...</td>\n",
       "      <td>NaN</td>\n",
       "      <td>NaN</td>\n",
       "      <td>Cash</td>\n",
       "      <td>N</td>\n",
       "      <td>NaN</td>\n",
       "      <td>NaN</td>\n",
       "      <td>NaN</td>\n",
       "      <td>NaN</td>\n",
       "      <td>NaN</td>\n",
       "      <td>NaN</td>\n",
       "    </tr>\n",
       "    <tr>\n",
       "      <th>4</th>\n",
       "      <td>68476807</td>\n",
       "      <td>NaN</td>\n",
       "      <td>10400.0</td>\n",
       "      <td>10400.0</td>\n",
       "      <td>10400.0</td>\n",
       "      <td>60 months</td>\n",
       "      <td>22.45</td>\n",
       "      <td>289.91</td>\n",
       "      <td>F</td>\n",
       "      <td>F1</td>\n",
       "      <td>...</td>\n",
       "      <td>NaN</td>\n",
       "      <td>NaN</td>\n",
       "      <td>Cash</td>\n",
       "      <td>N</td>\n",
       "      <td>NaN</td>\n",
       "      <td>NaN</td>\n",
       "      <td>NaN</td>\n",
       "      <td>NaN</td>\n",
       "      <td>NaN</td>\n",
       "      <td>NaN</td>\n",
       "    </tr>\n",
       "  </tbody>\n",
       "</table>\n",
       "<p>5 rows × 151 columns</p>\n",
       "</div>"
      ],
      "text/plain": [
       "         id  member_id  loan_amnt  funded_amnt  funded_amnt_inv        term  \\\n",
       "0  68407277        NaN     3600.0       3600.0           3600.0   36 months   \n",
       "1  68355089        NaN    24700.0      24700.0          24700.0   36 months   \n",
       "2  68341763        NaN    20000.0      20000.0          20000.0   60 months   \n",
       "3  66310712        NaN    35000.0      35000.0          35000.0   60 months   \n",
       "4  68476807        NaN    10400.0      10400.0          10400.0   60 months   \n",
       "\n",
       "   int_rate  installment grade sub_grade  ... hardship_payoff_balance_amount  \\\n",
       "0     13.99       123.03     C        C4  ...                            NaN   \n",
       "1     11.99       820.28     C        C1  ...                            NaN   \n",
       "2     10.78       432.66     B        B4  ...                            NaN   \n",
       "3     14.85       829.90     C        C5  ...                            NaN   \n",
       "4     22.45       289.91     F        F1  ...                            NaN   \n",
       "\n",
       "  hardship_last_payment_amount disbursement_method  debt_settlement_flag  \\\n",
       "0                          NaN                Cash                     N   \n",
       "1                          NaN                Cash                     N   \n",
       "2                          NaN                Cash                     N   \n",
       "3                          NaN                Cash                     N   \n",
       "4                          NaN                Cash                     N   \n",
       "\n",
       "  debt_settlement_flag_date settlement_status settlement_date  \\\n",
       "0                       NaN               NaN             NaN   \n",
       "1                       NaN               NaN             NaN   \n",
       "2                       NaN               NaN             NaN   \n",
       "3                       NaN               NaN             NaN   \n",
       "4                       NaN               NaN             NaN   \n",
       "\n",
       "  settlement_amount settlement_percentage settlement_term  \n",
       "0               NaN                   NaN             NaN  \n",
       "1               NaN                   NaN             NaN  \n",
       "2               NaN                   NaN             NaN  \n",
       "3               NaN                   NaN             NaN  \n",
       "4               NaN                   NaN             NaN  \n",
       "\n",
       "[5 rows x 151 columns]"
      ]
     },
     "execution_count": 4,
     "metadata": {},
     "output_type": "execute_result"
    }
   ],
   "source": [
    "data_lc.head()"
   ]
  },
  {
   "cell_type": "markdown",
   "id": "f410c34a",
   "metadata": {},
   "source": [
    "The head of the data shows us the column names and what the values look like. We already saw some missing data marked as \"NaN\". Now let's dig deeper into missing values.\n",
    "\n",
    "Let's create a DataFrame to show the amount of missing values in each columns and also the percentage of missing values."
   ]
  },
  {
   "cell_type": "markdown",
   "id": "056aaaf1",
   "metadata": {},
   "source": [
    "# 2. Remove columns with too many missing values"
   ]
  },
  {
   "cell_type": "code",
   "execution_count": 5,
   "id": "d63221d6",
   "metadata": {},
   "outputs": [],
   "source": [
    "missing = pd.concat([data_lc.isnull().sum(), 100 * data_lc.isnull().mean()], axis=1)\n",
    "missing.columns = ['Count', '%']"
   ]
  },
  {
   "cell_type": "markdown",
   "id": "f2cf11b2",
   "metadata": {},
   "source": [
    "The default display row number is changed to 200 to show all the data as we requested. So that no values will be shows as '...'"
   ]
  },
  {
   "cell_type": "code",
   "execution_count": 6,
   "id": "f73bb97d",
   "metadata": {},
   "outputs": [],
   "source": [
    "pd.options.display.max_rows = 200"
   ]
  },
  {
   "cell_type": "markdown",
   "id": "a0113fbe",
   "metadata": {},
   "source": [
    "Let's see the list of columns with best quality, with less than 10% missing values."
   ]
  },
  {
   "cell_type": "code",
   "execution_count": 7,
   "id": "aa82827c",
   "metadata": {},
   "outputs": [
    {
     "data": {
      "text/html": [
       "<div>\n",
       "<style scoped>\n",
       "    .dataframe tbody tr th:only-of-type {\n",
       "        vertical-align: middle;\n",
       "    }\n",
       "\n",
       "    .dataframe tbody tr th {\n",
       "        vertical-align: top;\n",
       "    }\n",
       "\n",
       "    .dataframe thead th {\n",
       "        text-align: right;\n",
       "    }\n",
       "</style>\n",
       "<table border=\"1\" class=\"dataframe\">\n",
       "  <thead>\n",
       "    <tr style=\"text-align: right;\">\n",
       "      <th></th>\n",
       "      <th>Count</th>\n",
       "      <th>%</th>\n",
       "    </tr>\n",
       "  </thead>\n",
       "  <tbody>\n",
       "    <tr>\n",
       "      <th>id</th>\n",
       "      <td>0</td>\n",
       "      <td>0.000000</td>\n",
       "    </tr>\n",
       "    <tr>\n",
       "      <th>revol_bal</th>\n",
       "      <td>33</td>\n",
       "      <td>0.001460</td>\n",
       "    </tr>\n",
       "    <tr>\n",
       "      <th>initial_list_status</th>\n",
       "      <td>33</td>\n",
       "      <td>0.001460</td>\n",
       "    </tr>\n",
       "    <tr>\n",
       "      <th>out_prncp</th>\n",
       "      <td>33</td>\n",
       "      <td>0.001460</td>\n",
       "    </tr>\n",
       "    <tr>\n",
       "      <th>out_prncp_inv</th>\n",
       "      <td>33</td>\n",
       "      <td>0.001460</td>\n",
       "    </tr>\n",
       "    <tr>\n",
       "      <th>total_pymnt</th>\n",
       "      <td>33</td>\n",
       "      <td>0.001460</td>\n",
       "    </tr>\n",
       "    <tr>\n",
       "      <th>total_pymnt_inv</th>\n",
       "      <td>33</td>\n",
       "      <td>0.001460</td>\n",
       "    </tr>\n",
       "    <tr>\n",
       "      <th>total_rec_prncp</th>\n",
       "      <td>33</td>\n",
       "      <td>0.001460</td>\n",
       "    </tr>\n",
       "    <tr>\n",
       "      <th>total_rec_int</th>\n",
       "      <td>33</td>\n",
       "      <td>0.001460</td>\n",
       "    </tr>\n",
       "    <tr>\n",
       "      <th>fico_range_high</th>\n",
       "      <td>33</td>\n",
       "      <td>0.001460</td>\n",
       "    </tr>\n",
       "    <tr>\n",
       "      <th>total_rec_late_fee</th>\n",
       "      <td>33</td>\n",
       "      <td>0.001460</td>\n",
       "    </tr>\n",
       "    <tr>\n",
       "      <th>collection_recovery_fee</th>\n",
       "      <td>33</td>\n",
       "      <td>0.001460</td>\n",
       "    </tr>\n",
       "    <tr>\n",
       "      <th>last_pymnt_amnt</th>\n",
       "      <td>33</td>\n",
       "      <td>0.001460</td>\n",
       "    </tr>\n",
       "    <tr>\n",
       "      <th>disbursement_method</th>\n",
       "      <td>33</td>\n",
       "      <td>0.001460</td>\n",
       "    </tr>\n",
       "    <tr>\n",
       "      <th>last_fico_range_high</th>\n",
       "      <td>33</td>\n",
       "      <td>0.001460</td>\n",
       "    </tr>\n",
       "    <tr>\n",
       "      <th>last_fico_range_low</th>\n",
       "      <td>33</td>\n",
       "      <td>0.001460</td>\n",
       "    </tr>\n",
       "    <tr>\n",
       "      <th>policy_code</th>\n",
       "      <td>33</td>\n",
       "      <td>0.001460</td>\n",
       "    </tr>\n",
       "    <tr>\n",
       "      <th>application_type</th>\n",
       "      <td>33</td>\n",
       "      <td>0.001460</td>\n",
       "    </tr>\n",
       "    <tr>\n",
       "      <th>hardship_flag</th>\n",
       "      <td>33</td>\n",
       "      <td>0.001460</td>\n",
       "    </tr>\n",
       "    <tr>\n",
       "      <th>recoveries</th>\n",
       "      <td>33</td>\n",
       "      <td>0.001460</td>\n",
       "    </tr>\n",
       "    <tr>\n",
       "      <th>fico_range_low</th>\n",
       "      <td>33</td>\n",
       "      <td>0.001460</td>\n",
       "    </tr>\n",
       "    <tr>\n",
       "      <th>debt_settlement_flag</th>\n",
       "      <td>33</td>\n",
       "      <td>0.001460</td>\n",
       "    </tr>\n",
       "    <tr>\n",
       "      <th>verification_status</th>\n",
       "      <td>33</td>\n",
       "      <td>0.001460</td>\n",
       "    </tr>\n",
       "    <tr>\n",
       "      <th>funded_amnt</th>\n",
       "      <td>33</td>\n",
       "      <td>0.001460</td>\n",
       "    </tr>\n",
       "    <tr>\n",
       "      <th>funded_amnt_inv</th>\n",
       "      <td>33</td>\n",
       "      <td>0.001460</td>\n",
       "    </tr>\n",
       "    <tr>\n",
       "      <th>term</th>\n",
       "      <td>33</td>\n",
       "      <td>0.001460</td>\n",
       "    </tr>\n",
       "    <tr>\n",
       "      <th>int_rate</th>\n",
       "      <td>33</td>\n",
       "      <td>0.001460</td>\n",
       "    </tr>\n",
       "    <tr>\n",
       "      <th>installment</th>\n",
       "      <td>33</td>\n",
       "      <td>0.001460</td>\n",
       "    </tr>\n",
       "    <tr>\n",
       "      <th>grade</th>\n",
       "      <td>33</td>\n",
       "      <td>0.001460</td>\n",
       "    </tr>\n",
       "    <tr>\n",
       "      <th>sub_grade</th>\n",
       "      <td>33</td>\n",
       "      <td>0.001460</td>\n",
       "    </tr>\n",
       "    <tr>\n",
       "      <th>home_ownership</th>\n",
       "      <td>33</td>\n",
       "      <td>0.001460</td>\n",
       "    </tr>\n",
       "    <tr>\n",
       "      <th>issue_d</th>\n",
       "      <td>33</td>\n",
       "      <td>0.001460</td>\n",
       "    </tr>\n",
       "    <tr>\n",
       "      <th>loan_status</th>\n",
       "      <td>33</td>\n",
       "      <td>0.001460</td>\n",
       "    </tr>\n",
       "    <tr>\n",
       "      <th>pymnt_plan</th>\n",
       "      <td>33</td>\n",
       "      <td>0.001460</td>\n",
       "    </tr>\n",
       "    <tr>\n",
       "      <th>addr_state</th>\n",
       "      <td>33</td>\n",
       "      <td>0.001460</td>\n",
       "    </tr>\n",
       "    <tr>\n",
       "      <th>purpose</th>\n",
       "      <td>33</td>\n",
       "      <td>0.001460</td>\n",
       "    </tr>\n",
       "    <tr>\n",
       "      <th>url</th>\n",
       "      <td>33</td>\n",
       "      <td>0.001460</td>\n",
       "    </tr>\n",
       "    <tr>\n",
       "      <th>loan_amnt</th>\n",
       "      <td>33</td>\n",
       "      <td>0.001460</td>\n",
       "    </tr>\n",
       "    <tr>\n",
       "      <th>zip_code</th>\n",
       "      <td>34</td>\n",
       "      <td>0.001504</td>\n",
       "    </tr>\n",
       "    <tr>\n",
       "      <th>annual_inc</th>\n",
       "      <td>37</td>\n",
       "      <td>0.001637</td>\n",
       "    </tr>\n",
       "    <tr>\n",
       "      <th>total_acc</th>\n",
       "      <td>62</td>\n",
       "      <td>0.002743</td>\n",
       "    </tr>\n",
       "    <tr>\n",
       "      <th>delinq_2yrs</th>\n",
       "      <td>62</td>\n",
       "      <td>0.002743</td>\n",
       "    </tr>\n",
       "    <tr>\n",
       "      <th>acc_now_delinq</th>\n",
       "      <td>62</td>\n",
       "      <td>0.002743</td>\n",
       "    </tr>\n",
       "    <tr>\n",
       "      <th>earliest_cr_line</th>\n",
       "      <td>62</td>\n",
       "      <td>0.002743</td>\n",
       "    </tr>\n",
       "    <tr>\n",
       "      <th>delinq_amnt</th>\n",
       "      <td>62</td>\n",
       "      <td>0.002743</td>\n",
       "    </tr>\n",
       "    <tr>\n",
       "      <th>pub_rec</th>\n",
       "      <td>62</td>\n",
       "      <td>0.002743</td>\n",
       "    </tr>\n",
       "    <tr>\n",
       "      <th>open_acc</th>\n",
       "      <td>62</td>\n",
       "      <td>0.002743</td>\n",
       "    </tr>\n",
       "    <tr>\n",
       "      <th>inq_last_6mths</th>\n",
       "      <td>63</td>\n",
       "      <td>0.002787</td>\n",
       "    </tr>\n",
       "    <tr>\n",
       "      <th>last_credit_pull_d</th>\n",
       "      <td>105</td>\n",
       "      <td>0.004645</td>\n",
       "    </tr>\n",
       "    <tr>\n",
       "      <th>tax_liens</th>\n",
       "      <td>138</td>\n",
       "      <td>0.006104</td>\n",
       "    </tr>\n",
       "    <tr>\n",
       "      <th>collections_12_mths_ex_med</th>\n",
       "      <td>178</td>\n",
       "      <td>0.007874</td>\n",
       "    </tr>\n",
       "    <tr>\n",
       "      <th>chargeoff_within_12_mths</th>\n",
       "      <td>178</td>\n",
       "      <td>0.007874</td>\n",
       "    </tr>\n",
       "    <tr>\n",
       "      <th>pub_rec_bankruptcies</th>\n",
       "      <td>1398</td>\n",
       "      <td>0.061839</td>\n",
       "    </tr>\n",
       "    <tr>\n",
       "      <th>dti</th>\n",
       "      <td>1744</td>\n",
       "      <td>0.077144</td>\n",
       "    </tr>\n",
       "    <tr>\n",
       "      <th>revol_util</th>\n",
       "      <td>1835</td>\n",
       "      <td>0.081170</td>\n",
       "    </tr>\n",
       "    <tr>\n",
       "      <th>last_pymnt_d</th>\n",
       "      <td>2460</td>\n",
       "      <td>0.108816</td>\n",
       "    </tr>\n",
       "    <tr>\n",
       "      <th>title</th>\n",
       "      <td>23358</td>\n",
       "      <td>1.033219</td>\n",
       "    </tr>\n",
       "    <tr>\n",
       "      <th>acc_open_past_24mths</th>\n",
       "      <td>50063</td>\n",
       "      <td>2.214490</td>\n",
       "    </tr>\n",
       "    <tr>\n",
       "      <th>total_bc_limit</th>\n",
       "      <td>50063</td>\n",
       "      <td>2.214490</td>\n",
       "    </tr>\n",
       "    <tr>\n",
       "      <th>total_bal_ex_mort</th>\n",
       "      <td>50063</td>\n",
       "      <td>2.214490</td>\n",
       "    </tr>\n",
       "    <tr>\n",
       "      <th>mort_acc</th>\n",
       "      <td>50063</td>\n",
       "      <td>2.214490</td>\n",
       "    </tr>\n",
       "    <tr>\n",
       "      <th>num_bc_sats</th>\n",
       "      <td>58623</td>\n",
       "      <td>2.593134</td>\n",
       "    </tr>\n",
       "    <tr>\n",
       "      <th>num_sats</th>\n",
       "      <td>58623</td>\n",
       "      <td>2.593134</td>\n",
       "    </tr>\n",
       "    <tr>\n",
       "      <th>num_op_rev_tl</th>\n",
       "      <td>70309</td>\n",
       "      <td>3.110053</td>\n",
       "    </tr>\n",
       "    <tr>\n",
       "      <th>num_rev_tl_bal_gt_0</th>\n",
       "      <td>70309</td>\n",
       "      <td>3.110053</td>\n",
       "    </tr>\n",
       "    <tr>\n",
       "      <th>num_tl_30dpd</th>\n",
       "      <td>70309</td>\n",
       "      <td>3.110053</td>\n",
       "    </tr>\n",
       "    <tr>\n",
       "      <th>total_rev_hi_lim</th>\n",
       "      <td>70309</td>\n",
       "      <td>3.110053</td>\n",
       "    </tr>\n",
       "    <tr>\n",
       "      <th>num_tl_op_past_12m</th>\n",
       "      <td>70309</td>\n",
       "      <td>3.110053</td>\n",
       "    </tr>\n",
       "    <tr>\n",
       "      <th>tot_hi_cred_lim</th>\n",
       "      <td>70309</td>\n",
       "      <td>3.110053</td>\n",
       "    </tr>\n",
       "    <tr>\n",
       "      <th>total_il_high_credit_limit</th>\n",
       "      <td>70309</td>\n",
       "      <td>3.110053</td>\n",
       "    </tr>\n",
       "    <tr>\n",
       "      <th>num_tl_90g_dpd_24m</th>\n",
       "      <td>70309</td>\n",
       "      <td>3.110053</td>\n",
       "    </tr>\n",
       "    <tr>\n",
       "      <th>tot_cur_bal</th>\n",
       "      <td>70309</td>\n",
       "      <td>3.110053</td>\n",
       "    </tr>\n",
       "    <tr>\n",
       "      <th>num_il_tl</th>\n",
       "      <td>70309</td>\n",
       "      <td>3.110053</td>\n",
       "    </tr>\n",
       "    <tr>\n",
       "      <th>num_actv_rev_tl</th>\n",
       "      <td>70309</td>\n",
       "      <td>3.110053</td>\n",
       "    </tr>\n",
       "    <tr>\n",
       "      <th>num_actv_bc_tl</th>\n",
       "      <td>70309</td>\n",
       "      <td>3.110053</td>\n",
       "    </tr>\n",
       "    <tr>\n",
       "      <th>num_accts_ever_120_pd</th>\n",
       "      <td>70309</td>\n",
       "      <td>3.110053</td>\n",
       "    </tr>\n",
       "    <tr>\n",
       "      <th>tot_coll_amt</th>\n",
       "      <td>70309</td>\n",
       "      <td>3.110053</td>\n",
       "    </tr>\n",
       "    <tr>\n",
       "      <th>mo_sin_rcnt_tl</th>\n",
       "      <td>70309</td>\n",
       "      <td>3.110053</td>\n",
       "    </tr>\n",
       "    <tr>\n",
       "      <th>num_bc_tl</th>\n",
       "      <td>70309</td>\n",
       "      <td>3.110053</td>\n",
       "    </tr>\n",
       "    <tr>\n",
       "      <th>num_rev_accts</th>\n",
       "      <td>70310</td>\n",
       "      <td>3.110097</td>\n",
       "    </tr>\n",
       "    <tr>\n",
       "      <th>mo_sin_old_rev_tl_op</th>\n",
       "      <td>70310</td>\n",
       "      <td>3.110097</td>\n",
       "    </tr>\n",
       "    <tr>\n",
       "      <th>mo_sin_rcnt_rev_tl_op</th>\n",
       "      <td>70310</td>\n",
       "      <td>3.110097</td>\n",
       "    </tr>\n",
       "    <tr>\n",
       "      <th>avg_cur_bal</th>\n",
       "      <td>70379</td>\n",
       "      <td>3.113149</td>\n",
       "    </tr>\n",
       "    <tr>\n",
       "      <th>pct_tl_nvr_dlq</th>\n",
       "      <td>70464</td>\n",
       "      <td>3.116909</td>\n",
       "    </tr>\n",
       "    <tr>\n",
       "      <th>mths_since_recent_bc</th>\n",
       "      <td>73445</td>\n",
       "      <td>3.248771</td>\n",
       "    </tr>\n",
       "    <tr>\n",
       "      <th>bc_open_to_buy</th>\n",
       "      <td>74968</td>\n",
       "      <td>3.316140</td>\n",
       "    </tr>\n",
       "    <tr>\n",
       "      <th>percent_bc_gt_75</th>\n",
       "      <td>75412</td>\n",
       "      <td>3.335779</td>\n",
       "    </tr>\n",
       "    <tr>\n",
       "      <th>bc_util</th>\n",
       "      <td>76104</td>\n",
       "      <td>3.366389</td>\n",
       "    </tr>\n",
       "    <tr>\n",
       "      <th>mo_sin_old_il_acct</th>\n",
       "      <td>139104</td>\n",
       "      <td>6.153136</td>\n",
       "    </tr>\n",
       "    <tr>\n",
       "      <th>emp_length</th>\n",
       "      <td>146940</td>\n",
       "      <td>6.499754</td>\n",
       "    </tr>\n",
       "    <tr>\n",
       "      <th>num_tl_120dpd_2m</th>\n",
       "      <td>153690</td>\n",
       "      <td>6.798334</td>\n",
       "    </tr>\n",
       "    <tr>\n",
       "      <th>emp_title</th>\n",
       "      <td>167002</td>\n",
       "      <td>7.387178</td>\n",
       "    </tr>\n",
       "  </tbody>\n",
       "</table>\n",
       "</div>"
      ],
      "text/plain": [
       "                             Count         %\n",
       "id                               0  0.000000\n",
       "revol_bal                       33  0.001460\n",
       "initial_list_status             33  0.001460\n",
       "out_prncp                       33  0.001460\n",
       "out_prncp_inv                   33  0.001460\n",
       "total_pymnt                     33  0.001460\n",
       "total_pymnt_inv                 33  0.001460\n",
       "total_rec_prncp                 33  0.001460\n",
       "total_rec_int                   33  0.001460\n",
       "fico_range_high                 33  0.001460\n",
       "total_rec_late_fee              33  0.001460\n",
       "collection_recovery_fee         33  0.001460\n",
       "last_pymnt_amnt                 33  0.001460\n",
       "disbursement_method             33  0.001460\n",
       "last_fico_range_high            33  0.001460\n",
       "last_fico_range_low             33  0.001460\n",
       "policy_code                     33  0.001460\n",
       "application_type                33  0.001460\n",
       "hardship_flag                   33  0.001460\n",
       "recoveries                      33  0.001460\n",
       "fico_range_low                  33  0.001460\n",
       "debt_settlement_flag            33  0.001460\n",
       "verification_status             33  0.001460\n",
       "funded_amnt                     33  0.001460\n",
       "funded_amnt_inv                 33  0.001460\n",
       "term                            33  0.001460\n",
       "int_rate                        33  0.001460\n",
       "installment                     33  0.001460\n",
       "grade                           33  0.001460\n",
       "sub_grade                       33  0.001460\n",
       "home_ownership                  33  0.001460\n",
       "issue_d                         33  0.001460\n",
       "loan_status                     33  0.001460\n",
       "pymnt_plan                      33  0.001460\n",
       "addr_state                      33  0.001460\n",
       "purpose                         33  0.001460\n",
       "url                             33  0.001460\n",
       "loan_amnt                       33  0.001460\n",
       "zip_code                        34  0.001504\n",
       "annual_inc                      37  0.001637\n",
       "total_acc                       62  0.002743\n",
       "delinq_2yrs                     62  0.002743\n",
       "acc_now_delinq                  62  0.002743\n",
       "earliest_cr_line                62  0.002743\n",
       "delinq_amnt                     62  0.002743\n",
       "pub_rec                         62  0.002743\n",
       "open_acc                        62  0.002743\n",
       "inq_last_6mths                  63  0.002787\n",
       "last_credit_pull_d             105  0.004645\n",
       "tax_liens                      138  0.006104\n",
       "collections_12_mths_ex_med     178  0.007874\n",
       "chargeoff_within_12_mths       178  0.007874\n",
       "pub_rec_bankruptcies          1398  0.061839\n",
       "dti                           1744  0.077144\n",
       "revol_util                    1835  0.081170\n",
       "last_pymnt_d                  2460  0.108816\n",
       "title                        23358  1.033219\n",
       "acc_open_past_24mths         50063  2.214490\n",
       "total_bc_limit               50063  2.214490\n",
       "total_bal_ex_mort            50063  2.214490\n",
       "mort_acc                     50063  2.214490\n",
       "num_bc_sats                  58623  2.593134\n",
       "num_sats                     58623  2.593134\n",
       "num_op_rev_tl                70309  3.110053\n",
       "num_rev_tl_bal_gt_0          70309  3.110053\n",
       "num_tl_30dpd                 70309  3.110053\n",
       "total_rev_hi_lim             70309  3.110053\n",
       "num_tl_op_past_12m           70309  3.110053\n",
       "tot_hi_cred_lim              70309  3.110053\n",
       "total_il_high_credit_limit   70309  3.110053\n",
       "num_tl_90g_dpd_24m           70309  3.110053\n",
       "tot_cur_bal                  70309  3.110053\n",
       "num_il_tl                    70309  3.110053\n",
       "num_actv_rev_tl              70309  3.110053\n",
       "num_actv_bc_tl               70309  3.110053\n",
       "num_accts_ever_120_pd        70309  3.110053\n",
       "tot_coll_amt                 70309  3.110053\n",
       "mo_sin_rcnt_tl               70309  3.110053\n",
       "num_bc_tl                    70309  3.110053\n",
       "num_rev_accts                70310  3.110097\n",
       "mo_sin_old_rev_tl_op         70310  3.110097\n",
       "mo_sin_rcnt_rev_tl_op        70310  3.110097\n",
       "avg_cur_bal                  70379  3.113149\n",
       "pct_tl_nvr_dlq               70464  3.116909\n",
       "mths_since_recent_bc         73445  3.248771\n",
       "bc_open_to_buy               74968  3.316140\n",
       "percent_bc_gt_75             75412  3.335779\n",
       "bc_util                      76104  3.366389\n",
       "mo_sin_old_il_acct          139104  6.153136\n",
       "emp_length                  146940  6.499754\n",
       "num_tl_120dpd_2m            153690  6.798334\n",
       "emp_title                   167002  7.387178"
      ]
     },
     "execution_count": 7,
     "metadata": {},
     "output_type": "execute_result"
    }
   ],
   "source": [
    "missing[missing['%']<10].sort_values('%')"
   ]
  },
  {
   "cell_type": "markdown",
   "id": "b78388b3",
   "metadata": {},
   "source": [
    "And also the columns with bad quality have to be shown. They are at risk to be removed!"
   ]
  },
  {
   "cell_type": "code",
   "execution_count": 8,
   "id": "059b0d81",
   "metadata": {},
   "outputs": [
    {
     "data": {
      "text/html": [
       "<div>\n",
       "<style scoped>\n",
       "    .dataframe tbody tr th:only-of-type {\n",
       "        vertical-align: middle;\n",
       "    }\n",
       "\n",
       "    .dataframe tbody tr th {\n",
       "        vertical-align: top;\n",
       "    }\n",
       "\n",
       "    .dataframe thead th {\n",
       "        text-align: right;\n",
       "    }\n",
       "</style>\n",
       "<table border=\"1\" class=\"dataframe\">\n",
       "  <thead>\n",
       "    <tr style=\"text-align: right;\">\n",
       "      <th></th>\n",
       "      <th>Count</th>\n",
       "      <th>%</th>\n",
       "    </tr>\n",
       "  </thead>\n",
       "  <tbody>\n",
       "    <tr>\n",
       "      <th>inq_fi</th>\n",
       "      <td>866162</td>\n",
       "      <td>38.313868</td>\n",
       "    </tr>\n",
       "    <tr>\n",
       "      <th>max_bal_bc</th>\n",
       "      <td>866162</td>\n",
       "      <td>38.313868</td>\n",
       "    </tr>\n",
       "    <tr>\n",
       "      <th>open_rv_24m</th>\n",
       "      <td>866162</td>\n",
       "      <td>38.313868</td>\n",
       "    </tr>\n",
       "    <tr>\n",
       "      <th>open_rv_12m</th>\n",
       "      <td>866162</td>\n",
       "      <td>38.313868</td>\n",
       "    </tr>\n",
       "    <tr>\n",
       "      <th>open_il_24m</th>\n",
       "      <td>866162</td>\n",
       "      <td>38.313868</td>\n",
       "    </tr>\n",
       "    <tr>\n",
       "      <th>open_il_12m</th>\n",
       "      <td>866162</td>\n",
       "      <td>38.313868</td>\n",
       "    </tr>\n",
       "    <tr>\n",
       "      <th>open_act_il</th>\n",
       "      <td>866162</td>\n",
       "      <td>38.313868</td>\n",
       "    </tr>\n",
       "    <tr>\n",
       "      <th>total_bal_il</th>\n",
       "      <td>866162</td>\n",
       "      <td>38.313868</td>\n",
       "    </tr>\n",
       "    <tr>\n",
       "      <th>open_acc_6m</th>\n",
       "      <td>866163</td>\n",
       "      <td>38.313912</td>\n",
       "    </tr>\n",
       "    <tr>\n",
       "      <th>total_cu_tl</th>\n",
       "      <td>866163</td>\n",
       "      <td>38.313912</td>\n",
       "    </tr>\n",
       "    <tr>\n",
       "      <th>inq_last_12m</th>\n",
       "      <td>866163</td>\n",
       "      <td>38.313912</td>\n",
       "    </tr>\n",
       "    <tr>\n",
       "      <th>all_util</th>\n",
       "      <td>866381</td>\n",
       "      <td>38.323555</td>\n",
       "    </tr>\n",
       "    <tr>\n",
       "      <th>mths_since_rcnt_il</th>\n",
       "      <td>909957</td>\n",
       "      <td>40.251099</td>\n",
       "    </tr>\n",
       "    <tr>\n",
       "      <th>il_util</th>\n",
       "      <td>1068883</td>\n",
       "      <td>47.281042</td>\n",
       "    </tr>\n",
       "    <tr>\n",
       "      <th>mths_since_last_delinq</th>\n",
       "      <td>1158535</td>\n",
       "      <td>51.246715</td>\n",
       "    </tr>\n",
       "    <tr>\n",
       "      <th>next_pymnt_d</th>\n",
       "      <td>1345343</td>\n",
       "      <td>59.509993</td>\n",
       "    </tr>\n",
       "    <tr>\n",
       "      <th>mths_since_recent_revol_delinq</th>\n",
       "      <td>1520342</td>\n",
       "      <td>67.250910</td>\n",
       "    </tr>\n",
       "    <tr>\n",
       "      <th>mths_since_last_major_derog</th>\n",
       "      <td>1679926</td>\n",
       "      <td>74.309960</td>\n",
       "    </tr>\n",
       "    <tr>\n",
       "      <th>mths_since_recent_bc_dlq</th>\n",
       "      <td>1741000</td>\n",
       "      <td>77.011511</td>\n",
       "    </tr>\n",
       "    <tr>\n",
       "      <th>mths_since_last_record</th>\n",
       "      <td>1901545</td>\n",
       "      <td>84.113069</td>\n",
       "    </tr>\n",
       "    <tr>\n",
       "      <th>desc</th>\n",
       "      <td>2134634</td>\n",
       "      <td>94.423544</td>\n",
       "    </tr>\n",
       "    <tr>\n",
       "      <th>annual_inc_joint</th>\n",
       "      <td>2139991</td>\n",
       "      <td>94.660506</td>\n",
       "    </tr>\n",
       "    <tr>\n",
       "      <th>dti_joint</th>\n",
       "      <td>2139995</td>\n",
       "      <td>94.660683</td>\n",
       "    </tr>\n",
       "    <tr>\n",
       "      <th>verification_status_joint</th>\n",
       "      <td>2144971</td>\n",
       "      <td>94.880791</td>\n",
       "    </tr>\n",
       "    <tr>\n",
       "      <th>sec_app_open_acc</th>\n",
       "      <td>2152680</td>\n",
       "      <td>95.221792</td>\n",
       "    </tr>\n",
       "    <tr>\n",
       "      <th>sec_app_chargeoff_within_12_mths</th>\n",
       "      <td>2152680</td>\n",
       "      <td>95.221792</td>\n",
       "    </tr>\n",
       "    <tr>\n",
       "      <th>sec_app_num_rev_accts</th>\n",
       "      <td>2152680</td>\n",
       "      <td>95.221792</td>\n",
       "    </tr>\n",
       "    <tr>\n",
       "      <th>sec_app_open_act_il</th>\n",
       "      <td>2152680</td>\n",
       "      <td>95.221792</td>\n",
       "    </tr>\n",
       "    <tr>\n",
       "      <th>sec_app_collections_12_mths_ex_med</th>\n",
       "      <td>2152680</td>\n",
       "      <td>95.221792</td>\n",
       "    </tr>\n",
       "    <tr>\n",
       "      <th>sec_app_mort_acc</th>\n",
       "      <td>2152680</td>\n",
       "      <td>95.221792</td>\n",
       "    </tr>\n",
       "    <tr>\n",
       "      <th>sec_app_earliest_cr_line</th>\n",
       "      <td>2152680</td>\n",
       "      <td>95.221792</td>\n",
       "    </tr>\n",
       "    <tr>\n",
       "      <th>sec_app_fico_range_high</th>\n",
       "      <td>2152680</td>\n",
       "      <td>95.221792</td>\n",
       "    </tr>\n",
       "    <tr>\n",
       "      <th>sec_app_fico_range_low</th>\n",
       "      <td>2152680</td>\n",
       "      <td>95.221792</td>\n",
       "    </tr>\n",
       "    <tr>\n",
       "      <th>sec_app_inq_last_6mths</th>\n",
       "      <td>2152680</td>\n",
       "      <td>95.221792</td>\n",
       "    </tr>\n",
       "    <tr>\n",
       "      <th>revol_bal_joint</th>\n",
       "      <td>2152681</td>\n",
       "      <td>95.221836</td>\n",
       "    </tr>\n",
       "    <tr>\n",
       "      <th>sec_app_revol_util</th>\n",
       "      <td>2154517</td>\n",
       "      <td>95.303050</td>\n",
       "    </tr>\n",
       "    <tr>\n",
       "      <th>sec_app_mths_since_last_major_derog</th>\n",
       "      <td>2224759</td>\n",
       "      <td>98.410139</td>\n",
       "    </tr>\n",
       "    <tr>\n",
       "      <th>settlement_amount</th>\n",
       "      <td>2226455</td>\n",
       "      <td>98.485160</td>\n",
       "    </tr>\n",
       "    <tr>\n",
       "      <th>settlement_status</th>\n",
       "      <td>2226455</td>\n",
       "      <td>98.485160</td>\n",
       "    </tr>\n",
       "    <tr>\n",
       "      <th>settlement_date</th>\n",
       "      <td>2226455</td>\n",
       "      <td>98.485160</td>\n",
       "    </tr>\n",
       "    <tr>\n",
       "      <th>debt_settlement_flag_date</th>\n",
       "      <td>2226455</td>\n",
       "      <td>98.485160</td>\n",
       "    </tr>\n",
       "    <tr>\n",
       "      <th>settlement_term</th>\n",
       "      <td>2226455</td>\n",
       "      <td>98.485160</td>\n",
       "    </tr>\n",
       "    <tr>\n",
       "      <th>settlement_percentage</th>\n",
       "      <td>2226455</td>\n",
       "      <td>98.485160</td>\n",
       "    </tr>\n",
       "    <tr>\n",
       "      <th>hardship_amount</th>\n",
       "      <td>2249784</td>\n",
       "      <td>99.517097</td>\n",
       "    </tr>\n",
       "    <tr>\n",
       "      <th>hardship_start_date</th>\n",
       "      <td>2249784</td>\n",
       "      <td>99.517097</td>\n",
       "    </tr>\n",
       "    <tr>\n",
       "      <th>hardship_end_date</th>\n",
       "      <td>2249784</td>\n",
       "      <td>99.517097</td>\n",
       "    </tr>\n",
       "    <tr>\n",
       "      <th>payment_plan_start_date</th>\n",
       "      <td>2249784</td>\n",
       "      <td>99.517097</td>\n",
       "    </tr>\n",
       "    <tr>\n",
       "      <th>hardship_length</th>\n",
       "      <td>2249784</td>\n",
       "      <td>99.517097</td>\n",
       "    </tr>\n",
       "    <tr>\n",
       "      <th>hardship_dpd</th>\n",
       "      <td>2249784</td>\n",
       "      <td>99.517097</td>\n",
       "    </tr>\n",
       "    <tr>\n",
       "      <th>hardship_loan_status</th>\n",
       "      <td>2249784</td>\n",
       "      <td>99.517097</td>\n",
       "    </tr>\n",
       "    <tr>\n",
       "      <th>hardship_payoff_balance_amount</th>\n",
       "      <td>2249784</td>\n",
       "      <td>99.517097</td>\n",
       "    </tr>\n",
       "    <tr>\n",
       "      <th>hardship_last_payment_amount</th>\n",
       "      <td>2249784</td>\n",
       "      <td>99.517097</td>\n",
       "    </tr>\n",
       "    <tr>\n",
       "      <th>hardship_status</th>\n",
       "      <td>2249784</td>\n",
       "      <td>99.517097</td>\n",
       "    </tr>\n",
       "    <tr>\n",
       "      <th>hardship_reason</th>\n",
       "      <td>2249784</td>\n",
       "      <td>99.517097</td>\n",
       "    </tr>\n",
       "    <tr>\n",
       "      <th>hardship_type</th>\n",
       "      <td>2249784</td>\n",
       "      <td>99.517097</td>\n",
       "    </tr>\n",
       "    <tr>\n",
       "      <th>deferral_term</th>\n",
       "      <td>2249784</td>\n",
       "      <td>99.517097</td>\n",
       "    </tr>\n",
       "    <tr>\n",
       "      <th>orig_projected_additional_accrued_interest</th>\n",
       "      <td>2252050</td>\n",
       "      <td>99.617331</td>\n",
       "    </tr>\n",
       "    <tr>\n",
       "      <th>member_id</th>\n",
       "      <td>2260701</td>\n",
       "      <td>100.000000</td>\n",
       "    </tr>\n",
       "  </tbody>\n",
       "</table>\n",
       "</div>"
      ],
      "text/plain": [
       "                                              Count           %\n",
       "inq_fi                                       866162   38.313868\n",
       "max_bal_bc                                   866162   38.313868\n",
       "open_rv_24m                                  866162   38.313868\n",
       "open_rv_12m                                  866162   38.313868\n",
       "open_il_24m                                  866162   38.313868\n",
       "open_il_12m                                  866162   38.313868\n",
       "open_act_il                                  866162   38.313868\n",
       "total_bal_il                                 866162   38.313868\n",
       "open_acc_6m                                  866163   38.313912\n",
       "total_cu_tl                                  866163   38.313912\n",
       "inq_last_12m                                 866163   38.313912\n",
       "all_util                                     866381   38.323555\n",
       "mths_since_rcnt_il                           909957   40.251099\n",
       "il_util                                     1068883   47.281042\n",
       "mths_since_last_delinq                      1158535   51.246715\n",
       "next_pymnt_d                                1345343   59.509993\n",
       "mths_since_recent_revol_delinq              1520342   67.250910\n",
       "mths_since_last_major_derog                 1679926   74.309960\n",
       "mths_since_recent_bc_dlq                    1741000   77.011511\n",
       "mths_since_last_record                      1901545   84.113069\n",
       "desc                                        2134634   94.423544\n",
       "annual_inc_joint                            2139991   94.660506\n",
       "dti_joint                                   2139995   94.660683\n",
       "verification_status_joint                   2144971   94.880791\n",
       "sec_app_open_acc                            2152680   95.221792\n",
       "sec_app_chargeoff_within_12_mths            2152680   95.221792\n",
       "sec_app_num_rev_accts                       2152680   95.221792\n",
       "sec_app_open_act_il                         2152680   95.221792\n",
       "sec_app_collections_12_mths_ex_med          2152680   95.221792\n",
       "sec_app_mort_acc                            2152680   95.221792\n",
       "sec_app_earliest_cr_line                    2152680   95.221792\n",
       "sec_app_fico_range_high                     2152680   95.221792\n",
       "sec_app_fico_range_low                      2152680   95.221792\n",
       "sec_app_inq_last_6mths                      2152680   95.221792\n",
       "revol_bal_joint                             2152681   95.221836\n",
       "sec_app_revol_util                          2154517   95.303050\n",
       "sec_app_mths_since_last_major_derog         2224759   98.410139\n",
       "settlement_amount                           2226455   98.485160\n",
       "settlement_status                           2226455   98.485160\n",
       "settlement_date                             2226455   98.485160\n",
       "debt_settlement_flag_date                   2226455   98.485160\n",
       "settlement_term                             2226455   98.485160\n",
       "settlement_percentage                       2226455   98.485160\n",
       "hardship_amount                             2249784   99.517097\n",
       "hardship_start_date                         2249784   99.517097\n",
       "hardship_end_date                           2249784   99.517097\n",
       "payment_plan_start_date                     2249784   99.517097\n",
       "hardship_length                             2249784   99.517097\n",
       "hardship_dpd                                2249784   99.517097\n",
       "hardship_loan_status                        2249784   99.517097\n",
       "hardship_payoff_balance_amount              2249784   99.517097\n",
       "hardship_last_payment_amount                2249784   99.517097\n",
       "hardship_status                             2249784   99.517097\n",
       "hardship_reason                             2249784   99.517097\n",
       "hardship_type                               2249784   99.517097\n",
       "deferral_term                               2249784   99.517097\n",
       "orig_projected_additional_accrued_interest  2252050   99.617331\n",
       "member_id                                   2260701  100.000000"
      ]
     },
     "execution_count": 8,
     "metadata": {},
     "output_type": "execute_result"
    }
   ],
   "source": [
    "missing[missing['%']>30].sort_values('%')"
   ]
  },
  {
   "cell_type": "markdown",
   "id": "ab1af4b2",
   "metadata": {},
   "source": [
    "We see some columns have more than 90% missing values. They are almost empty! Let's see how many columns have more than 30% missing values."
   ]
  },
  {
   "cell_type": "code",
   "execution_count": 9,
   "id": "7db16634",
   "metadata": {},
   "outputs": [
    {
     "data": {
      "text/plain": [
       "Count    58\n",
       "%        58\n",
       "dtype: int64"
      ]
     },
     "execution_count": 9,
     "metadata": {},
     "output_type": "execute_result"
    }
   ],
   "source": [
    "missing[missing['%']>30].count()"
   ]
  },
  {
   "cell_type": "markdown",
   "id": "4d6de46e",
   "metadata": {},
   "source": [
    "It shows that there are 58 columns have more than 30% missing values, a little bit more than 1/3 of total columns. So let's drop those columns out of our data."
   ]
  },
  {
   "cell_type": "code",
   "execution_count": 10,
   "id": "6d0f74c9",
   "metadata": {},
   "outputs": [],
   "source": [
    "drop_columns_1 = missing[missing['%']>30].index"
   ]
  },
  {
   "cell_type": "code",
   "execution_count": 11,
   "id": "e693422e",
   "metadata": {},
   "outputs": [
    {
     "data": {
      "text/plain": [
       "58"
      ]
     },
     "execution_count": 11,
     "metadata": {},
     "output_type": "execute_result"
    }
   ],
   "source": [
    "len(drop_columns_1)"
   ]
  },
  {
   "cell_type": "code",
   "execution_count": 12,
   "id": "956fc82b",
   "metadata": {},
   "outputs": [],
   "source": [
    "data_lc = data_lc.drop(columns = drop_columns_1)"
   ]
  },
  {
   "cell_type": "markdown",
   "id": "0c5a06b6",
   "metadata": {},
   "source": [
    "Let's have a look how much data was left."
   ]
  },
  {
   "cell_type": "code",
   "execution_count": 13,
   "id": "54eb0491",
   "metadata": {},
   "outputs": [
    {
     "data": {
      "text/plain": [
       "(2260701, 93)"
      ]
     },
     "execution_count": 13,
     "metadata": {},
     "output_type": "execute_result"
    }
   ],
   "source": [
    "data_lc.shape"
   ]
  },
  {
   "cell_type": "markdown",
   "id": "f0c12a6b",
   "metadata": {},
   "source": [
    "We would like to list remaining columns."
   ]
  },
  {
   "cell_type": "code",
   "execution_count": 14,
   "id": "2e9e1a0b",
   "metadata": {
    "scrolled": true
   },
   "outputs": [
    {
     "data": {
      "text/plain": [
       "Index(['id', 'loan_amnt', 'funded_amnt', 'funded_amnt_inv', 'term', 'int_rate',\n",
       "       'installment', 'grade', 'sub_grade', 'emp_title', 'emp_length',\n",
       "       'home_ownership', 'annual_inc', 'verification_status', 'issue_d',\n",
       "       'loan_status', 'pymnt_plan', 'url', 'purpose', 'title', 'zip_code',\n",
       "       'addr_state', 'dti', 'delinq_2yrs', 'earliest_cr_line',\n",
       "       'fico_range_low', 'fico_range_high', 'inq_last_6mths', 'open_acc',\n",
       "       'pub_rec', 'revol_bal', 'revol_util', 'total_acc',\n",
       "       'initial_list_status', 'out_prncp', 'out_prncp_inv', 'total_pymnt',\n",
       "       'total_pymnt_inv', 'total_rec_prncp', 'total_rec_int',\n",
       "       'total_rec_late_fee', 'recoveries', 'collection_recovery_fee',\n",
       "       'last_pymnt_d', 'last_pymnt_amnt', 'last_credit_pull_d',\n",
       "       'last_fico_range_high', 'last_fico_range_low',\n",
       "       'collections_12_mths_ex_med', 'policy_code', 'application_type',\n",
       "       'acc_now_delinq', 'tot_coll_amt', 'tot_cur_bal', 'total_rev_hi_lim',\n",
       "       'acc_open_past_24mths', 'avg_cur_bal', 'bc_open_to_buy', 'bc_util',\n",
       "       'chargeoff_within_12_mths', 'delinq_amnt', 'mo_sin_old_il_acct',\n",
       "       'mo_sin_old_rev_tl_op', 'mo_sin_rcnt_rev_tl_op', 'mo_sin_rcnt_tl',\n",
       "       'mort_acc', 'mths_since_recent_bc', 'mths_since_recent_inq',\n",
       "       'num_accts_ever_120_pd', 'num_actv_bc_tl', 'num_actv_rev_tl',\n",
       "       'num_bc_sats', 'num_bc_tl', 'num_il_tl', 'num_op_rev_tl',\n",
       "       'num_rev_accts', 'num_rev_tl_bal_gt_0', 'num_sats', 'num_tl_120dpd_2m',\n",
       "       'num_tl_30dpd', 'num_tl_90g_dpd_24m', 'num_tl_op_past_12m',\n",
       "       'pct_tl_nvr_dlq', 'percent_bc_gt_75', 'pub_rec_bankruptcies',\n",
       "       'tax_liens', 'tot_hi_cred_lim', 'total_bal_ex_mort', 'total_bc_limit',\n",
       "       'total_il_high_credit_limit', 'hardship_flag', 'disbursement_method',\n",
       "       'debt_settlement_flag'],\n",
       "      dtype='object')"
      ]
     },
     "execution_count": 14,
     "metadata": {},
     "output_type": "execute_result"
    }
   ],
   "source": [
    "data_lc.columns"
   ]
  },
  {
   "cell_type": "markdown",
   "id": "601e81c5",
   "metadata": {},
   "source": [
    "# 3. Remove columns high correlated with other columns"
   ]
  },
  {
   "cell_type": "markdown",
   "id": "bd7f33d5",
   "metadata": {},
   "source": [
    "We believe that there might be high correlation between some columns. For those high correlated columns, they have similiar impact to our prediction. So we do not need to keep all of them. So we will remove those columns to make our model simpler."
   ]
  },
  {
   "cell_type": "code",
   "execution_count": 15,
   "id": "42e57d7c",
   "metadata": {},
   "outputs": [],
   "source": [
    "cor = data_lc.corr().abs()\n",
    "unstack_corr = cor.unstack()\n",
    "pairs = unstack_corr.sort_values(ascending=False)\n",
    "\n",
    "corr_pairs = pd.DataFrame(pairs).drop_duplicates().reset_index()\n",
    "corr_pairs.columns = ['feature1', 'feature2', 'corr']"
   ]
  },
  {
   "cell_type": "code",
   "execution_count": 16,
   "id": "4cc7b850",
   "metadata": {},
   "outputs": [
    {
     "data": {
      "text/html": [
       "<div>\n",
       "<style scoped>\n",
       "    .dataframe tbody tr th:only-of-type {\n",
       "        vertical-align: middle;\n",
       "    }\n",
       "\n",
       "    .dataframe tbody tr th {\n",
       "        vertical-align: top;\n",
       "    }\n",
       "\n",
       "    .dataframe thead th {\n",
       "        text-align: right;\n",
       "    }\n",
       "</style>\n",
       "<table border=\"1\" class=\"dataframe\">\n",
       "  <thead>\n",
       "    <tr style=\"text-align: right;\">\n",
       "      <th></th>\n",
       "      <th>feature1</th>\n",
       "      <th>feature2</th>\n",
       "      <th>corr</th>\n",
       "    </tr>\n",
       "  </thead>\n",
       "  <tbody>\n",
       "    <tr>\n",
       "      <th>0</th>\n",
       "      <td>loan_amnt</td>\n",
       "      <td>loan_amnt</td>\n",
       "      <td>1.000000</td>\n",
       "    </tr>\n",
       "    <tr>\n",
       "      <th>1</th>\n",
       "      <td>fico_range_low</td>\n",
       "      <td>fico_range_high</td>\n",
       "      <td>1.000000</td>\n",
       "    </tr>\n",
       "    <tr>\n",
       "      <th>2</th>\n",
       "      <td>out_prncp_inv</td>\n",
       "      <td>out_prncp</td>\n",
       "      <td>0.999999</td>\n",
       "    </tr>\n",
       "    <tr>\n",
       "      <th>3</th>\n",
       "      <td>loan_amnt</td>\n",
       "      <td>funded_amnt</td>\n",
       "      <td>0.999755</td>\n",
       "    </tr>\n",
       "    <tr>\n",
       "      <th>4</th>\n",
       "      <td>total_pymnt_inv</td>\n",
       "      <td>total_pymnt</td>\n",
       "      <td>0.999396</td>\n",
       "    </tr>\n",
       "    <tr>\n",
       "      <th>5</th>\n",
       "      <td>funded_amnt_inv</td>\n",
       "      <td>funded_amnt</td>\n",
       "      <td>0.999341</td>\n",
       "    </tr>\n",
       "    <tr>\n",
       "      <th>6</th>\n",
       "      <td>loan_amnt</td>\n",
       "      <td>funded_amnt_inv</td>\n",
       "      <td>0.999038</td>\n",
       "    </tr>\n",
       "    <tr>\n",
       "      <th>7</th>\n",
       "      <td>open_acc</td>\n",
       "      <td>num_sats</td>\n",
       "      <td>0.998966</td>\n",
       "    </tr>\n",
       "    <tr>\n",
       "      <th>8</th>\n",
       "      <td>num_actv_rev_tl</td>\n",
       "      <td>num_rev_tl_bal_gt_0</td>\n",
       "      <td>0.983638</td>\n",
       "    </tr>\n",
       "    <tr>\n",
       "      <th>9</th>\n",
       "      <td>tot_hi_cred_lim</td>\n",
       "      <td>tot_cur_bal</td>\n",
       "      <td>0.975582</td>\n",
       "    </tr>\n",
       "    <tr>\n",
       "      <th>10</th>\n",
       "      <td>recoveries</td>\n",
       "      <td>collection_recovery_fee</td>\n",
       "      <td>0.970702</td>\n",
       "    </tr>\n",
       "    <tr>\n",
       "      <th>11</th>\n",
       "      <td>total_pymnt</td>\n",
       "      <td>total_rec_prncp</td>\n",
       "      <td>0.966222</td>\n",
       "    </tr>\n",
       "    <tr>\n",
       "      <th>12</th>\n",
       "      <td>total_rec_prncp</td>\n",
       "      <td>total_pymnt_inv</td>\n",
       "      <td>0.965596</td>\n",
       "    </tr>\n",
       "    <tr>\n",
       "      <th>13</th>\n",
       "      <td>installment</td>\n",
       "      <td>funded_amnt</td>\n",
       "      <td>0.945967</td>\n",
       "    </tr>\n",
       "    <tr>\n",
       "      <th>14</th>\n",
       "      <td>loan_amnt</td>\n",
       "      <td>installment</td>\n",
       "      <td>0.945625</td>\n",
       "    </tr>\n",
       "    <tr>\n",
       "      <th>15</th>\n",
       "      <td>funded_amnt_inv</td>\n",
       "      <td>installment</td>\n",
       "      <td>0.945118</td>\n",
       "    </tr>\n",
       "    <tr>\n",
       "      <th>16</th>\n",
       "      <td>total_bal_ex_mort</td>\n",
       "      <td>total_il_high_credit_limit</td>\n",
       "      <td>0.877179</td>\n",
       "    </tr>\n",
       "    <tr>\n",
       "      <th>17</th>\n",
       "      <td>bc_util</td>\n",
       "      <td>revol_util</td>\n",
       "      <td>0.868537</td>\n",
       "    </tr>\n",
       "    <tr>\n",
       "      <th>18</th>\n",
       "      <td>bc_util</td>\n",
       "      <td>percent_bc_gt_75</td>\n",
       "      <td>0.846756</td>\n",
       "    </tr>\n",
       "    <tr>\n",
       "      <th>19</th>\n",
       "      <td>last_fico_range_low</td>\n",
       "      <td>last_fico_range_high</td>\n",
       "      <td>0.845777</td>\n",
       "    </tr>\n",
       "    <tr>\n",
       "      <th>20</th>\n",
       "      <td>bc_open_to_buy</td>\n",
       "      <td>total_bc_limit</td>\n",
       "      <td>0.843734</td>\n",
       "    </tr>\n",
       "    <tr>\n",
       "      <th>21</th>\n",
       "      <td>num_rev_accts</td>\n",
       "      <td>num_bc_tl</td>\n",
       "      <td>0.839885</td>\n",
       "    </tr>\n",
       "    <tr>\n",
       "      <th>22</th>\n",
       "      <td>num_actv_bc_tl</td>\n",
       "      <td>num_bc_sats</td>\n",
       "      <td>0.837931</td>\n",
       "    </tr>\n",
       "    <tr>\n",
       "      <th>23</th>\n",
       "      <td>num_op_rev_tl</td>\n",
       "      <td>open_acc</td>\n",
       "      <td>0.837650</td>\n",
       "    </tr>\n",
       "    <tr>\n",
       "      <th>24</th>\n",
       "      <td>num_sats</td>\n",
       "      <td>num_op_rev_tl</td>\n",
       "      <td>0.836870</td>\n",
       "    </tr>\n",
       "    <tr>\n",
       "      <th>25</th>\n",
       "      <td>tot_cur_bal</td>\n",
       "      <td>avg_cur_bal</td>\n",
       "      <td>0.828210</td>\n",
       "    </tr>\n",
       "    <tr>\n",
       "      <th>26</th>\n",
       "      <td>num_actv_rev_tl</td>\n",
       "      <td>num_actv_bc_tl</td>\n",
       "      <td>0.820956</td>\n",
       "    </tr>\n",
       "    <tr>\n",
       "      <th>27</th>\n",
       "      <td>num_actv_bc_tl</td>\n",
       "      <td>num_rev_tl_bal_gt_0</td>\n",
       "      <td>0.814382</td>\n",
       "    </tr>\n",
       "    <tr>\n",
       "      <th>28</th>\n",
       "      <td>total_rev_hi_lim</td>\n",
       "      <td>revol_bal</td>\n",
       "      <td>0.804219</td>\n",
       "    </tr>\n",
       "    <tr>\n",
       "      <th>29</th>\n",
       "      <td>num_op_rev_tl</td>\n",
       "      <td>num_rev_tl_bal_gt_0</td>\n",
       "      <td>0.802770</td>\n",
       "    </tr>\n",
       "    <tr>\n",
       "      <th>30</th>\n",
       "      <td>num_tl_30dpd</td>\n",
       "      <td>acc_now_delinq</td>\n",
       "      <td>0.801804</td>\n",
       "    </tr>\n",
       "  </tbody>\n",
       "</table>\n",
       "</div>"
      ],
      "text/plain": [
       "               feature1                    feature2      corr\n",
       "0             loan_amnt                   loan_amnt  1.000000\n",
       "1        fico_range_low             fico_range_high  1.000000\n",
       "2         out_prncp_inv                   out_prncp  0.999999\n",
       "3             loan_amnt                 funded_amnt  0.999755\n",
       "4       total_pymnt_inv                 total_pymnt  0.999396\n",
       "5       funded_amnt_inv                 funded_amnt  0.999341\n",
       "6             loan_amnt             funded_amnt_inv  0.999038\n",
       "7              open_acc                    num_sats  0.998966\n",
       "8       num_actv_rev_tl         num_rev_tl_bal_gt_0  0.983638\n",
       "9       tot_hi_cred_lim                 tot_cur_bal  0.975582\n",
       "10           recoveries     collection_recovery_fee  0.970702\n",
       "11          total_pymnt             total_rec_prncp  0.966222\n",
       "12      total_rec_prncp             total_pymnt_inv  0.965596\n",
       "13          installment                 funded_amnt  0.945967\n",
       "14            loan_amnt                 installment  0.945625\n",
       "15      funded_amnt_inv                 installment  0.945118\n",
       "16    total_bal_ex_mort  total_il_high_credit_limit  0.877179\n",
       "17              bc_util                  revol_util  0.868537\n",
       "18              bc_util            percent_bc_gt_75  0.846756\n",
       "19  last_fico_range_low        last_fico_range_high  0.845777\n",
       "20       bc_open_to_buy              total_bc_limit  0.843734\n",
       "21        num_rev_accts                   num_bc_tl  0.839885\n",
       "22       num_actv_bc_tl                 num_bc_sats  0.837931\n",
       "23        num_op_rev_tl                    open_acc  0.837650\n",
       "24             num_sats               num_op_rev_tl  0.836870\n",
       "25          tot_cur_bal                 avg_cur_bal  0.828210\n",
       "26      num_actv_rev_tl              num_actv_bc_tl  0.820956\n",
       "27       num_actv_bc_tl         num_rev_tl_bal_gt_0  0.814382\n",
       "28     total_rev_hi_lim                   revol_bal  0.804219\n",
       "29        num_op_rev_tl         num_rev_tl_bal_gt_0  0.802770\n",
       "30         num_tl_30dpd              acc_now_delinq  0.801804"
      ]
     },
     "execution_count": 16,
     "metadata": {},
     "output_type": "execute_result"
    }
   ],
   "source": [
    "corr_pairs[corr_pairs['corr']>0.8]"
   ]
  },
  {
   "cell_type": "markdown",
   "id": "097e560e",
   "metadata": {},
   "source": [
    "Now let's drop columns with more than 0.8 correlation with other columns."
   ]
  },
  {
   "cell_type": "code",
   "execution_count": 17,
   "id": "5513554d",
   "metadata": {},
   "outputs": [],
   "source": [
    "drop_columns_2 = ['fico_range_low','out_prncp_inv','funded_amnt','total_pymnt_inv','funded_amnt_inv','open_acc',\n",
    "                  'num_rev_tl_bal_gt_0','tot_cur_bal','collection_recovery_fee','total_rec_prncp','installment',\n",
    "                  'total_il_high_credit_limit','bc_util','last_fico_range_high','bc_open_to_buy','num_rev_accts',\n",
    "                  'num_bc_sats','num_op_rev_tl','avg_cur_bal','num_actv_rev_tl','total_rev_hi_lim',\n",
    "                  'num_rev_tl_bal_gt_0','num_tl_30dpd']"
   ]
  },
  {
   "cell_type": "code",
   "execution_count": 18,
   "id": "20cb15c2",
   "metadata": {},
   "outputs": [
    {
     "data": {
      "text/plain": [
       "23"
      ]
     },
     "execution_count": 18,
     "metadata": {},
     "output_type": "execute_result"
    }
   ],
   "source": [
    "len(drop_columns_2)"
   ]
  },
  {
   "cell_type": "code",
   "execution_count": 19,
   "id": "e0c72897",
   "metadata": {},
   "outputs": [],
   "source": [
    "data_lc = data_lc.drop(columns = drop_columns_2)"
   ]
  },
  {
   "cell_type": "code",
   "execution_count": 20,
   "id": "9835fc0e",
   "metadata": {},
   "outputs": [
    {
     "name": "stdout",
     "output_type": "stream",
     "text": [
      "<class 'pandas.core.frame.DataFrame'>\n",
      "RangeIndex: 2260701 entries, 0 to 2260700\n",
      "Data columns (total 71 columns):\n",
      " #   Column                      Dtype  \n",
      "---  ------                      -----  \n",
      " 0   id                          object \n",
      " 1   loan_amnt                   float64\n",
      " 2   term                        object \n",
      " 3   int_rate                    float64\n",
      " 4   grade                       object \n",
      " 5   sub_grade                   object \n",
      " 6   emp_title                   object \n",
      " 7   emp_length                  object \n",
      " 8   home_ownership              object \n",
      " 9   annual_inc                  float64\n",
      " 10  verification_status         object \n",
      " 11  issue_d                     object \n",
      " 12  loan_status                 object \n",
      " 13  pymnt_plan                  object \n",
      " 14  url                         object \n",
      " 15  purpose                     object \n",
      " 16  title                       object \n",
      " 17  zip_code                    object \n",
      " 18  addr_state                  object \n",
      " 19  dti                         float64\n",
      " 20  delinq_2yrs                 float64\n",
      " 21  earliest_cr_line            object \n",
      " 22  fico_range_high             float64\n",
      " 23  inq_last_6mths              float64\n",
      " 24  pub_rec                     float64\n",
      " 25  revol_bal                   float64\n",
      " 26  revol_util                  float64\n",
      " 27  total_acc                   float64\n",
      " 28  initial_list_status         object \n",
      " 29  out_prncp                   float64\n",
      " 30  total_pymnt                 float64\n",
      " 31  total_rec_int               float64\n",
      " 32  total_rec_late_fee          float64\n",
      " 33  recoveries                  float64\n",
      " 34  last_pymnt_d                object \n",
      " 35  last_pymnt_amnt             float64\n",
      " 36  last_credit_pull_d          object \n",
      " 37  last_fico_range_low         float64\n",
      " 38  collections_12_mths_ex_med  float64\n",
      " 39  policy_code                 float64\n",
      " 40  application_type            object \n",
      " 41  acc_now_delinq              float64\n",
      " 42  tot_coll_amt                float64\n",
      " 43  acc_open_past_24mths        float64\n",
      " 44  chargeoff_within_12_mths    float64\n",
      " 45  delinq_amnt                 float64\n",
      " 46  mo_sin_old_il_acct          float64\n",
      " 47  mo_sin_old_rev_tl_op        float64\n",
      " 48  mo_sin_rcnt_rev_tl_op       float64\n",
      " 49  mo_sin_rcnt_tl              float64\n",
      " 50  mort_acc                    float64\n",
      " 51  mths_since_recent_bc        float64\n",
      " 52  mths_since_recent_inq       float64\n",
      " 53  num_accts_ever_120_pd       float64\n",
      " 54  num_actv_bc_tl              float64\n",
      " 55  num_bc_tl                   float64\n",
      " 56  num_il_tl                   float64\n",
      " 57  num_sats                    float64\n",
      " 58  num_tl_120dpd_2m            float64\n",
      " 59  num_tl_90g_dpd_24m          float64\n",
      " 60  num_tl_op_past_12m          float64\n",
      " 61  pct_tl_nvr_dlq              float64\n",
      " 62  percent_bc_gt_75            float64\n",
      " 63  pub_rec_bankruptcies        float64\n",
      " 64  tax_liens                   float64\n",
      " 65  tot_hi_cred_lim             float64\n",
      " 66  total_bal_ex_mort           float64\n",
      " 67  total_bc_limit              float64\n",
      " 68  hardship_flag               object \n",
      " 69  disbursement_method         object \n",
      " 70  debt_settlement_flag        object \n",
      "dtypes: float64(47), object(24)\n",
      "memory usage: 1.2+ GB\n"
     ]
    }
   ],
   "source": [
    "data_lc.info()"
   ]
  },
  {
   "cell_type": "markdown",
   "id": "fe15596e",
   "metadata": {},
   "source": [
    "# 4. Drop columns with poor correlation to target variable"
   ]
  },
  {
   "cell_type": "markdown",
   "id": "8dac721b",
   "metadata": {},
   "source": [
    "Now we would like to continue to remove a few more columns. Since our target is column 'loan_status', we would like \n",
    "to see the correlations between column 'loan_status' and all other numerical columns, and remove those with poor correlation."
   ]
  },
  {
   "cell_type": "markdown",
   "id": "4b50d453",
   "metadata": {},
   "source": [
    "First let's have a close look at the column 'loan_status'."
   ]
  },
  {
   "cell_type": "code",
   "execution_count": 21,
   "id": "a6c62730",
   "metadata": {},
   "outputs": [
    {
     "data": {
      "text/plain": [
       "Fully Paid                                             1076751\n",
       "Current                                                 878317\n",
       "Charged Off                                             268559\n",
       "Late (31-120 days)                                       21467\n",
       "In Grace Period                                           8436\n",
       "Late (16-30 days)                                         4349\n",
       "Does not meet the credit policy. Status:Fully Paid        1988\n",
       "Does not meet the credit policy. Status:Charged Off        761\n",
       "Default                                                     40\n",
       "Name: loan_status, dtype: int64"
      ]
     },
     "execution_count": 21,
     "metadata": {},
     "output_type": "execute_result"
    }
   ],
   "source": [
    "# count values for column 'loan_status'\n",
    "data_lc['loan_status'].value_counts()"
   ]
  },
  {
   "cell_type": "markdown",
   "id": "6ad73686",
   "metadata": {},
   "source": [
    "We would like to change \"Does not meet the credit policy. Status:Fully Paid\" to \"Fully Paid\", and \"Does not meet \n",
    "the credit policy. Status:Charged Off\" to \"Charged Off\". We will also change \"Default\" to \"Charged off\". Rows with other values in this column will be removed.\n",
    "There are large amount of loans with status \"current\", which means the payment is on going well and we don't know if\n",
    "they will be fully paid or charged off. They are of no use to our model so we will remove those rows."
   ]
  },
  {
   "cell_type": "code",
   "execution_count": 22,
   "id": "a57c1250",
   "metadata": {},
   "outputs": [],
   "source": [
    "data_lc['loan_status'].replace('Does not meet the credit policy. Status:Fully Paid', 'Fully Paid',inplace=True)\n",
    "data_lc['loan_status'].replace('Does not meet the credit policy. Status:Charged Off', 'Charged Off',inplace=True)"
   ]
  },
  {
   "cell_type": "code",
   "execution_count": 23,
   "id": "483b14dd",
   "metadata": {},
   "outputs": [
    {
     "data": {
      "text/plain": [
       "Fully Paid            1078739\n",
       "Current                878317\n",
       "Charged Off            269320\n",
       "Late (31-120 days)      21467\n",
       "In Grace Period          8436\n",
       "Late (16-30 days)        4349\n",
       "Default                    40\n",
       "Name: loan_status, dtype: int64"
      ]
     },
     "execution_count": 23,
     "metadata": {},
     "output_type": "execute_result"
    }
   ],
   "source": [
    "data_lc['loan_status'].value_counts()"
   ]
  },
  {
   "cell_type": "code",
   "execution_count": 24,
   "id": "70c37137",
   "metadata": {},
   "outputs": [],
   "source": [
    "data_lc = data_lc[data_lc['loan_status'].isin(['Charged Off','Fully Paid','Default'])]"
   ]
  },
  {
   "cell_type": "code",
   "execution_count": 25,
   "id": "622fb473",
   "metadata": {},
   "outputs": [
    {
     "data": {
      "text/plain": [
       "Fully Paid     1078739\n",
       "Charged Off     269320\n",
       "Default             40\n",
       "Name: loan_status, dtype: int64"
      ]
     },
     "execution_count": 25,
     "metadata": {},
     "output_type": "execute_result"
    }
   ],
   "source": [
    "data_lc['loan_status'].value_counts()"
   ]
  },
  {
   "cell_type": "markdown",
   "id": "e04a809b",
   "metadata": {},
   "source": [
    "We would like to change 'Fully Paid' to 1, and 'Charged Off' and 'Default' to 0, and set them to be categorical."
   ]
  },
  {
   "cell_type": "code",
   "execution_count": 26,
   "id": "4f82399f",
   "metadata": {},
   "outputs": [],
   "source": [
    "data_lc['loan_status'].replace('Fully Paid', 1,inplace=True)\n",
    "data_lc['loan_status'].replace('Charged Off',0,inplace=True)\n",
    "data_lc['loan_status'].replace('Default',0,inplace=True)"
   ]
  },
  {
   "cell_type": "code",
   "execution_count": 27,
   "id": "a9a618c7",
   "metadata": {},
   "outputs": [
    {
     "data": {
      "text/plain": [
       "1    1078739\n",
       "0     269360\n",
       "Name: loan_status, dtype: int64"
      ]
     },
     "execution_count": 27,
     "metadata": {},
     "output_type": "execute_result"
    }
   ],
   "source": [
    "data_lc['loan_status'].value_counts()"
   ]
  },
  {
   "cell_type": "code",
   "execution_count": 28,
   "id": "3c49525d",
   "metadata": {},
   "outputs": [],
   "source": [
    "data_lc['loan_status'] = data_lc['loan_status'].astype('category')"
   ]
  },
  {
   "cell_type": "code",
   "execution_count": 29,
   "id": "1126e695",
   "metadata": {},
   "outputs": [
    {
     "data": {
      "text/plain": [
       "1    1078739\n",
       "0     269360\n",
       "Name: loan_status, dtype: int64"
      ]
     },
     "execution_count": 29,
     "metadata": {},
     "output_type": "execute_result"
    }
   ],
   "source": [
    "data_lc['loan_status'].value_counts()"
   ]
  },
  {
   "cell_type": "code",
   "execution_count": 30,
   "id": "1e83003e",
   "metadata": {},
   "outputs": [
    {
     "data": {
      "text/plain": [
       "count     1348099\n",
       "unique          2\n",
       "top             1\n",
       "freq      1078739\n",
       "Name: loan_status, dtype: int64"
      ]
     },
     "execution_count": 30,
     "metadata": {},
     "output_type": "execute_result"
    }
   ],
   "source": [
    "data_lc['loan_status'].describe()"
   ]
  },
  {
   "cell_type": "markdown",
   "id": "afac8fbc",
   "metadata": {},
   "source": [
    "Let's list the names of columns with numerical values."
   ]
  },
  {
   "cell_type": "code",
   "execution_count": 31,
   "id": "5f1584ef",
   "metadata": {},
   "outputs": [],
   "source": [
    "columns_dtype_is_float = data_lc.select_dtypes('float').columns"
   ]
  },
  {
   "cell_type": "code",
   "execution_count": 32,
   "id": "99f20574",
   "metadata": {},
   "outputs": [
    {
     "data": {
      "text/plain": [
       "Index(['loan_amnt', 'int_rate', 'annual_inc', 'dti', 'delinq_2yrs',\n",
       "       'fico_range_high', 'inq_last_6mths', 'pub_rec', 'revol_bal',\n",
       "       'revol_util', 'total_acc', 'out_prncp', 'total_pymnt', 'total_rec_int',\n",
       "       'total_rec_late_fee', 'recoveries', 'last_pymnt_amnt',\n",
       "       'last_fico_range_low', 'collections_12_mths_ex_med', 'policy_code',\n",
       "       'acc_now_delinq', 'tot_coll_amt', 'acc_open_past_24mths',\n",
       "       'chargeoff_within_12_mths', 'delinq_amnt', 'mo_sin_old_il_acct',\n",
       "       'mo_sin_old_rev_tl_op', 'mo_sin_rcnt_rev_tl_op', 'mo_sin_rcnt_tl',\n",
       "       'mort_acc', 'mths_since_recent_bc', 'mths_since_recent_inq',\n",
       "       'num_accts_ever_120_pd', 'num_actv_bc_tl', 'num_bc_tl', 'num_il_tl',\n",
       "       'num_sats', 'num_tl_120dpd_2m', 'num_tl_90g_dpd_24m',\n",
       "       'num_tl_op_past_12m', 'pct_tl_nvr_dlq', 'percent_bc_gt_75',\n",
       "       'pub_rec_bankruptcies', 'tax_liens', 'tot_hi_cred_lim',\n",
       "       'total_bal_ex_mort', 'total_bc_limit'],\n",
       "      dtype='object')"
      ]
     },
     "execution_count": 32,
     "metadata": {},
     "output_type": "execute_result"
    }
   ],
   "source": [
    "columns_dtype_is_float"
   ]
  },
  {
   "cell_type": "markdown",
   "id": "f6aec34e",
   "metadata": {},
   "source": [
    "Let's calculate the correlation between column 'loan_status' and all other numerical columns."
   ]
  },
  {
   "cell_type": "code",
   "execution_count": 33,
   "id": "d0ded3bf",
   "metadata": {},
   "outputs": [],
   "source": [
    "col_corr = []\n",
    "data_lc_corr = []\n",
    "for item in columns_dtype_is_float:\n",
    "    data_lc_corr.append(abs(data_lc['loan_status'].corr(data_lc[item])))\n",
    "    col_corr.append(item)"
   ]
  },
  {
   "cell_type": "code",
   "execution_count": 34,
   "id": "d3e40919",
   "metadata": {},
   "outputs": [],
   "source": [
    "df_corr = pd.DataFrame({'column':col_corr, 'correlation':data_lc_corr})"
   ]
  },
  {
   "cell_type": "code",
   "execution_count": 35,
   "id": "b3af7be4",
   "metadata": {},
   "outputs": [
    {
     "data": {
      "text/html": [
       "<div>\n",
       "<style scoped>\n",
       "    .dataframe tbody tr th:only-of-type {\n",
       "        vertical-align: middle;\n",
       "    }\n",
       "\n",
       "    .dataframe tbody tr th {\n",
       "        vertical-align: top;\n",
       "    }\n",
       "\n",
       "    .dataframe thead th {\n",
       "        text-align: right;\n",
       "    }\n",
       "</style>\n",
       "<table border=\"1\" class=\"dataframe\">\n",
       "  <thead>\n",
       "    <tr style=\"text-align: right;\">\n",
       "      <th></th>\n",
       "      <th>column</th>\n",
       "      <th>correlation</th>\n",
       "    </tr>\n",
       "  </thead>\n",
       "  <tbody>\n",
       "    <tr>\n",
       "      <th>21</th>\n",
       "      <td>tot_coll_amt</td>\n",
       "      <td>0.000447</td>\n",
       "    </tr>\n",
       "    <tr>\n",
       "      <th>37</th>\n",
       "      <td>num_tl_120dpd_2m</td>\n",
       "      <td>0.001294</td>\n",
       "    </tr>\n",
       "    <tr>\n",
       "      <th>24</th>\n",
       "      <td>delinq_amnt</td>\n",
       "      <td>0.002785</td>\n",
       "    </tr>\n",
       "    <tr>\n",
       "      <th>23</th>\n",
       "      <td>chargeoff_within_12_mths</td>\n",
       "      <td>0.003147</td>\n",
       "    </tr>\n",
       "    <tr>\n",
       "      <th>45</th>\n",
       "      <td>total_bal_ex_mort</td>\n",
       "      <td>0.003766</td>\n",
       "    </tr>\n",
       "    <tr>\n",
       "      <th>20</th>\n",
       "      <td>acc_now_delinq</td>\n",
       "      <td>0.003895</td>\n",
       "    </tr>\n",
       "    <tr>\n",
       "      <th>35</th>\n",
       "      <td>num_il_tl</td>\n",
       "      <td>0.006382</td>\n",
       "    </tr>\n",
       "    <tr>\n",
       "      <th>11</th>\n",
       "      <td>out_prncp</td>\n",
       "      <td>0.008320</td>\n",
       "    </tr>\n",
       "    <tr>\n",
       "      <th>43</th>\n",
       "      <td>tax_liens</td>\n",
       "      <td>0.009690</td>\n",
       "    </tr>\n",
       "    <tr>\n",
       "      <th>38</th>\n",
       "      <td>num_tl_90g_dpd_24m</td>\n",
       "      <td>0.009887</td>\n",
       "    </tr>\n",
       "    <tr>\n",
       "      <th>32</th>\n",
       "      <td>num_accts_ever_120_pd</td>\n",
       "      <td>0.010370</td>\n",
       "    </tr>\n",
       "    <tr>\n",
       "      <th>40</th>\n",
       "      <td>pct_tl_nvr_dlq</td>\n",
       "      <td>0.010556</td>\n",
       "    </tr>\n",
       "    <tr>\n",
       "      <th>10</th>\n",
       "      <td>total_acc</td>\n",
       "      <td>0.011412</td>\n",
       "    </tr>\n",
       "    <tr>\n",
       "      <th>18</th>\n",
       "      <td>collections_12_mths_ex_med</td>\n",
       "      <td>0.015981</td>\n",
       "    </tr>\n",
       "    <tr>\n",
       "      <th>34</th>\n",
       "      <td>num_bc_tl</td>\n",
       "      <td>0.017347</td>\n",
       "    </tr>\n",
       "    <tr>\n",
       "      <th>4</th>\n",
       "      <td>delinq_2yrs</td>\n",
       "      <td>0.019260</td>\n",
       "    </tr>\n",
       "    <tr>\n",
       "      <th>8</th>\n",
       "      <td>revol_bal</td>\n",
       "      <td>0.019648</td>\n",
       "    </tr>\n",
       "    <tr>\n",
       "      <th>42</th>\n",
       "      <td>pub_rec_bankruptcies</td>\n",
       "      <td>0.025345</td>\n",
       "    </tr>\n",
       "    <tr>\n",
       "      <th>7</th>\n",
       "      <td>pub_rec</td>\n",
       "      <td>0.026130</td>\n",
       "    </tr>\n",
       "    <tr>\n",
       "      <th>25</th>\n",
       "      <td>mo_sin_old_il_acct</td>\n",
       "      <td>0.026239</td>\n",
       "    </tr>\n",
       "    <tr>\n",
       "      <th>36</th>\n",
       "      <td>num_sats</td>\n",
       "      <td>0.026738</td>\n",
       "    </tr>\n",
       "    <tr>\n",
       "      <th>33</th>\n",
       "      <td>num_actv_bc_tl</td>\n",
       "      <td>0.041594</td>\n",
       "    </tr>\n",
       "    <tr>\n",
       "      <th>2</th>\n",
       "      <td>annual_inc</td>\n",
       "      <td>0.041728</td>\n",
       "    </tr>\n",
       "    <tr>\n",
       "      <th>26</th>\n",
       "      <td>mo_sin_old_rev_tl_op</td>\n",
       "      <td>0.050512</td>\n",
       "    </tr>\n",
       "    <tr>\n",
       "      <th>30</th>\n",
       "      <td>mths_since_recent_bc</td>\n",
       "      <td>0.051410</td>\n",
       "    </tr>\n",
       "    <tr>\n",
       "      <th>27</th>\n",
       "      <td>mo_sin_rcnt_rev_tl_op</td>\n",
       "      <td>0.053916</td>\n",
       "    </tr>\n",
       "    <tr>\n",
       "      <th>28</th>\n",
       "      <td>mo_sin_rcnt_tl</td>\n",
       "      <td>0.055131</td>\n",
       "    </tr>\n",
       "    <tr>\n",
       "      <th>13</th>\n",
       "      <td>total_rec_int</td>\n",
       "      <td>0.055331</td>\n",
       "    </tr>\n",
       "    <tr>\n",
       "      <th>31</th>\n",
       "      <td>mths_since_recent_inq</td>\n",
       "      <td>0.056207</td>\n",
       "    </tr>\n",
       "    <tr>\n",
       "      <th>9</th>\n",
       "      <td>revol_util</td>\n",
       "      <td>0.059993</td>\n",
       "    </tr>\n",
       "    <tr>\n",
       "      <th>0</th>\n",
       "      <td>loan_amnt</td>\n",
       "      <td>0.065289</td>\n",
       "    </tr>\n",
       "    <tr>\n",
       "      <th>6</th>\n",
       "      <td>inq_last_6mths</td>\n",
       "      <td>0.065946</td>\n",
       "    </tr>\n",
       "    <tr>\n",
       "      <th>41</th>\n",
       "      <td>percent_bc_gt_75</td>\n",
       "      <td>0.067354</td>\n",
       "    </tr>\n",
       "    <tr>\n",
       "      <th>46</th>\n",
       "      <td>total_bc_limit</td>\n",
       "      <td>0.072172</td>\n",
       "    </tr>\n",
       "    <tr>\n",
       "      <th>29</th>\n",
       "      <td>mort_acc</td>\n",
       "      <td>0.075303</td>\n",
       "    </tr>\n",
       "    <tr>\n",
       "      <th>44</th>\n",
       "      <td>tot_hi_cred_lim</td>\n",
       "      <td>0.078474</td>\n",
       "    </tr>\n",
       "    <tr>\n",
       "      <th>3</th>\n",
       "      <td>dti</td>\n",
       "      <td>0.084215</td>\n",
       "    </tr>\n",
       "    <tr>\n",
       "      <th>39</th>\n",
       "      <td>num_tl_op_past_12m</td>\n",
       "      <td>0.085622</td>\n",
       "    </tr>\n",
       "    <tr>\n",
       "      <th>22</th>\n",
       "      <td>acc_open_past_24mths</td>\n",
       "      <td>0.099873</td>\n",
       "    </tr>\n",
       "    <tr>\n",
       "      <th>5</th>\n",
       "      <td>fico_range_high</td>\n",
       "      <td>0.130700</td>\n",
       "    </tr>\n",
       "    <tr>\n",
       "      <th>14</th>\n",
       "      <td>total_rec_late_fee</td>\n",
       "      <td>0.141104</td>\n",
       "    </tr>\n",
       "    <tr>\n",
       "      <th>1</th>\n",
       "      <td>int_rate</td>\n",
       "      <td>0.258577</td>\n",
       "    </tr>\n",
       "    <tr>\n",
       "      <th>12</th>\n",
       "      <td>total_pymnt</td>\n",
       "      <td>0.315305</td>\n",
       "    </tr>\n",
       "    <tr>\n",
       "      <th>16</th>\n",
       "      <td>last_pymnt_amnt</td>\n",
       "      <td>0.347247</td>\n",
       "    </tr>\n",
       "    <tr>\n",
       "      <th>15</th>\n",
       "      <td>recoveries</td>\n",
       "      <td>0.504726</td>\n",
       "    </tr>\n",
       "    <tr>\n",
       "      <th>17</th>\n",
       "      <td>last_fico_range_low</td>\n",
       "      <td>0.575049</td>\n",
       "    </tr>\n",
       "    <tr>\n",
       "      <th>19</th>\n",
       "      <td>policy_code</td>\n",
       "      <td>NaN</td>\n",
       "    </tr>\n",
       "  </tbody>\n",
       "</table>\n",
       "</div>"
      ],
      "text/plain": [
       "                        column  correlation\n",
       "21                tot_coll_amt     0.000447\n",
       "37            num_tl_120dpd_2m     0.001294\n",
       "24                 delinq_amnt     0.002785\n",
       "23    chargeoff_within_12_mths     0.003147\n",
       "45           total_bal_ex_mort     0.003766\n",
       "20              acc_now_delinq     0.003895\n",
       "35                   num_il_tl     0.006382\n",
       "11                   out_prncp     0.008320\n",
       "43                   tax_liens     0.009690\n",
       "38          num_tl_90g_dpd_24m     0.009887\n",
       "32       num_accts_ever_120_pd     0.010370\n",
       "40              pct_tl_nvr_dlq     0.010556\n",
       "10                   total_acc     0.011412\n",
       "18  collections_12_mths_ex_med     0.015981\n",
       "34                   num_bc_tl     0.017347\n",
       "4                  delinq_2yrs     0.019260\n",
       "8                    revol_bal     0.019648\n",
       "42        pub_rec_bankruptcies     0.025345\n",
       "7                      pub_rec     0.026130\n",
       "25          mo_sin_old_il_acct     0.026239\n",
       "36                    num_sats     0.026738\n",
       "33              num_actv_bc_tl     0.041594\n",
       "2                   annual_inc     0.041728\n",
       "26        mo_sin_old_rev_tl_op     0.050512\n",
       "30        mths_since_recent_bc     0.051410\n",
       "27       mo_sin_rcnt_rev_tl_op     0.053916\n",
       "28              mo_sin_rcnt_tl     0.055131\n",
       "13               total_rec_int     0.055331\n",
       "31       mths_since_recent_inq     0.056207\n",
       "9                   revol_util     0.059993\n",
       "0                    loan_amnt     0.065289\n",
       "6               inq_last_6mths     0.065946\n",
       "41            percent_bc_gt_75     0.067354\n",
       "46              total_bc_limit     0.072172\n",
       "29                    mort_acc     0.075303\n",
       "44             tot_hi_cred_lim     0.078474\n",
       "3                          dti     0.084215\n",
       "39          num_tl_op_past_12m     0.085622\n",
       "22        acc_open_past_24mths     0.099873\n",
       "5              fico_range_high     0.130700\n",
       "14          total_rec_late_fee     0.141104\n",
       "1                     int_rate     0.258577\n",
       "12                 total_pymnt     0.315305\n",
       "16             last_pymnt_amnt     0.347247\n",
       "15                  recoveries     0.504726\n",
       "17         last_fico_range_low     0.575049\n",
       "19                 policy_code          NaN"
      ]
     },
     "execution_count": 35,
     "metadata": {},
     "output_type": "execute_result"
    }
   ],
   "source": [
    "df_corr.sort_values('correlation')"
   ]
  },
  {
   "cell_type": "markdown",
   "id": "e335537d",
   "metadata": {},
   "source": [
    "We want to find all columns with a correlation smaller than 0.06"
   ]
  },
  {
   "cell_type": "code",
   "execution_count": 36,
   "id": "40042a41",
   "metadata": {},
   "outputs": [
    {
     "data": {
      "text/plain": [
       "2                     annual_inc\n",
       "4                    delinq_2yrs\n",
       "7                        pub_rec\n",
       "8                      revol_bal\n",
       "9                     revol_util\n",
       "10                     total_acc\n",
       "11                     out_prncp\n",
       "13                 total_rec_int\n",
       "18    collections_12_mths_ex_med\n",
       "20                acc_now_delinq\n",
       "21                  tot_coll_amt\n",
       "23      chargeoff_within_12_mths\n",
       "24                   delinq_amnt\n",
       "25            mo_sin_old_il_acct\n",
       "26          mo_sin_old_rev_tl_op\n",
       "27         mo_sin_rcnt_rev_tl_op\n",
       "28                mo_sin_rcnt_tl\n",
       "30          mths_since_recent_bc\n",
       "31         mths_since_recent_inq\n",
       "32         num_accts_ever_120_pd\n",
       "33                num_actv_bc_tl\n",
       "34                     num_bc_tl\n",
       "35                     num_il_tl\n",
       "36                      num_sats\n",
       "37              num_tl_120dpd_2m\n",
       "38            num_tl_90g_dpd_24m\n",
       "40                pct_tl_nvr_dlq\n",
       "42          pub_rec_bankruptcies\n",
       "43                     tax_liens\n",
       "45             total_bal_ex_mort\n",
       "Name: column, dtype: object"
      ]
     },
     "execution_count": 36,
     "metadata": {},
     "output_type": "execute_result"
    }
   ],
   "source": [
    "df_corr[df_corr['correlation']<0.06]['column']"
   ]
  },
  {
   "cell_type": "markdown",
   "id": "9fb45794",
   "metadata": {},
   "source": [
    "We see the highest correlation is found at column 'last_fico_range_low'. We are curious to see the distribution of all values in this column when 'loan_status' = 1 and 'loan_status' = 0 respectively."
   ]
  },
  {
   "cell_type": "code",
   "execution_count": 37,
   "id": "229013f8",
   "metadata": {},
   "outputs": [
    {
     "data": {
      "text/plain": [
       "(array([ 0,  1,  2,  3,  4,  5,  6,  7,  8,  9, 10, 11, 12, 13, 14, 15, 16,\n",
       "        17, 18, 19, 20, 21, 22, 23, 24, 25, 26, 27, 28, 29, 30, 31, 32, 33,\n",
       "        34, 35, 36, 37, 38, 39, 40, 41, 42, 43, 44, 45, 46, 47, 48, 49, 50,\n",
       "        51, 52, 53, 54, 55, 56, 57, 58, 59, 60, 61, 62, 63, 64, 65, 66, 67,\n",
       "        68, 69, 70]),\n",
       " [Text(0, 0, '0.0'),\n",
       "  Text(1, 0, '500.0'),\n",
       "  Text(2, 0, '505.0'),\n",
       "  Text(3, 0, '510.0'),\n",
       "  Text(4, 0, '515.0'),\n",
       "  Text(5, 0, '520.0'),\n",
       "  Text(6, 0, '525.0'),\n",
       "  Text(7, 0, '530.0'),\n",
       "  Text(8, 0, '535.0'),\n",
       "  Text(9, 0, '540.0'),\n",
       "  Text(10, 0, '545.0'),\n",
       "  Text(11, 0, '550.0'),\n",
       "  Text(12, 0, '555.0'),\n",
       "  Text(13, 0, '560.0'),\n",
       "  Text(14, 0, '565.0'),\n",
       "  Text(15, 0, '570.0'),\n",
       "  Text(16, 0, '575.0'),\n",
       "  Text(17, 0, '580.0'),\n",
       "  Text(18, 0, '585.0'),\n",
       "  Text(19, 0, '590.0'),\n",
       "  Text(20, 0, '595.0'),\n",
       "  Text(21, 0, '600.0'),\n",
       "  Text(22, 0, '605.0'),\n",
       "  Text(23, 0, '610.0'),\n",
       "  Text(24, 0, '615.0'),\n",
       "  Text(25, 0, '620.0'),\n",
       "  Text(26, 0, '625.0'),\n",
       "  Text(27, 0, '630.0'),\n",
       "  Text(28, 0, '635.0'),\n",
       "  Text(29, 0, '640.0'),\n",
       "  Text(30, 0, '645.0'),\n",
       "  Text(31, 0, '650.0'),\n",
       "  Text(32, 0, '655.0'),\n",
       "  Text(33, 0, '660.0'),\n",
       "  Text(34, 0, '665.0'),\n",
       "  Text(35, 0, '670.0'),\n",
       "  Text(36, 0, '675.0'),\n",
       "  Text(37, 0, '680.0'),\n",
       "  Text(38, 0, '685.0'),\n",
       "  Text(39, 0, '690.0'),\n",
       "  Text(40, 0, '695.0'),\n",
       "  Text(41, 0, '700.0'),\n",
       "  Text(42, 0, '705.0'),\n",
       "  Text(43, 0, '710.0'),\n",
       "  Text(44, 0, '715.0'),\n",
       "  Text(45, 0, '720.0'),\n",
       "  Text(46, 0, '725.0'),\n",
       "  Text(47, 0, '730.0'),\n",
       "  Text(48, 0, '735.0'),\n",
       "  Text(49, 0, '740.0'),\n",
       "  Text(50, 0, '745.0'),\n",
       "  Text(51, 0, '750.0'),\n",
       "  Text(52, 0, '755.0'),\n",
       "  Text(53, 0, '760.0'),\n",
       "  Text(54, 0, '765.0'),\n",
       "  Text(55, 0, '770.0'),\n",
       "  Text(56, 0, '775.0'),\n",
       "  Text(57, 0, '780.0'),\n",
       "  Text(58, 0, '785.0'),\n",
       "  Text(59, 0, '790.0'),\n",
       "  Text(60, 0, '795.0'),\n",
       "  Text(61, 0, '800.0'),\n",
       "  Text(62, 0, '805.0'),\n",
       "  Text(63, 0, '810.0'),\n",
       "  Text(64, 0, '815.0'),\n",
       "  Text(65, 0, '820.0'),\n",
       "  Text(66, 0, '825.0'),\n",
       "  Text(67, 0, '830.0'),\n",
       "  Text(68, 0, '835.0'),\n",
       "  Text(69, 0, '840.0'),\n",
       "  Text(70, 0, '845.0')])"
      ]
     },
     "execution_count": 37,
     "metadata": {},
     "output_type": "execute_result"
    },
    {
     "data": {
      "image/png": "[encoded data removed]",
      "text/plain": [
       "<Figure size 1080x288 with 1 Axes>"
      ]
     },
     "metadata": {
      "needs_background": "light"
     },
     "output_type": "display_data"
    }
   ],
   "source": [
    "plt.rc('font', size=13)\n",
    "plt.figure(figsize=(15,4))\n",
    "sns.countplot(x='last_fico_range_low', data = data_lc, hue='loan_status')\n",
    "plt.xticks(rotation = 90)"
   ]
  },
  {
   "cell_type": "markdown",
   "id": "51eb2cba",
   "metadata": {},
   "source": [
    "From the plot above, it is shown very clearly that the distribution of values in 'last_fico_range_low' are totally different when loan_status is different. Thus it is predicted that this column will play an important role in our \n",
    "modeling."
   ]
  },
  {
   "cell_type": "markdown",
   "id": "05dd09b6",
   "metadata": {},
   "source": [
    "It is time to list columns with low correlation with 'loan_status' and remove them."
   ]
  },
  {
   "cell_type": "code",
   "execution_count": 38,
   "id": "64b55f78",
   "metadata": {},
   "outputs": [],
   "source": [
    "drop_columns_3 = ['delinq_2yrs', 'pub_rec', 'revol_bal', 'total_acc', 'total_rec_int', 'collections_12_mths_ex_med', \n",
    "                  'acc_now_delinq', 'tot_coll_amt', 'chargeoff_within_12_mths', 'delinq_amnt', 'mo_sin_old_il_acct', \n",
    "                  'mo_sin_old_rev_tl_op', 'mo_sin_rcnt_rev_tl_op', 'mo_sin_rcnt_tl', 'mths_since_recent_bc', \n",
    "                  'mths_since_recent_inq', 'num_accts_ever_120_pd', 'num_actv_bc_tl', 'num_bc_tl', 'num_il_tl', \n",
    "                  'num_sats', 'num_tl_120dpd_2m', 'num_tl_90g_dpd_24m', 'pct_tl_nvr_dlq', 'pub_rec_bankruptcies', \n",
    "                  'tax_liens', 'total_bal_ex_mort']"
   ]
  },
  {
   "cell_type": "code",
   "execution_count": 39,
   "id": "87093932",
   "metadata": {},
   "outputs": [
    {
     "data": {
      "text/plain": [
       "27"
      ]
     },
     "execution_count": 39,
     "metadata": {},
     "output_type": "execute_result"
    }
   ],
   "source": [
    "len(drop_columns_3)"
   ]
  },
  {
   "cell_type": "code",
   "execution_count": 40,
   "id": "7e1362b1",
   "metadata": {},
   "outputs": [],
   "source": [
    "data_lc = data_lc.drop(columns = drop_columns_3)"
   ]
  },
  {
   "cell_type": "code",
   "execution_count": 41,
   "id": "b3d6f7e5",
   "metadata": {},
   "outputs": [
    {
     "name": "stdout",
     "output_type": "stream",
     "text": [
      "<class 'pandas.core.frame.DataFrame'>\n",
      "Int64Index: 1348099 entries, 0 to 2260697\n",
      "Data columns (total 44 columns):\n",
      " #   Column                Non-Null Count    Dtype   \n",
      "---  ------                --------------    -----   \n",
      " 0   id                    1348099 non-null  object  \n",
      " 1   loan_amnt             1348099 non-null  float64 \n",
      " 2   term                  1348099 non-null  object  \n",
      " 3   int_rate              1348099 non-null  float64 \n",
      " 4   grade                 1348099 non-null  object  \n",
      " 5   sub_grade             1348099 non-null  object  \n",
      " 6   emp_title             1262149 non-null  object  \n",
      " 7   emp_length            1269549 non-null  object  \n",
      " 8   home_ownership        1348099 non-null  object  \n",
      " 9   annual_inc            1348095 non-null  float64 \n",
      " 10  verification_status   1348099 non-null  object  \n",
      " 11  issue_d               1348099 non-null  object  \n",
      " 12  loan_status           1348099 non-null  category\n",
      " 13  pymnt_plan            1348099 non-null  object  \n",
      " 14  url                   1348099 non-null  object  \n",
      " 15  purpose               1348099 non-null  object  \n",
      " 16  title                 1331438 non-null  object  \n",
      " 17  zip_code              1348098 non-null  object  \n",
      " 18  addr_state            1348099 non-null  object  \n",
      " 19  dti                   1347725 non-null  float64 \n",
      " 20  earliest_cr_line      1348070 non-null  object  \n",
      " 21  fico_range_high       1348099 non-null  float64 \n",
      " 22  inq_last_6mths        1348069 non-null  float64 \n",
      " 23  revol_util            1347202 non-null  float64 \n",
      " 24  initial_list_status   1348099 non-null  object  \n",
      " 25  out_prncp             1348099 non-null  float64 \n",
      " 26  total_pymnt           1348099 non-null  float64 \n",
      " 27  total_rec_late_fee    1348099 non-null  float64 \n",
      " 28  recoveries            1348099 non-null  float64 \n",
      " 29  last_pymnt_d          1345774 non-null  object  \n",
      " 30  last_pymnt_amnt       1348099 non-null  float64 \n",
      " 31  last_credit_pull_d    1348042 non-null  object  \n",
      " 32  last_fico_range_low   1348099 non-null  float64 \n",
      " 33  policy_code           1348099 non-null  float64 \n",
      " 34  application_type      1348099 non-null  object  \n",
      " 35  acc_open_past_24mths  1298069 non-null  float64 \n",
      " 36  mort_acc              1298069 non-null  float64 \n",
      " 37  num_tl_op_past_12m    1277823 non-null  float64 \n",
      " 38  percent_bc_gt_75      1283793 non-null  float64 \n",
      " 39  tot_hi_cred_lim       1277823 non-null  float64 \n",
      " 40  total_bc_limit        1298069 non-null  float64 \n",
      " 41  hardship_flag         1348099 non-null  object  \n",
      " 42  disbursement_method   1348099 non-null  object  \n",
      " 43  debt_settlement_flag  1348099 non-null  object  \n",
      "dtypes: category(1), float64(20), object(23)\n",
      "memory usage: 453.8+ MB\n"
     ]
    }
   ],
   "source": [
    "data_lc.info()"
   ]
  },
  {
   "cell_type": "markdown",
   "id": "21f449f7",
   "metadata": {},
   "source": [
    "Ok we already removed quite a few columns with missing values and others with numerical data. Now let's see those\n",
    "columns with object values."
   ]
  },
  {
   "cell_type": "markdown",
   "id": "be63d2cf",
   "metadata": {},
   "source": [
    "# 5. Remove categorical columns with large amount of unique values"
   ]
  },
  {
   "cell_type": "markdown",
   "id": "c4958896",
   "metadata": {},
   "source": [
    "So far we have done much on numerical columns. Now let's have a look on categorical columns. We will count their unique values. Columns with large amount of unique values are about to be removed as we believe they have little effect on loan status. "
   ]
  },
  {
   "cell_type": "code",
   "execution_count": 42,
   "id": "3241eb18",
   "metadata": {},
   "outputs": [],
   "source": [
    "columns_dtype_is_object = data_lc.select_dtypes('object').columns"
   ]
  },
  {
   "cell_type": "code",
   "execution_count": 43,
   "id": "d552c62c",
   "metadata": {},
   "outputs": [
    {
     "data": {
      "text/plain": [
       "Index(['id', 'term', 'grade', 'sub_grade', 'emp_title', 'emp_length',\n",
       "       'home_ownership', 'verification_status', 'issue_d', 'pymnt_plan', 'url',\n",
       "       'purpose', 'title', 'zip_code', 'addr_state', 'earliest_cr_line',\n",
       "       'initial_list_status', 'last_pymnt_d', 'last_credit_pull_d',\n",
       "       'application_type', 'hardship_flag', 'disbursement_method',\n",
       "       'debt_settlement_flag'],\n",
       "      dtype='object')"
      ]
     },
     "execution_count": 43,
     "metadata": {},
     "output_type": "execute_result"
    }
   ],
   "source": [
    "columns_dtype_is_object"
   ]
  },
  {
   "cell_type": "code",
   "execution_count": 44,
   "id": "6b68065e",
   "metadata": {},
   "outputs": [
    {
     "data": {
      "text/plain": [
       "23"
      ]
     },
     "execution_count": 44,
     "metadata": {},
     "output_type": "execute_result"
    }
   ],
   "source": [
    "len(columns_dtype_is_object)"
   ]
  },
  {
   "cell_type": "markdown",
   "id": "1e12179a",
   "metadata": {},
   "source": [
    "They are totally 23 columns with object type values. We need to study them one by one."
   ]
  },
  {
   "cell_type": "code",
   "execution_count": 45,
   "id": "3520d078",
   "metadata": {},
   "outputs": [
    {
     "data": {
      "text/plain": [
       "array([68407277, 68355089, 68341763, ..., '89996426', '90006534',\n",
       "       '88224441'], dtype=object)"
      ]
     },
     "execution_count": 45,
     "metadata": {},
     "output_type": "execute_result"
    }
   ],
   "source": [
    "data_lc['id'].unique()"
   ]
  },
  {
   "cell_type": "markdown",
   "id": "fbf11200",
   "metadata": {},
   "source": [
    "There are too many unique values in column 'id'. Actually we doubt that every row has a unique value. There is no way this column will have impact on our model so let's put it in our 'will-drop' list."
   ]
  },
  {
   "cell_type": "code",
   "execution_count": 46,
   "id": "99ccf5ef",
   "metadata": {},
   "outputs": [
    {
     "data": {
      "text/plain": [
       "array([' 36 months', ' 60 months'], dtype=object)"
      ]
     },
     "execution_count": 46,
     "metadata": {},
     "output_type": "execute_result"
    }
   ],
   "source": [
    "data_lc['term'].unique()"
   ]
  },
  {
   "cell_type": "code",
   "execution_count": 47,
   "id": "54187ab2",
   "metadata": {},
   "outputs": [
    {
     "data": {
      "text/plain": [
       "array(['C', 'B', 'F', 'A', 'E', 'D', 'G'], dtype=object)"
      ]
     },
     "execution_count": 47,
     "metadata": {},
     "output_type": "execute_result"
    }
   ],
   "source": [
    "data_lc['grade'].unique()"
   ]
  },
  {
   "cell_type": "code",
   "execution_count": 48,
   "id": "d6ad7af3",
   "metadata": {},
   "outputs": [
    {
     "data": {
      "text/plain": [
       "array(['C4', 'C1', 'B4', 'F1', 'C3', 'B2', 'B1', 'A2', 'B5', 'C2', 'E2',\n",
       "       'A4', 'E3', 'C5', 'A1', 'D4', 'F3', 'D1', 'B3', 'D3', 'D5', 'A5',\n",
       "       'F2', 'E4', 'D2', 'E1', 'F5', 'E5', 'A3', 'G2', 'G1', 'G3', 'G4',\n",
       "       'F4', 'G5'], dtype=object)"
      ]
     },
     "execution_count": 48,
     "metadata": {},
     "output_type": "execute_result"
    }
   ],
   "source": [
    "data_lc['sub_grade'].unique()"
   ]
  },
  {
   "cell_type": "markdown",
   "id": "3d6507ba",
   "metadata": {},
   "source": [
    "'term' only has a few values and we believe it is important to our model. So let's keep it. 'sub_grade' is blieved to be at lower level than 'grade'. So we would like to drop 'sub_grade' and keep 'grade'."
   ]
  },
  {
   "cell_type": "code",
   "execution_count": 49,
   "id": "3fb40344",
   "metadata": {},
   "outputs": [
    {
     "data": {
      "text/plain": [
       "379863"
      ]
     },
     "execution_count": 49,
     "metadata": {},
     "output_type": "execute_result"
    }
   ],
   "source": [
    "data_lc['emp_title'].nunique()"
   ]
  },
  {
   "cell_type": "code",
   "execution_count": 50,
   "id": "a7d9ae59",
   "metadata": {},
   "outputs": [
    {
     "data": {
      "text/plain": [
       "array(['10+ years', '3 years', '4 years', '6 years', '7 years', '8 years',\n",
       "       '2 years', '5 years', '9 years', '< 1 year', '1 year', nan],\n",
       "      dtype=object)"
      ]
     },
     "execution_count": 50,
     "metadata": {},
     "output_type": "execute_result"
    }
   ],
   "source": [
    "data_lc['emp_length'].unique()"
   ]
  },
  {
   "cell_type": "markdown",
   "id": "f46577bf",
   "metadata": {},
   "source": [
    "Let's keep 'emp_length' and remove 'emp_title'. "
   ]
  },
  {
   "cell_type": "code",
   "execution_count": 51,
   "id": "bed15b82",
   "metadata": {},
   "outputs": [
    {
     "data": {
      "text/plain": [
       "array(['MORTGAGE', 'RENT', 'OWN', 'ANY', 'NONE', 'OTHER'], dtype=object)"
      ]
     },
     "execution_count": 51,
     "metadata": {},
     "output_type": "execute_result"
    }
   ],
   "source": [
    "data_lc['home_ownership'].unique()"
   ]
  },
  {
   "cell_type": "code",
   "execution_count": 52,
   "id": "4f17787c",
   "metadata": {},
   "outputs": [
    {
     "data": {
      "text/plain": [
       "array(['Not Verified', 'Source Verified', 'Verified'], dtype=object)"
      ]
     },
     "execution_count": 52,
     "metadata": {},
     "output_type": "execute_result"
    }
   ],
   "source": [
    "data_lc['verification_status'].unique()"
   ]
  },
  {
   "cell_type": "code",
   "execution_count": 53,
   "id": "cec3a3ce",
   "metadata": {},
   "outputs": [
    {
     "data": {
      "text/plain": [
       "array(['Dec-2015', 'Nov-2015', 'Oct-2015', 'Sep-2015', 'Aug-2015',\n",
       "       'Jul-2015', 'Jun-2015', 'May-2015', 'Apr-2015', 'Mar-2015',\n",
       "       'Feb-2015', 'Jan-2015', 'Mar-2018', 'Feb-2018', 'Jan-2018',\n",
       "       'Sep-2017', 'Aug-2017', 'Jul-2017', 'Jun-2016', 'May-2016',\n",
       "       'Apr-2016', 'Sep-2018', 'Aug-2018', 'Jul-2018', 'Jun-2017',\n",
       "       'May-2017', 'Apr-2017', 'Mar-2016', 'Feb-2016', 'Jan-2016',\n",
       "       'Dec-2014', 'Nov-2014', 'Oct-2014', 'Sep-2014', 'Aug-2014',\n",
       "       'Jul-2014', 'Jun-2014', 'May-2014', 'Apr-2014', 'Mar-2014',\n",
       "       'Feb-2014', 'Jan-2014', 'Dec-2018', 'Nov-2018', 'Oct-2018',\n",
       "       'Jun-2018', 'May-2018', 'Apr-2018', 'Dec-2011', 'Nov-2011',\n",
       "       'Oct-2011', 'Sep-2011', 'Aug-2011', 'Jul-2011', 'Jun-2011',\n",
       "       'May-2011', 'Apr-2011', 'Mar-2011', 'Feb-2011', 'Jan-2011',\n",
       "       'Dec-2010', 'Nov-2010', 'Oct-2010', 'Sep-2010', 'Aug-2010',\n",
       "       'Jul-2010', 'Jun-2010', 'May-2010', 'Apr-2010', 'Mar-2010',\n",
       "       'Feb-2010', 'Jan-2010', 'Dec-2009', 'Nov-2009', 'Oct-2009',\n",
       "       'Sep-2009', 'Aug-2009', 'Jul-2009', 'Jun-2009', 'May-2009',\n",
       "       'Apr-2009', 'Mar-2009', 'Feb-2009', 'Jan-2009', 'Dec-2008',\n",
       "       'Nov-2008', 'Oct-2008', 'Sep-2008', 'Aug-2008', 'Jul-2008',\n",
       "       'Jun-2008', 'May-2008', 'Apr-2008', 'Mar-2008', 'Feb-2008',\n",
       "       'Jan-2008', 'Dec-2007', 'Nov-2007', 'Oct-2007', 'Sep-2007',\n",
       "       'Aug-2007', 'Jul-2007', 'Jun-2007', 'Mar-2017', 'Feb-2017',\n",
       "       'Jan-2017', 'Dec-2013', 'Nov-2013', 'Oct-2013', 'Sep-2013',\n",
       "       'Aug-2013', 'Jul-2013', 'Jun-2013', 'May-2013', 'Apr-2013',\n",
       "       'Mar-2013', 'Feb-2013', 'Jan-2013', 'Dec-2012', 'Nov-2012',\n",
       "       'Oct-2012', 'Sep-2012', 'Aug-2012', 'Jul-2012', 'Jun-2012',\n",
       "       'May-2012', 'Apr-2012', 'Mar-2012', 'Feb-2012', 'Jan-2012',\n",
       "       'Sep-2016', 'Aug-2016', 'Jul-2016', 'Dec-2017', 'Nov-2017',\n",
       "       'Oct-2017', 'Dec-2016', 'Nov-2016', 'Oct-2016'], dtype=object)"
      ]
     },
     "execution_count": 53,
     "metadata": {},
     "output_type": "execute_result"
    }
   ],
   "source": [
    "data_lc['issue_d'].unique()"
   ]
  },
  {
   "cell_type": "markdown",
   "id": "318442e1",
   "metadata": {},
   "source": [
    "'issue_d' has large amount of unique values and we don't think they will have impact to our model. So we will remove it."
   ]
  },
  {
   "cell_type": "code",
   "execution_count": 54,
   "id": "29173273",
   "metadata": {},
   "outputs": [
    {
     "data": {
      "text/plain": [
       "array(['n'], dtype=object)"
      ]
     },
     "execution_count": 54,
     "metadata": {},
     "output_type": "execute_result"
    }
   ],
   "source": [
    "data_lc['pymnt_plan'].unique()"
   ]
  },
  {
   "cell_type": "markdown",
   "id": "6ac3d064",
   "metadata": {},
   "source": [
    "After some rows are removed, there is only single value left in column 'pymnt_plan'. So it also should be removed."
   ]
  },
  {
   "cell_type": "code",
   "execution_count": 55,
   "id": "854b4843",
   "metadata": {},
   "outputs": [
    {
     "data": {
      "text/plain": [
       "array(['debt_consolidation', 'small_business', 'home_improvement',\n",
       "       'major_purchase', 'credit_card', 'other', 'house', 'vacation',\n",
       "       'car', 'medical', 'moving', 'renewable_energy', 'wedding',\n",
       "       'educational'], dtype=object)"
      ]
     },
     "execution_count": 55,
     "metadata": {},
     "output_type": "execute_result"
    }
   ],
   "source": [
    "data_lc['purpose'].unique()"
   ]
  },
  {
   "cell_type": "code",
   "execution_count": 56,
   "id": "da39e269",
   "metadata": {},
   "outputs": [
    {
     "data": {
      "text/plain": [
       "array(['Debt consolidation', 'Business', nan, ..., 'takeitaway',\n",
       "       'Creditt Card Loan', 'debt reduction/hone updates'], dtype=object)"
      ]
     },
     "execution_count": 56,
     "metadata": {},
     "output_type": "execute_result"
    }
   ],
   "source": [
    "data_lc['title'].unique()"
   ]
  },
  {
   "cell_type": "code",
   "execution_count": 57,
   "id": "10a87b4d",
   "metadata": {},
   "outputs": [
    {
     "data": {
      "text/plain": [
       "63152"
      ]
     },
     "execution_count": 57,
     "metadata": {},
     "output_type": "execute_result"
    }
   ],
   "source": [
    "data_lc['title'].nunique()"
   ]
  },
  {
   "cell_type": "code",
   "execution_count": 58,
   "id": "87856b4d",
   "metadata": {},
   "outputs": [
    {
     "data": {
      "text/plain": [
       "945"
      ]
     },
     "execution_count": 58,
     "metadata": {},
     "output_type": "execute_result"
    }
   ],
   "source": [
    "data_lc['zip_code'].nunique()"
   ]
  },
  {
   "cell_type": "markdown",
   "id": "3dcce4e2",
   "metadata": {},
   "source": [
    "There all too many unique values in 'title' and 'zip_code', which indicate that they have very little influence to our\n",
    "model. So we will remove them."
   ]
  },
  {
   "cell_type": "code",
   "execution_count": 59,
   "id": "d132b366",
   "metadata": {},
   "outputs": [
    {
     "data": {
      "text/plain": [
       "array(['PA', 'SD', 'IL', 'GA', 'MN', 'SC', 'RI', 'NC', 'CA', 'VA', 'AZ',\n",
       "       'IN', 'MD', 'NY', 'TX', 'KS', 'NM', 'AL', 'WA', 'OH', 'LA', 'FL',\n",
       "       'CO', 'MI', 'MO', 'DC', 'MA', 'WI', 'HI', 'VT', 'NJ', 'DE', 'TN',\n",
       "       'NH', 'NE', 'OR', 'CT', 'AR', 'NV', 'WV', 'MT', 'WY', 'OK', 'KY',\n",
       "       'MS', 'UT', 'ND', 'ME', 'AK', 'ID', 'IA'], dtype=object)"
      ]
     },
     "execution_count": 59,
     "metadata": {},
     "output_type": "execute_result"
    }
   ],
   "source": [
    "data_lc['addr_state'].unique()"
   ]
  },
  {
   "cell_type": "markdown",
   "id": "4c973e2b",
   "metadata": {},
   "source": [
    "We believe the loan status is not related with which state the borrower is from. So we will remove column 'addr_state'."
   ]
  },
  {
   "cell_type": "code",
   "execution_count": 60,
   "id": "1150e20d",
   "metadata": {},
   "outputs": [
    {
     "data": {
      "text/plain": [
       "array(['Aug-2003', 'Dec-1999', 'Aug-2000', 'Jun-1998', 'Oct-1987',\n",
       "       'Jun-1990', 'Feb-1999', 'Apr-2002', 'Nov-1994', 'Jun-1996',\n",
       "       'Jun-2005', 'May-1984', 'Dec-2001', 'Nov-1993', 'Mar-2005',\n",
       "       'May-2004', 'Jun-1991', 'May-2000', 'Oct-2011', 'May-1994',\n",
       "       'Jul-2011', 'May-1991', 'May-2001', 'Jun-2002', 'Dec-1985',\n",
       "       'Apr-2007', 'Feb-2002', 'Jun-2001', 'Oct-1996', 'Jan-2005',\n",
       "       'Jul-2001', 'Aug-2004', 'Jun-2007', 'Jul-2004', 'Apr-2001',\n",
       "       'May-1992', 'Oct-1999', 'Nov-2001', 'Jan-2001', 'Sep-2004',\n",
       "       'Sep-2006', 'Oct-2002', 'Feb-1990', 'Aug-1987', 'Oct-1998',\n",
       "       'Aug-2001', 'Feb-2004', 'Aug-2009', 'Jan-1999', 'Jun-2000',\n",
       "       'Jan-2007', 'Aug-1997', 'Dec-1987', 'Feb-1996', 'Jun-2004',\n",
       "       'Jun-1995', 'Oct-2004', 'Dec-2002', 'Aug-1986', 'Nov-2002',\n",
       "       'Oct-2006', 'Sep-2000', 'Feb-2012', 'Apr-2005', 'Sep-1994',\n",
       "       'Apr-1993', 'Sep-2007', 'Jan-1998', 'May-2008', 'Mar-2001',\n",
       "       'Apr-1994', 'Apr-2003', 'Jan-2002', 'Jan-2011', 'Nov-2000',\n",
       "       'May-2002', 'Nov-2003', 'Sep-2003', 'Aug-2008', 'Dec-1997',\n",
       "       'May-2006', 'Nov-2009', 'Oct-1994', 'May-1985', 'Sep-2002',\n",
       "       'Jun-1999', 'Nov-2006', 'Nov-1996', 'Feb-2000', 'Jan-1957',\n",
       "       'Jun-2006', 'Aug-1974', 'Feb-2010', 'Nov-2005', 'Dec-1983',\n",
       "       'Jan-1993', 'Mar-2004', 'Aug-1998', 'Dec-2006', 'Nov-1991',\n",
       "       'Apr-2006', 'Oct-2008', 'Nov-2004', 'Feb-1995', 'Oct-1991',\n",
       "       'Sep-1983', 'Jan-2008', 'Jul-1995', 'Aug-1989', 'Oct-2000',\n",
       "       'Dec-2000', 'Jun-1997', 'Sep-1989', 'May-1998', 'Aug-2011',\n",
       "       'Sep-1984', 'Apr-2004', 'Oct-2003', 'May-2012', 'Jan-2004',\n",
       "       'Jun-1981', 'Jul-1993', 'Nov-1999', 'Dec-2009', 'Jul-1998',\n",
       "       'Jul-1994', 'Sep-2010', 'Mar-2000', 'Nov-1985', 'Sep-1990',\n",
       "       'Mar-1997', 'May-1993', 'Jun-1986', 'Oct-1993', 'Apr-1992',\n",
       "       'Aug-2002', 'Mar-2009', 'Sep-2009', 'Dec-1977', 'Jul-2003',\n",
       "       'Aug-1996', 'Jan-1986', 'Feb-2005', 'Apr-1983', 'May-1989',\n",
       "       'Jul-1996', 'Mar-1996', 'May-1999', 'Feb-2001', 'May-2003',\n",
       "       'Sep-1987', 'Apr-1991', 'Nov-1983', 'Mar-2012', 'Jul-2000',\n",
       "       'Apr-1989', 'Dec-2004', 'Nov-1987', 'Dec-2005', 'Feb-2008',\n",
       "       'Oct-1979', 'May-2009', 'Aug-2007', 'Dec-2007', 'Apr-1988',\n",
       "       'Jul-2007', 'Jan-1997', 'Aug-1999', 'Feb-1987', 'Jun-1983',\n",
       "       'Aug-1984', 'May-1996', 'Sep-1995', 'Jan-1996', 'Oct-1995',\n",
       "       'Dec-2003', 'Apr-1980', 'Mar-2002', 'Jul-1984', 'Apr-2011',\n",
       "       'Nov-1984', 'Feb-1998', 'Jul-1987', 'Mar-2003', 'Jun-1992',\n",
       "       'Jan-1988', 'Oct-2007', 'Jul-2005', 'Aug-1995', 'Feb-1997',\n",
       "       'Dec-1996', 'Mar-1980', 'Oct-2001', 'Jan-2003', 'Apr-1985',\n",
       "       'Nov-1998', 'Sep-1991', 'Nov-1988', 'May-1982', 'Nov-2011',\n",
       "       'May-1988', 'Sep-1993', 'Mar-1991', 'Jun-1987', 'Jan-1991',\n",
       "       'Apr-1990', 'Aug-2005', 'Aug-2010', 'Mar-1998', 'Dec-1998',\n",
       "       'Aug-1985', 'Nov-2007', 'Jul-1989', 'Sep-1988', 'Jun-2003',\n",
       "       'Mar-2007', 'Oct-1985', 'Dec-2011', 'Apr-1999', 'Feb-1979',\n",
       "       'Jul-2009', 'Jul-1992', 'Jul-1999', 'Jan-1994', 'Apr-2012',\n",
       "       'Sep-2001', 'Dec-1986', 'Oct-2005', 'Mar-1973', 'Feb-1988',\n",
       "       'Sep-2008', 'Jun-2008', 'Feb-2003', 'Jul-1968', 'May-2011',\n",
       "       'Jan-2006', 'Mar-1989', 'Feb-2009', 'Dec-1993', 'Jan-1982',\n",
       "       'Jul-2008', 'Apr-2000', 'Mar-1990', 'May-1981', 'Jun-2010',\n",
       "       'May-1995', 'Mar-1994', 'Apr-1998', 'Feb-1984', 'May-1997',\n",
       "       'May-1980', 'Mar-2008', 'Nov-1992', 'Nov-1997', 'Jan-1992',\n",
       "       'Mar-2006', 'Aug-2006', 'Nov-1990', 'Mar-1978', 'Apr-1987',\n",
       "       'Feb-1994', 'Jun-1994', 'Nov-2012', 'Jun-1985', 'Aug-1988',\n",
       "       'May-1986', 'Feb-1982', 'Jun-1977', 'Feb-1992', 'Jan-1990',\n",
       "       'Sep-1997', 'Dec-1989', 'Dec-1982', 'Feb-1980', 'Jul-2012',\n",
       "       'Feb-2007', 'Jul-1985', 'Mar-2011', 'May-1990', 'Jul-1990',\n",
       "       'Nov-1986', 'Sep-1976', 'Nov-1989', 'May-1987', 'Oct-1990',\n",
       "       'Dec-2010', 'Feb-1985', 'Nov-1995', 'Oct-1983', 'May-2005',\n",
       "       'Jul-2006', 'Apr-1976', 'Jan-1989', 'Apr-2008', 'Apr-1996',\n",
       "       'Apr-1975', 'Apr-1995', 'Jul-1977', 'Jul-1982', 'Sep-1998',\n",
       "       'Dec-1988', 'Nov-1978', 'Aug-1993', 'Dec-1995', 'Jun-1993',\n",
       "       'Oct-1997', 'Aug-1983', 'Sep-1999', 'Jan-1972', 'Jul-1988',\n",
       "       'Aug-1981', 'Oct-1978', 'Sep-1992', 'Jun-2009', 'Aug-1991',\n",
       "       'Apr-1982', 'Jan-1987', 'Mar-1986', 'Apr-1977', 'May-2010',\n",
       "       'Oct-1988', 'Oct-2009', 'Dec-1994', 'Jun-1989', 'Jan-1977',\n",
       "       'Jul-1997', 'Jul-1974', 'Dec-1990', 'Mar-1979', 'Mar-1992',\n",
       "       'Sep-1975', 'Oct-1989', 'Mar-1999', 'Feb-1991', 'Jul-2002',\n",
       "       'Aug-1992', 'Feb-2011', 'Mar-1988', 'Aug-1980', 'Feb-1983',\n",
       "       'Dec-1992', 'Mar-1981', 'Jan-1979', 'Jun-1978', 'Oct-1992',\n",
       "       'Sep-2011', 'Oct-1986', 'Aug-2012', 'Dec-2008', 'Feb-1993',\n",
       "       'Oct-1982', 'Aug-1990', 'Sep-1978', 'Feb-2006', 'Jun-2012',\n",
       "       'Oct-2012', 'Apr-1997', 'Sep-1981', 'Feb-1989', 'Apr-1969',\n",
       "       'Jul-1986', 'Oct-1980', 'Jul-2010', 'Jun-1969', 'May-1983',\n",
       "       'Jul-1978', 'Dec-1975', 'Jan-1995', 'Aug-1994', 'Sep-2005',\n",
       "       'Aug-1975', 'Oct-1973', 'Jun-1984', 'Apr-1984', 'Jun-1988',\n",
       "       'Oct-1984', 'Jan-1965', 'Jan-2009', 'Jan-2012', 'Apr-1970',\n",
       "       'Mar-1972', 'Apr-2010', 'Dec-1991', 'Jun-1982', 'Jan-2000',\n",
       "       'Jul-1983', 'Mar-1995', 'Oct-1974', 'Jun-2011', 'Mar-2010',\n",
       "       'Mar-1982', 'Jan-1981', 'Mar-1993', 'Mar-1984', 'Dec-1980',\n",
       "       'May-1978', 'Nov-2010', 'Jul-1991', 'Feb-1977', 'Dec-1984',\n",
       "       'Sep-2012', 'Sep-1996', 'Oct-2010', 'Apr-2009', 'Apr-1986',\n",
       "       'Sep-1982', 'Jan-2010', 'Aug-1978', 'Jan-1974', 'Jan-1985',\n",
       "       'Sep-1979', 'May-2007', 'Sep-1964', 'Apr-1973', 'Aug-1977',\n",
       "       'Nov-1969', 'Sep-1985', 'Mar-1985', 'May-1966', 'Jun-1975',\n",
       "       'Mar-1987', 'Mar-1974', 'Dec-1978', 'Jan-1983', 'Nov-2008',\n",
       "       'Oct-1975', 'Sep-1977', 'Jun-1979', 'Jan-1984', 'Sep-1980',\n",
       "       'Jul-1981', 'Oct-1971', 'Jan-1978', 'Nov-1979', 'Sep-1986',\n",
       "       'Nov-1982', 'Feb-1975', 'Feb-1986', 'Mar-1977', 'Dec-1981',\n",
       "       'Aug-1982', 'Jun-1974', 'May-1979', 'Jan-1976', 'Jun-1980',\n",
       "       'Oct-1981', 'Jun-1973', 'Apr-1965', 'Nov-1980', 'Sep-1962',\n",
       "       'Nov-1974', 'Oct-1976', 'Mar-1983', 'Jul-1979', 'May-1975',\n",
       "       'Apr-1968', 'Nov-1973', 'Jul-1976', 'Jul-1980', 'Jan-1971',\n",
       "       'Nov-1966', 'Nov-1981', 'Dec-1976', 'Jun-1970', 'Feb-1976',\n",
       "       'Nov-1977', 'Jan-1973', 'Feb-1978', 'Jan-1968', 'Sep-1971',\n",
       "       'Oct-1977', 'Jul-1965', 'Jan-1980', 'Oct-1972', 'Aug-1973',\n",
       "       'Apr-1974', 'Aug-1969', 'Aug-1979', 'Sep-1965', 'Nov-1976',\n",
       "       'Nov-1965', 'Sep-1974', 'May-1977', 'Jan-1960', 'Feb-1973',\n",
       "       'May-1976', 'Aug-1967', 'Feb-1981', 'Apr-1978', 'Jan-1967',\n",
       "       'May-1973', 'Nov-1972', 'Oct-1970', 'Dec-1971', 'Apr-1972',\n",
       "       'Mar-1970', 'Nov-1971', 'Jul-1969', 'Feb-1968', 'Aug-1976',\n",
       "       'Apr-1979', 'Nov-1975', 'Jan-1975', 'May-1974', 'Jan-1963',\n",
       "       'Dec-1965', 'Dec-1962', 'Jun-1972', 'Jan-1964', 'May-1971',\n",
       "       'Dec-1973', 'Aug-1972', 'May-1970', 'Feb-1972', 'Jan-1969',\n",
       "       'Apr-1966', 'Mar-1971', 'Sep-1972', 'Oct-1968', 'Feb-1969',\n",
       "       'Feb-1971', 'Mar-1968', 'Dec-1966', 'Dec-1979', 'May-1967',\n",
       "       'Dec-1970', 'Oct-1966', 'Mar-1976', 'May-1972', 'Nov-1968',\n",
       "       'Feb-1965', 'Jun-1976', 'Dec-1961', 'Jan-1959', 'Sep-1970',\n",
       "       'Dec-1972', 'Jun-1971', 'Jun-1968', 'Jan-1961', 'Sep-1969',\n",
       "       'May-1961', 'Feb-1970', 'Jul-1975', 'Dec-1958', 'Aug-1971',\n",
       "       'Mar-1967', 'Mar-1963', 'Jul-1963', 'Mar-1969', 'Apr-1967',\n",
       "       'Dec-1974', 'Dec-1964', 'Mar-1975', 'Sep-1973', 'Oct-1958',\n",
       "       'Dec-1968', 'Jul-1973', 'Apr-1981', 'Feb-1974', 'Feb-1959',\n",
       "       'May-1969', 'Jan-1950', 'Aug-1968', 'Jan-1962', 'Sep-1966',\n",
       "       'Oct-1959', 'Jun-1965', 'Feb-1961', 'Oct-1962', 'Oct-1964',\n",
       "       'Jun-1967', 'Sep-1961', 'Nov-1967', 'Nov-1970', 'Dec-1963',\n",
       "       'Mar-1962', 'Jul-1970', 'Jan-1956', 'Jun-1962', 'May-1965',\n",
       "       'Jun-1966', 'Oct-1969', 'Jun-1955', 'May-1964', 'Feb-1967',\n",
       "       'Aug-1966', 'Feb-1964', 'Dec-1967', 'Apr-1971', 'May-1968',\n",
       "       'Jan-1970', 'Jul-1967', 'Jul-1966', 'Dec-1969', 'Jan-1966',\n",
       "       'Jun-1963', 'Oct-1965', 'Jul-1972', 'Sep-1968', 'Oct-1963',\n",
       "       'Aug-1970', 'Aug-1964', 'Nov-1963', 'Apr-1963', 'Feb-1966',\n",
       "       'Sep-1967', 'Sep-1953', 'Sep-1963', 'Apr-1955', 'Aug-1959',\n",
       "       'May-1963', 'Jun-1958', 'Nov-1956', 'Jul-1959', 'Jul-1971',\n",
       "       'Jan-1955', 'Mar-1966', 'Mar-1958', 'Jan-1958', 'Dec-1959',\n",
       "       'Apr-1962', 'Apr-1960', 'Nov-1957', 'Jun-1964', 'May-1960',\n",
       "       'Nov-1962', 'Oct-1967', 'Aug-1960', 'Jul-1962', 'May-1955',\n",
       "       'Mar-1960', 'Nov-1964', 'Aug-1951', 'Aug-1965', 'Sep-1959',\n",
       "       'Nov-1959', 'Apr-1964', 'Mar-1964', 'Jun-1957', 'Mar-1965',\n",
       "       'Nov-1958', 'Sep-1956', 'May-1957', 'Mar-1961', 'May-1962',\n",
       "       'Aug-1961', 'Dec-1956', 'Aug-1963', 'Jan-1952', 'Jul-1964',\n",
       "       'Mar-1955', 'Jul-1958', 'May-1959', 'Sep-1960', 'Oct-1960',\n",
       "       'Jul-1951', 'Dec-1960', 'Aug-1950', 'Aug-1955', 'Jun-1959',\n",
       "       'Oct-1961', 'Apr-1958', 'Jan-1954', 'Jan-1951', 'Jan-1944',\n",
       "       'Aug-2014', 'Feb-2015', 'Dec-2014', 'Feb-2014', 'Dec-2013',\n",
       "       'May-2014', 'Nov-2014', 'Jul-2014', 'Mar-2014', 'Apr-2013',\n",
       "       'Nov-2013', 'Jan-2014', 'Aug-2013', 'Jul-2013', 'Jun-2013',\n",
       "       'Sep-2014', 'Oct-2013', 'Oct-2014', 'May-2013', 'Sep-2013',\n",
       "       'Dec-2012', 'Jan-2015', 'Apr-2014', 'Mar-2013', 'Jan-2013',\n",
       "       'Feb-2013', 'Jun-2014', 'Jun-1961', 'Apr-1961', 'Aug-1958',\n",
       "       'Feb-1963', 'Apr-1934', 'Jul-1960', 'Feb-1962', 'Mar-1954',\n",
       "       'Jun-1952', 'Mar-2015', 'Jul-2015', 'Aug-2015', 'May-2015',\n",
       "       'Jun-2015', 'Apr-2015', 'Aug-1962', 'Jan-1953', 'Nov-1961',\n",
       "       'May-1958', 'Jun-1960', 'Feb-1945', 'Jan-1948', 'Mar-1959',\n",
       "       'Nov-1960', 'Mar-1957', 'Jul-1952', 'Aug-1946', 'Nov-1954',\n",
       "       'Sep-1957', 'Jun-1949', 'Oct-1950', 'Jul-1961', 'May-1950',\n",
       "       'Sep-2015', 'Oct-2015', 'Oct-1954', 'Jan-1946', 'Dec-1950', nan,\n",
       "       'Oct-1957', 'Nov-1953', 'Jul-1955', 'May-1953', 'Nov-1950',\n",
       "       'Nov-1955', 'Feb-1957', 'Feb-1960', 'Dec-1951'], dtype=object)"
      ]
     },
     "execution_count": 60,
     "metadata": {},
     "output_type": "execute_result"
    }
   ],
   "source": [
    "data_lc['earliest_cr_line'].unique()"
   ]
  },
  {
   "cell_type": "code",
   "execution_count": 61,
   "id": "22da327b",
   "metadata": {},
   "outputs": [
    {
     "data": {
      "text/plain": [
       "739"
      ]
     },
     "execution_count": 61,
     "metadata": {},
     "output_type": "execute_result"
    }
   ],
   "source": [
    "data_lc['earliest_cr_line'].nunique()"
   ]
  },
  {
   "cell_type": "markdown",
   "id": "44a1d201",
   "metadata": {},
   "source": [
    "The column 'earliest_cr_line' has impact on loan status, as a early date always means a better credit level. But the month in the date is not that important. So we would like to remove the month and only keep the year. We will not do it now but will do it later."
   ]
  },
  {
   "cell_type": "code",
   "execution_count": 62,
   "id": "cf4b86a1",
   "metadata": {},
   "outputs": [
    {
     "data": {
      "text/plain": [
       "array(['w', 'f'], dtype=object)"
      ]
     },
     "execution_count": 62,
     "metadata": {},
     "output_type": "execute_result"
    }
   ],
   "source": [
    "data_lc['initial_list_status'].unique()"
   ]
  },
  {
   "cell_type": "code",
   "execution_count": 63,
   "id": "59c6e888",
   "metadata": {},
   "outputs": [
    {
     "data": {
      "text/plain": [
       "array(['Jan-2019', 'Jun-2016', 'Jun-2017', 'Jul-2016', 'May-2017',\n",
       "       'Nov-2016', 'Jan-2017', 'Aug-2018', 'Apr-2017', 'Mar-2017',\n",
       "       'Feb-2018', 'Sep-2016', 'Mar-2016', 'May-2016', 'Sep-2017',\n",
       "       'Dec-2017', 'Nov-2018', 'Oct-2018', 'Aug-2016', 'Dec-2018',\n",
       "       'Dec-2016', 'Nov-2017', 'Mar-2018', 'Aug-2017', 'Mar-2019',\n",
       "       'Jul-2017', 'Feb-2017', 'Feb-2019', 'Oct-2016', 'Sep-2018',\n",
       "       'Oct-2017', 'Apr-2018', 'May-2018', 'Apr-2016', 'Jan-2018',\n",
       "       'Jul-2018', 'Jun-2018', 'Feb-2016', 'Jan-2016', nan, 'Dec-2015',\n",
       "       'Nov-2015', 'Oct-2015', 'Sep-2015', 'Aug-2015', 'Jul-2015',\n",
       "       'Jun-2015', 'May-2015', 'Apr-2015', 'Mar-2015', 'Feb-2015',\n",
       "       'Jan-2015', 'Dec-2014', 'Nov-2014', 'Oct-2014', 'Sep-2014',\n",
       "       'Aug-2014', 'Jul-2014', 'Jun-2014', 'May-2014', 'Apr-2014',\n",
       "       'Mar-2014', 'Feb-2014', 'Apr-2013', 'Apr-2012', 'Nov-2012',\n",
       "       'Jun-2013', 'Sep-2013', 'Jul-2012', 'Oct-2013', 'May-2013',\n",
       "       'Oct-2012', 'Sep-2012', 'Dec-2012', 'Aug-2013', 'Nov-2013',\n",
       "       'Jan-2014', 'Aug-2012', 'Jul-2013', 'Jun-2012', 'Feb-2013',\n",
       "       'Mar-2013', 'Jan-2013', 'Dec-2013', 'Feb-2012', 'Jan-2012',\n",
       "       'Mar-2012', 'May-2012', 'Dec-2011', 'Nov-2011', 'Oct-2011',\n",
       "       'Sep-2011', 'Aug-2011', 'Jul-2011', 'Jun-2011', 'May-2011',\n",
       "       'Apr-2011', 'Mar-2011', 'Feb-2011', 'Jan-2011', 'Dec-2010',\n",
       "       'Nov-2010', 'Oct-2010', 'Sep-2010', 'Aug-2010', 'Jul-2010',\n",
       "       'Jun-2010', 'May-2010', 'Apr-2010', 'Mar-2010', 'Feb-2010',\n",
       "       'Jan-2010', 'Dec-2009', 'Nov-2009', 'Oct-2009', 'Sep-2009',\n",
       "       'Aug-2009', 'Jul-2009', 'Jun-2009', 'May-2009', 'Apr-2009',\n",
       "       'Mar-2009', 'Feb-2009', 'Jan-2009', 'Dec-2008', 'Oct-2008',\n",
       "       'Aug-2008', 'Jul-2008', 'Sep-2008', 'Jun-2008', 'May-2008',\n",
       "       'Nov-2008', 'Apr-2008', 'Mar-2008', 'Feb-2008', 'Jan-2008',\n",
       "       'Dec-2007'], dtype=object)"
      ]
     },
     "execution_count": 63,
     "metadata": {},
     "output_type": "execute_result"
    }
   ],
   "source": [
    "data_lc['last_pymnt_d'].unique()"
   ]
  },
  {
   "cell_type": "code",
   "execution_count": 64,
   "id": "7e2b7ab2",
   "metadata": {},
   "outputs": [
    {
     "data": {
      "text/plain": [
       "array(['Mar-2019', 'Mar-2018', 'May-2017', 'Nov-2018', 'Sep-2018',\n",
       "       'Nov-2017', 'Aug-2018', 'Apr-2017', 'Jun-2016', 'Jan-2018',\n",
       "       'Sep-2017', 'Dec-2017', 'Jul-2016', 'Jan-2019', 'Jun-2017',\n",
       "       'Feb-2019', 'Dec-2018', 'Feb-2018', 'Aug-2017', 'Feb-2017',\n",
       "       'May-2018', 'Dec-2016', 'Apr-2018', 'Jul-2018', 'Mar-2016',\n",
       "       'Jun-2018', 'Oct-2017', 'Jul-2017', 'Oct-2018', 'Jan-2017',\n",
       "       'Oct-2016', 'Apr-2016', 'Mar-2017', 'Aug-2016', 'Feb-2016',\n",
       "       'Nov-2016', 'Sep-2016', 'Jan-2016', 'Dec-2015', 'May-2016', nan,\n",
       "       'Nov-2015', 'Oct-2015', 'Sep-2015', 'Aug-2015', 'Jul-2015',\n",
       "       'Jun-2015', 'May-2015', 'Apr-2015', 'Mar-2015', 'Feb-2015',\n",
       "       'Jan-2015', 'Dec-2014', 'Nov-2014', 'Oct-2014', 'Sep-2014',\n",
       "       'Aug-2014', 'Jul-2014', 'Jun-2014', 'May-2014', 'Apr-2014',\n",
       "       'Mar-2014', 'Feb-2014', 'Jan-2014', 'Sep-2012', 'Jun-2012',\n",
       "       'Dec-2012', 'Feb-2013', 'Feb-2012', 'Nov-2013', 'Apr-2012',\n",
       "       'May-2013', 'Aug-2012', 'Sep-2013', 'Jan-2012', 'Oct-2013',\n",
       "       'May-2012', 'Jul-2012', 'Jun-2013', 'Dec-2013', 'Nov-2012',\n",
       "       'Mar-2013', 'Apr-2013', 'Jul-2013', 'Mar-2012', 'Aug-2013',\n",
       "       'Oct-2012', 'Nov-2011', 'Dec-2011', 'Oct-2011', 'Sep-2011',\n",
       "       'Jan-2013', 'Aug-2011', 'Jul-2011', 'Jun-2011', 'May-2011',\n",
       "       'Apr-2011', 'Mar-2011', 'Feb-2011', 'Jan-2011', 'Dec-2010',\n",
       "       'Nov-2010', 'Oct-2010', 'Sep-2010', 'Aug-2010', 'Jul-2010',\n",
       "       'Jun-2010', 'May-2010', 'Apr-2010', 'Mar-2010', 'Feb-2010',\n",
       "       'Aug-2007', 'Jan-2010', 'Dec-2009', 'Nov-2009', 'Oct-2009',\n",
       "       'Sep-2009', 'Jul-2009', 'Aug-2009', 'May-2009', 'Jun-2009',\n",
       "       'Apr-2009', 'Mar-2009', 'Feb-2009', 'Dec-2008', 'Jan-2009',\n",
       "       'Jun-2008', 'Sep-2008', 'Aug-2008', 'Mar-2008', 'Oct-2008',\n",
       "       'Feb-2008', 'Jan-2008', 'Dec-2007', 'Jul-2008', 'Oct-2007',\n",
       "       'Sep-2007', 'Jun-2007', 'May-2007', 'Jul-2007', 'Nov-2007',\n",
       "       'Apr-2019'], dtype=object)"
      ]
     },
     "execution_count": 64,
     "metadata": {},
     "output_type": "execute_result"
    }
   ],
   "source": [
    "data_lc['last_credit_pull_d'].unique()"
   ]
  },
  {
   "cell_type": "code",
   "execution_count": 65,
   "id": "260593f9",
   "metadata": {},
   "outputs": [
    {
     "data": {
      "text/plain": [
       "array(['Individual', 'Joint App'], dtype=object)"
      ]
     },
     "execution_count": 65,
     "metadata": {},
     "output_type": "execute_result"
    }
   ],
   "source": [
    "data_lc['application_type'].unique()"
   ]
  },
  {
   "cell_type": "code",
   "execution_count": 66,
   "id": "88dea183",
   "metadata": {},
   "outputs": [
    {
     "data": {
      "text/plain": [
       "array(['N'], dtype=object)"
      ]
     },
     "execution_count": 66,
     "metadata": {},
     "output_type": "execute_result"
    }
   ],
   "source": [
    "data_lc['hardship_flag'].unique()"
   ]
  },
  {
   "cell_type": "markdown",
   "id": "bba3953c",
   "metadata": {},
   "source": [
    "Like 'pymnt_plan', 'hardship_flag' also has only one value left. Let's remove it."
   ]
  },
  {
   "cell_type": "code",
   "execution_count": 67,
   "id": "79ec8dad",
   "metadata": {},
   "outputs": [
    {
     "data": {
      "text/plain": [
       "array(['Cash', 'DirectPay'], dtype=object)"
      ]
     },
     "execution_count": 67,
     "metadata": {},
     "output_type": "execute_result"
    }
   ],
   "source": [
    "data_lc['disbursement_method'].unique()"
   ]
  },
  {
   "cell_type": "code",
   "execution_count": 68,
   "id": "bb5b4dd3",
   "metadata": {},
   "outputs": [
    {
     "data": {
      "text/plain": [
       "array(['N', 'Y'], dtype=object)"
      ]
     },
     "execution_count": 68,
     "metadata": {},
     "output_type": "execute_result"
    }
   ],
   "source": [
    "data_lc['debt_settlement_flag'].unique()"
   ]
  },
  {
   "cell_type": "code",
   "execution_count": 69,
   "id": "641e2704",
   "metadata": {},
   "outputs": [
    {
     "name": "stdout",
     "output_type": "stream",
     "text": [
      "<class 'pandas.core.frame.DataFrame'>\n",
      "Int64Index: 1348099 entries, 0 to 2260697\n",
      "Data columns (total 44 columns):\n",
      " #   Column                Non-Null Count    Dtype   \n",
      "---  ------                --------------    -----   \n",
      " 0   id                    1348099 non-null  object  \n",
      " 1   loan_amnt             1348099 non-null  float64 \n",
      " 2   term                  1348099 non-null  object  \n",
      " 3   int_rate              1348099 non-null  float64 \n",
      " 4   grade                 1348099 non-null  object  \n",
      " 5   sub_grade             1348099 non-null  object  \n",
      " 6   emp_title             1262149 non-null  object  \n",
      " 7   emp_length            1269549 non-null  object  \n",
      " 8   home_ownership        1348099 non-null  object  \n",
      " 9   annual_inc            1348095 non-null  float64 \n",
      " 10  verification_status   1348099 non-null  object  \n",
      " 11  issue_d               1348099 non-null  object  \n",
      " 12  loan_status           1348099 non-null  category\n",
      " 13  pymnt_plan            1348099 non-null  object  \n",
      " 14  url                   1348099 non-null  object  \n",
      " 15  purpose               1348099 non-null  object  \n",
      " 16  title                 1331438 non-null  object  \n",
      " 17  zip_code              1348098 non-null  object  \n",
      " 18  addr_state            1348099 non-null  object  \n",
      " 19  dti                   1347725 non-null  float64 \n",
      " 20  earliest_cr_line      1348070 non-null  object  \n",
      " 21  fico_range_high       1348099 non-null  float64 \n",
      " 22  inq_last_6mths        1348069 non-null  float64 \n",
      " 23  revol_util            1347202 non-null  float64 \n",
      " 24  initial_list_status   1348099 non-null  object  \n",
      " 25  out_prncp             1348099 non-null  float64 \n",
      " 26  total_pymnt           1348099 non-null  float64 \n",
      " 27  total_rec_late_fee    1348099 non-null  float64 \n",
      " 28  recoveries            1348099 non-null  float64 \n",
      " 29  last_pymnt_d          1345774 non-null  object  \n",
      " 30  last_pymnt_amnt       1348099 non-null  float64 \n",
      " 31  last_credit_pull_d    1348042 non-null  object  \n",
      " 32  last_fico_range_low   1348099 non-null  float64 \n",
      " 33  policy_code           1348099 non-null  float64 \n",
      " 34  application_type      1348099 non-null  object  \n",
      " 35  acc_open_past_24mths  1298069 non-null  float64 \n",
      " 36  mort_acc              1298069 non-null  float64 \n",
      " 37  num_tl_op_past_12m    1277823 non-null  float64 \n",
      " 38  percent_bc_gt_75      1283793 non-null  float64 \n",
      " 39  tot_hi_cred_lim       1277823 non-null  float64 \n",
      " 40  total_bc_limit        1298069 non-null  float64 \n",
      " 41  hardship_flag         1348099 non-null  object  \n",
      " 42  disbursement_method   1348099 non-null  object  \n",
      " 43  debt_settlement_flag  1348099 non-null  object  \n",
      "dtypes: category(1), float64(20), object(23)\n",
      "memory usage: 453.8+ MB\n"
     ]
    }
   ],
   "source": [
    "data_lc.info()"
   ]
  },
  {
   "cell_type": "markdown",
   "id": "0491fed6",
   "metadata": {},
   "source": [
    "We think 'last_pymnt_d' and 'last_credit_pull_d' should have no effect on loan status, so we would like to remove them, as well as a few othe columns we mentioned above."
   ]
  },
  {
   "cell_type": "code",
   "execution_count": 70,
   "id": "7b3c9422",
   "metadata": {},
   "outputs": [],
   "source": [
    "drop_columns_4 = ['id','sub_grade','issue_d','pymnt_plan','emp_title','title','addr_state','zip_code',\n",
    "                  'last_pymnt_d','last_credit_pull_d','url','hardship_flag']"
   ]
  },
  {
   "cell_type": "code",
   "execution_count": 71,
   "id": "ad184740",
   "metadata": {},
   "outputs": [
    {
     "data": {
      "text/plain": [
       "12"
      ]
     },
     "execution_count": 71,
     "metadata": {},
     "output_type": "execute_result"
    }
   ],
   "source": [
    "len(drop_columns_4)"
   ]
  },
  {
   "cell_type": "code",
   "execution_count": 72,
   "id": "1e9f8af4",
   "metadata": {},
   "outputs": [],
   "source": [
    "data_lc = data_lc.drop(columns = drop_columns_4)"
   ]
  },
  {
   "cell_type": "markdown",
   "id": "065e1450",
   "metadata": {},
   "source": [
    "We have dropped quite a few columns and now let's see what our new dataset look like. "
   ]
  },
  {
   "cell_type": "code",
   "execution_count": 73,
   "id": "acd2eab4",
   "metadata": {},
   "outputs": [
    {
     "data": {
      "text/plain": [
       "(1348099, 32)"
      ]
     },
     "execution_count": 73,
     "metadata": {},
     "output_type": "execute_result"
    }
   ],
   "source": [
    "data_lc.shape"
   ]
  },
  {
   "cell_type": "code",
   "execution_count": 74,
   "id": "e3ef8cc2",
   "metadata": {},
   "outputs": [
    {
     "name": "stdout",
     "output_type": "stream",
     "text": [
      "<class 'pandas.core.frame.DataFrame'>\n",
      "Int64Index: 1348099 entries, 0 to 2260697\n",
      "Data columns (total 32 columns):\n",
      " #   Column                Non-Null Count    Dtype   \n",
      "---  ------                --------------    -----   \n",
      " 0   loan_amnt             1348099 non-null  float64 \n",
      " 1   term                  1348099 non-null  object  \n",
      " 2   int_rate              1348099 non-null  float64 \n",
      " 3   grade                 1348099 non-null  object  \n",
      " 4   emp_length            1269549 non-null  object  \n",
      " 5   home_ownership        1348099 non-null  object  \n",
      " 6   annual_inc            1348095 non-null  float64 \n",
      " 7   verification_status   1348099 non-null  object  \n",
      " 8   loan_status           1348099 non-null  category\n",
      " 9   purpose               1348099 non-null  object  \n",
      " 10  dti                   1347725 non-null  float64 \n",
      " 11  earliest_cr_line      1348070 non-null  object  \n",
      " 12  fico_range_high       1348099 non-null  float64 \n",
      " 13  inq_last_6mths        1348069 non-null  float64 \n",
      " 14  revol_util            1347202 non-null  float64 \n",
      " 15  initial_list_status   1348099 non-null  object  \n",
      " 16  out_prncp             1348099 non-null  float64 \n",
      " 17  total_pymnt           1348099 non-null  float64 \n",
      " 18  total_rec_late_fee    1348099 non-null  float64 \n",
      " 19  recoveries            1348099 non-null  float64 \n",
      " 20  last_pymnt_amnt       1348099 non-null  float64 \n",
      " 21  last_fico_range_low   1348099 non-null  float64 \n",
      " 22  policy_code           1348099 non-null  float64 \n",
      " 23  application_type      1348099 non-null  object  \n",
      " 24  acc_open_past_24mths  1298069 non-null  float64 \n",
      " 25  mort_acc              1298069 non-null  float64 \n",
      " 26  num_tl_op_past_12m    1277823 non-null  float64 \n",
      " 27  percent_bc_gt_75      1283793 non-null  float64 \n",
      " 28  tot_hi_cred_lim       1277823 non-null  float64 \n",
      " 29  total_bc_limit        1298069 non-null  float64 \n",
      " 30  disbursement_method   1348099 non-null  object  \n",
      " 31  debt_settlement_flag  1348099 non-null  object  \n",
      "dtypes: category(1), float64(20), object(11)\n",
      "memory usage: 330.4+ MB\n"
     ]
    }
   ],
   "source": [
    "data_lc.info()"
   ]
  },
  {
   "cell_type": "markdown",
   "id": "aa07dcb5",
   "metadata": {},
   "source": [
    "There are total 1348099 rows and 32 columns. It is now much smaller than the original one. Now let's plot the correlation matrix and see how it looks like."
   ]
  },
  {
   "cell_type": "code",
   "execution_count": 75,
   "id": "dae6a489",
   "metadata": {},
   "outputs": [
    {
     "data": {
      "image/png": "[encoded data removed]",
      "text/plain": [
       "<Figure size 864x720 with 2 Axes>"
      ]
     },
     "metadata": {
      "needs_background": "light"
     },
     "output_type": "display_data"
    }
   ],
   "source": [
    "plt.subplots(figsize=(12,10))\n",
    "sns.heatmap(data_lc.corr());"
   ]
  },
  {
   "cell_type": "markdown",
   "id": "d71c03fa",
   "metadata": {},
   "source": [
    "There are a few things which seems noticable. First, column 'policy_code' and 'out_prncp' is with no color. and the \n",
    "small square of 'loan_amnt' with 'total_pymnt' is very mild. We would like to have a look on them."
   ]
  },
  {
   "cell_type": "code",
   "execution_count": 76,
   "id": "22ea1fd7",
   "metadata": {},
   "outputs": [
    {
     "data": {
      "text/plain": [
       "array([1.])"
      ]
     },
     "execution_count": 76,
     "metadata": {},
     "output_type": "execute_result"
    }
   ],
   "source": [
    "data_lc['policy_code'].unique()"
   ]
  },
  {
   "cell_type": "code",
   "execution_count": 77,
   "id": "35b28af5",
   "metadata": {},
   "outputs": [
    {
     "data": {
      "text/plain": [
       "array([    0.  , 21999.94, 25320.47, 22991.22,  9032.08,  2305.04,\n",
       "        9321.75,  8586.55,  3510.59,  6213.22,  9050.79,  2792.69,\n",
       "         468.01, 11105.05,  2026.17,  3250.42,  5311.24, 16520.39,\n",
       "        5080.67, 15838.02, 22753.74,  1647.71,  2274.99,  4857.56,\n",
       "       14185.71,  2786.98, 20405.73,  3376.73, 17881.12,  7369.59,\n",
       "        1117.14,  8502.11,  1475.65, 28222.01, 27009.42,  8192.37,\n",
       "        1990.99, 14928.28,  1951.95,  8052.16,  3226.84])"
      ]
     },
     "execution_count": 77,
     "metadata": {},
     "output_type": "execute_result"
    }
   ],
   "source": [
    "data_lc['out_prncp'].unique()"
   ]
  },
  {
   "cell_type": "code",
   "execution_count": 78,
   "id": "591a3e57",
   "metadata": {},
   "outputs": [
    {
     "data": {
      "text/plain": [
       "0.8543968774180337"
      ]
     },
     "execution_count": 78,
     "metadata": {},
     "output_type": "execute_result"
    }
   ],
   "source": [
    "data_lc['total_pymnt'].corr(data_lc['loan_amnt'])"
   ]
  },
  {
   "cell_type": "markdown",
   "id": "0d7f7ef0",
   "metadata": {},
   "source": [
    "It shows that columns 'policy_code' and 'out_prncp' only has single value, correlation of 'total_pymnt' and 'loan_amnt' is with high correlation. \n",
    "\n",
    "We also realize 'verification_status' shows that if the customer's income is verified or not. For those not verified, Lender Club could go ahead and verify it. So it is not a feature about our customer. It should also be removed. \n",
    "\n",
    "Thus let's remove those four columns."
   ]
  },
  {
   "cell_type": "code",
   "execution_count": 79,
   "id": "981fa1af",
   "metadata": {},
   "outputs": [],
   "source": [
    "drop_columns_5 = ['total_pymnt','policy_code','out_prncp','verification_status']"
   ]
  },
  {
   "cell_type": "code",
   "execution_count": 80,
   "id": "62d83cc6",
   "metadata": {},
   "outputs": [],
   "source": [
    "data_lc = data_lc.drop(columns = drop_columns_5)"
   ]
  },
  {
   "cell_type": "markdown",
   "id": "282beaf8",
   "metadata": {},
   "source": [
    "# 6. Remove rows with missing value"
   ]
  },
  {
   "cell_type": "markdown",
   "id": "790270fa",
   "metadata": {},
   "source": [
    "Let's see missing values in each columns."
   ]
  },
  {
   "cell_type": "code",
   "execution_count": 81,
   "id": "11ce4cb8",
   "metadata": {},
   "outputs": [
    {
     "data": {
      "text/plain": [
       "loan_amnt                   0\n",
       "term                        0\n",
       "int_rate                    0\n",
       "grade                       0\n",
       "emp_length              78550\n",
       "home_ownership              0\n",
       "annual_inc                  4\n",
       "loan_status                 0\n",
       "purpose                     0\n",
       "dti                       374\n",
       "earliest_cr_line           29\n",
       "fico_range_high             0\n",
       "inq_last_6mths             30\n",
       "revol_util                897\n",
       "initial_list_status         0\n",
       "total_rec_late_fee          0\n",
       "recoveries                  0\n",
       "last_pymnt_amnt             0\n",
       "last_fico_range_low         0\n",
       "application_type            0\n",
       "acc_open_past_24mths    50030\n",
       "mort_acc                50030\n",
       "num_tl_op_past_12m      70276\n",
       "percent_bc_gt_75        64306\n",
       "tot_hi_cred_lim         70276\n",
       "total_bc_limit          50030\n",
       "disbursement_method         0\n",
       "debt_settlement_flag        0\n",
       "dtype: int64"
      ]
     },
     "execution_count": 81,
     "metadata": {},
     "output_type": "execute_result"
    }
   ],
   "source": [
    "data_lc.isnull().sum()"
   ]
  },
  {
   "cell_type": "markdown",
   "id": "571e8167",
   "metadata": {},
   "source": [
    "We can imagine that there is only small amount of missing values. So let's drop those rows with missing values."
   ]
  },
  {
   "cell_type": "code",
   "execution_count": 82,
   "id": "d100aad2",
   "metadata": {},
   "outputs": [],
   "source": [
    "data_lc = data_lc.dropna()"
   ]
  },
  {
   "cell_type": "code",
   "execution_count": 83,
   "id": "21596510",
   "metadata": {},
   "outputs": [
    {
     "name": "stdout",
     "output_type": "stream",
     "text": [
      "<class 'pandas.core.frame.DataFrame'>\n",
      "Int64Index: 1188466 entries, 0 to 2260697\n",
      "Data columns (total 28 columns):\n",
      " #   Column                Non-Null Count    Dtype   \n",
      "---  ------                --------------    -----   \n",
      " 0   loan_amnt             1188466 non-null  float64 \n",
      " 1   term                  1188466 non-null  object  \n",
      " 2   int_rate              1188466 non-null  float64 \n",
      " 3   grade                 1188466 non-null  object  \n",
      " 4   emp_length            1188466 non-null  object  \n",
      " 5   home_ownership        1188466 non-null  object  \n",
      " 6   annual_inc            1188466 non-null  float64 \n",
      " 7   loan_status           1188466 non-null  category\n",
      " 8   purpose               1188466 non-null  object  \n",
      " 9   dti                   1188466 non-null  float64 \n",
      " 10  earliest_cr_line      1188466 non-null  object  \n",
      " 11  fico_range_high       1188466 non-null  float64 \n",
      " 12  inq_last_6mths        1188466 non-null  float64 \n",
      " 13  revol_util            1188466 non-null  float64 \n",
      " 14  initial_list_status   1188466 non-null  object  \n",
      " 15  total_rec_late_fee    1188466 non-null  float64 \n",
      " 16  recoveries            1188466 non-null  float64 \n",
      " 17  last_pymnt_amnt       1188466 non-null  float64 \n",
      " 18  last_fico_range_low   1188466 non-null  float64 \n",
      " 19  application_type      1188466 non-null  object  \n",
      " 20  acc_open_past_24mths  1188466 non-null  float64 \n",
      " 21  mort_acc              1188466 non-null  float64 \n",
      " 22  num_tl_op_past_12m    1188466 non-null  float64 \n",
      " 23  percent_bc_gt_75      1188466 non-null  float64 \n",
      " 24  tot_hi_cred_lim       1188466 non-null  float64 \n",
      " 25  total_bc_limit        1188466 non-null  float64 \n",
      " 26  disbursement_method   1188466 non-null  object  \n",
      " 27  debt_settlement_flag  1188466 non-null  object  \n",
      "dtypes: category(1), float64(17), object(10)\n",
      "memory usage: 255.0+ MB\n"
     ]
    }
   ],
   "source": [
    "data_lc.info()"
   ]
  },
  {
   "cell_type": "markdown",
   "id": "08f1e520",
   "metadata": {},
   "source": [
    "All missing data have been removed. And our final dataset is with 1188466 rows and 28 columns."
   ]
  },
  {
   "cell_type": "markdown",
   "id": "289e6068",
   "metadata": {},
   "source": [
    "# 7. Check outliners"
   ]
  },
  {
   "cell_type": "markdown",
   "id": "b6ca5123",
   "metadata": {},
   "source": [
    "Next, we want to check any outliners in numerical columns. We will remove a few extreme outliners to avoid bias."
   ]
  },
  {
   "cell_type": "code",
   "execution_count": 84,
   "id": "b3aa1659",
   "metadata": {},
   "outputs": [
    {
     "data": {
      "text/html": [
       "<div>\n",
       "<style scoped>\n",
       "    .dataframe tbody tr th:only-of-type {\n",
       "        vertical-align: middle;\n",
       "    }\n",
       "\n",
       "    .dataframe tbody tr th {\n",
       "        vertical-align: top;\n",
       "    }\n",
       "\n",
       "    .dataframe thead th {\n",
       "        text-align: right;\n",
       "    }\n",
       "</style>\n",
       "<table border=\"1\" class=\"dataframe\">\n",
       "  <thead>\n",
       "    <tr style=\"text-align: right;\">\n",
       "      <th></th>\n",
       "      <th>loan_amnt</th>\n",
       "      <th>int_rate</th>\n",
       "      <th>annual_inc</th>\n",
       "      <th>dti</th>\n",
       "      <th>fico_range_high</th>\n",
       "      <th>inq_last_6mths</th>\n",
       "      <th>revol_util</th>\n",
       "      <th>total_rec_late_fee</th>\n",
       "      <th>recoveries</th>\n",
       "      <th>last_pymnt_amnt</th>\n",
       "      <th>last_fico_range_low</th>\n",
       "      <th>acc_open_past_24mths</th>\n",
       "      <th>mort_acc</th>\n",
       "      <th>num_tl_op_past_12m</th>\n",
       "      <th>percent_bc_gt_75</th>\n",
       "      <th>tot_hi_cred_lim</th>\n",
       "      <th>total_bc_limit</th>\n",
       "    </tr>\n",
       "  </thead>\n",
       "  <tbody>\n",
       "    <tr>\n",
       "      <th>count</th>\n",
       "      <td>1.188466e+06</td>\n",
       "      <td>1.188466e+06</td>\n",
       "      <td>1.188466e+06</td>\n",
       "      <td>1.188466e+06</td>\n",
       "      <td>1.188466e+06</td>\n",
       "      <td>1.188466e+06</td>\n",
       "      <td>1.188466e+06</td>\n",
       "      <td>1.188466e+06</td>\n",
       "      <td>1.188466e+06</td>\n",
       "      <td>1.188466e+06</td>\n",
       "      <td>1.188466e+06</td>\n",
       "      <td>1.188466e+06</td>\n",
       "      <td>1.188466e+06</td>\n",
       "      <td>1.188466e+06</td>\n",
       "      <td>1.188466e+06</td>\n",
       "      <td>1.188466e+06</td>\n",
       "      <td>1.188466e+06</td>\n",
       "    </tr>\n",
       "    <tr>\n",
       "      <th>mean</th>\n",
       "      <td>1.477169e+04</td>\n",
       "      <td>1.325446e+01</td>\n",
       "      <td>7.845298e+04</td>\n",
       "      <td>1.834333e+01</td>\n",
       "      <td>6.993496e+02</td>\n",
       "      <td>6.477888e-01</td>\n",
       "      <td>5.205513e+01</td>\n",
       "      <td>1.616041e+00</td>\n",
       "      <td>2.498789e+02</td>\n",
       "      <td>5.671179e+03</td>\n",
       "      <td>6.598787e+02</td>\n",
       "      <td>4.729307e+00</td>\n",
       "      <td>1.665535e+00</td>\n",
       "      <td>2.188749e+00</td>\n",
       "      <td>4.526088e+01</td>\n",
       "      <td>1.776699e+05</td>\n",
       "      <td>2.207220e+04</td>\n",
       "    </tr>\n",
       "    <tr>\n",
       "      <th>std</th>\n",
       "      <td>8.771317e+03</td>\n",
       "      <td>4.799233e+00</td>\n",
       "      <td>7.183009e+04</td>\n",
       "      <td>9.651526e+00</td>\n",
       "      <td>3.127451e+01</td>\n",
       "      <td>9.331672e-01</td>\n",
       "      <td>2.424714e+01</td>\n",
       "      <td>1.104999e+01</td>\n",
       "      <td>9.745025e+02</td>\n",
       "      <td>7.268310e+03</td>\n",
       "      <td>1.330086e+02</td>\n",
       "      <td>3.197327e+00</td>\n",
       "      <td>1.993884e+00</td>\n",
       "      <td>1.848688e+00</td>\n",
       "      <td>3.592333e+01</td>\n",
       "      <td>1.792923e+05</td>\n",
       "      <td>2.160921e+04</td>\n",
       "    </tr>\n",
       "    <tr>\n",
       "      <th>min</th>\n",
       "      <td>1.000000e+03</td>\n",
       "      <td>5.310000e+00</td>\n",
       "      <td>3.300000e+01</td>\n",
       "      <td>-1.000000e+00</td>\n",
       "      <td>6.640000e+02</td>\n",
       "      <td>0.000000e+00</td>\n",
       "      <td>0.000000e+00</td>\n",
       "      <td>-5.100000e-09</td>\n",
       "      <td>0.000000e+00</td>\n",
       "      <td>0.000000e+00</td>\n",
       "      <td>0.000000e+00</td>\n",
       "      <td>0.000000e+00</td>\n",
       "      <td>0.000000e+00</td>\n",
       "      <td>0.000000e+00</td>\n",
       "      <td>0.000000e+00</td>\n",
       "      <td>2.000000e+02</td>\n",
       "      <td>1.000000e+02</td>\n",
       "    </tr>\n",
       "    <tr>\n",
       "      <th>25%</th>\n",
       "      <td>8.000000e+03</td>\n",
       "      <td>9.750000e+00</td>\n",
       "      <td>4.800000e+04</td>\n",
       "      <td>1.194000e+01</td>\n",
       "      <td>6.740000e+02</td>\n",
       "      <td>0.000000e+00</td>\n",
       "      <td>3.390000e+01</td>\n",
       "      <td>0.000000e+00</td>\n",
       "      <td>0.000000e+00</td>\n",
       "      <td>4.300200e+02</td>\n",
       "      <td>6.250000e+02</td>\n",
       "      <td>2.000000e+00</td>\n",
       "      <td>0.000000e+00</td>\n",
       "      <td>1.000000e+00</td>\n",
       "      <td>1.110000e+01</td>\n",
       "      <td>5.126000e+04</td>\n",
       "      <td>8.000000e+03</td>\n",
       "    </tr>\n",
       "    <tr>\n",
       "      <th>50%</th>\n",
       "      <td>1.260000e+04</td>\n",
       "      <td>1.274000e+01</td>\n",
       "      <td>6.600000e+04</td>\n",
       "      <td>1.772000e+01</td>\n",
       "      <td>6.940000e+02</td>\n",
       "      <td>0.000000e+00</td>\n",
       "      <td>5.240000e+01</td>\n",
       "      <td>0.000000e+00</td>\n",
       "      <td>0.000000e+00</td>\n",
       "      <td>2.359620e+03</td>\n",
       "      <td>6.900000e+02</td>\n",
       "      <td>4.000000e+00</td>\n",
       "      <td>1.000000e+00</td>\n",
       "      <td>2.000000e+00</td>\n",
       "      <td>4.290000e+01</td>\n",
       "      <td>1.158465e+05</td>\n",
       "      <td>1.550000e+04</td>\n",
       "    </tr>\n",
       "    <tr>\n",
       "      <th>75%</th>\n",
       "      <td>2.000000e+04</td>\n",
       "      <td>1.601000e+01</td>\n",
       "      <td>9.380500e+04</td>\n",
       "      <td>2.419000e+01</td>\n",
       "      <td>7.140000e+02</td>\n",
       "      <td>1.000000e+00</td>\n",
       "      <td>7.070000e+01</td>\n",
       "      <td>0.000000e+00</td>\n",
       "      <td>0.000000e+00</td>\n",
       "      <td>8.705700e+03</td>\n",
       "      <td>7.300000e+02</td>\n",
       "      <td>6.000000e+00</td>\n",
       "      <td>3.000000e+00</td>\n",
       "      <td>3.000000e+00</td>\n",
       "      <td>7.500000e+01</td>\n",
       "      <td>2.563830e+05</td>\n",
       "      <td>2.860000e+04</td>\n",
       "    </tr>\n",
       "    <tr>\n",
       "      <th>max</th>\n",
       "      <td>4.000000e+04</td>\n",
       "      <td>3.099000e+01</td>\n",
       "      <td>1.099920e+07</td>\n",
       "      <td>9.990000e+02</td>\n",
       "      <td>8.500000e+02</td>\n",
       "      <td>8.000000e+00</td>\n",
       "      <td>3.666000e+02</td>\n",
       "      <td>1.188830e+03</td>\n",
       "      <td>3.985955e+04</td>\n",
       "      <td>4.219205e+04</td>\n",
       "      <td>8.450000e+02</td>\n",
       "      <td>6.400000e+01</td>\n",
       "      <td>4.700000e+01</td>\n",
       "      <td>3.000000e+01</td>\n",
       "      <td>1.000000e+02</td>\n",
       "      <td>9.999999e+06</td>\n",
       "      <td>1.105500e+06</td>\n",
       "    </tr>\n",
       "  </tbody>\n",
       "</table>\n",
       "</div>"
      ],
      "text/plain": [
       "          loan_amnt      int_rate    annual_inc           dti  \\\n",
       "count  1.188466e+06  1.188466e+06  1.188466e+06  1.188466e+06   \n",
       "mean   1.477169e+04  1.325446e+01  7.845298e+04  1.834333e+01   \n",
       "std    8.771317e+03  4.799233e+00  7.183009e+04  9.651526e+00   \n",
       "min    1.000000e+03  5.310000e+00  3.300000e+01 -1.000000e+00   \n",
       "25%    8.000000e+03  9.750000e+00  4.800000e+04  1.194000e+01   \n",
       "50%    1.260000e+04  1.274000e+01  6.600000e+04  1.772000e+01   \n",
       "75%    2.000000e+04  1.601000e+01  9.380500e+04  2.419000e+01   \n",
       "max    4.000000e+04  3.099000e+01  1.099920e+07  9.990000e+02   \n",
       "\n",
       "       fico_range_high  inq_last_6mths    revol_util  total_rec_late_fee  \\\n",
       "count     1.188466e+06    1.188466e+06  1.188466e+06        1.188466e+06   \n",
       "mean      6.993496e+02    6.477888e-01  5.205513e+01        1.616041e+00   \n",
       "std       3.127451e+01    9.331672e-01  2.424714e+01        1.104999e+01   \n",
       "min       6.640000e+02    0.000000e+00  0.000000e+00       -5.100000e-09   \n",
       "25%       6.740000e+02    0.000000e+00  3.390000e+01        0.000000e+00   \n",
       "50%       6.940000e+02    0.000000e+00  5.240000e+01        0.000000e+00   \n",
       "75%       7.140000e+02    1.000000e+00  7.070000e+01        0.000000e+00   \n",
       "max       8.500000e+02    8.000000e+00  3.666000e+02        1.188830e+03   \n",
       "\n",
       "         recoveries  last_pymnt_amnt  last_fico_range_low  \\\n",
       "count  1.188466e+06     1.188466e+06         1.188466e+06   \n",
       "mean   2.498789e+02     5.671179e+03         6.598787e+02   \n",
       "std    9.745025e+02     7.268310e+03         1.330086e+02   \n",
       "min    0.000000e+00     0.000000e+00         0.000000e+00   \n",
       "25%    0.000000e+00     4.300200e+02         6.250000e+02   \n",
       "50%    0.000000e+00     2.359620e+03         6.900000e+02   \n",
       "75%    0.000000e+00     8.705700e+03         7.300000e+02   \n",
       "max    3.985955e+04     4.219205e+04         8.450000e+02   \n",
       "\n",
       "       acc_open_past_24mths      mort_acc  num_tl_op_past_12m  \\\n",
       "count          1.188466e+06  1.188466e+06        1.188466e+06   \n",
       "mean           4.729307e+00  1.665535e+00        2.188749e+00   \n",
       "std            3.197327e+00  1.993884e+00        1.848688e+00   \n",
       "min            0.000000e+00  0.000000e+00        0.000000e+00   \n",
       "25%            2.000000e+00  0.000000e+00        1.000000e+00   \n",
       "50%            4.000000e+00  1.000000e+00        2.000000e+00   \n",
       "75%            6.000000e+00  3.000000e+00        3.000000e+00   \n",
       "max            6.400000e+01  4.700000e+01        3.000000e+01   \n",
       "\n",
       "       percent_bc_gt_75  tot_hi_cred_lim  total_bc_limit  \n",
       "count      1.188466e+06     1.188466e+06    1.188466e+06  \n",
       "mean       4.526088e+01     1.776699e+05    2.207220e+04  \n",
       "std        3.592333e+01     1.792923e+05    2.160921e+04  \n",
       "min        0.000000e+00     2.000000e+02    1.000000e+02  \n",
       "25%        1.110000e+01     5.126000e+04    8.000000e+03  \n",
       "50%        4.290000e+01     1.158465e+05    1.550000e+04  \n",
       "75%        7.500000e+01     2.563830e+05    2.860000e+04  \n",
       "max        1.000000e+02     9.999999e+06    1.105500e+06  "
      ]
     },
     "execution_count": 84,
     "metadata": {},
     "output_type": "execute_result"
    }
   ],
   "source": [
    "data_lc.describe()"
   ]
  },
  {
   "cell_type": "markdown",
   "id": "5ca9ef77",
   "metadata": {},
   "source": [
    "First, let's check columns 'int_rate','revol_util','acc_open_past_24mths','mort_acc', and 'num_tl_op_past_12m'."
   ]
  },
  {
   "cell_type": "code",
   "execution_count": 85,
   "id": "77d6e83e",
   "metadata": {},
   "outputs": [],
   "source": [
    "columns_boxplot = ['int_rate','revol_util','acc_open_past_24mths','mort_acc','num_tl_op_past_12m']"
   ]
  },
  {
   "cell_type": "code",
   "execution_count": 86,
   "id": "3e6fdd38",
   "metadata": {},
   "outputs": [
    {
     "data": {
      "text/plain": [
       "<AxesSubplot:>"
      ]
     },
     "execution_count": 86,
     "metadata": {},
     "output_type": "execute_result"
    },
    {
     "data": {
      "image/png": "[encoded data removed]",
      "text/plain": [
       "<Figure size 432x288 with 1 Axes>"
      ]
     },
     "metadata": {
      "needs_background": "light"
     },
     "output_type": "display_data"
    }
   ],
   "source": [
    "data_lc.boxplot(column=columns_boxplot, rot = 90)"
   ]
  },
  {
   "cell_type": "markdown",
   "id": "078a5fde",
   "metadata": {},
   "source": [
    "We see 'revol_util' has an extremely large value. In the decription we see it is 366. We would like to drop this row to avoid bias."
   ]
  },
  {
   "cell_type": "code",
   "execution_count": 87,
   "id": "69a6a964",
   "metadata": {},
   "outputs": [],
   "source": [
    "data_lc = data_lc.drop(data_lc[data_lc['revol_util'] > 300].index)"
   ]
  },
  {
   "cell_type": "markdown",
   "id": "3c64e3e2",
   "metadata": {},
   "source": [
    "Now again let's check the distribution. "
   ]
  },
  {
   "cell_type": "code",
   "execution_count": 88,
   "id": "da95c872",
   "metadata": {},
   "outputs": [
    {
     "data": {
      "text/plain": [
       "<AxesSubplot:>"
      ]
     },
     "execution_count": 88,
     "metadata": {},
     "output_type": "execute_result"
    },
    {
     "data": {
      "image/png": "[encoded data removed]",
      "text/plain": [
       "<Figure size 432x288 with 1 Axes>"
      ]
     },
     "metadata": {
      "needs_background": "light"
     },
     "output_type": "display_data"
    }
   ],
   "source": [
    "data_lc.boxplot(column=columns_boxplot, rot = 90)"
   ]
  },
  {
   "cell_type": "markdown",
   "id": "4e551bbe",
   "metadata": {},
   "source": [
    "Although we see quite a few outliners on those columns, the outliners are continuous. So we would keep them as like that.\n",
    "\n",
    "Next we would like to see the loan amount."
   ]
  },
  {
   "cell_type": "code",
   "execution_count": 89,
   "id": "f3e11ad8",
   "metadata": {},
   "outputs": [
    {
     "data": {
      "text/plain": [
       "<AxesSubplot:>"
      ]
     },
     "execution_count": 89,
     "metadata": {},
     "output_type": "execute_result"
    },
    {
     "data": {
      "image/png": "[encoded data removed]",
      "text/plain": [
       "<Figure size 432x288 with 1 Axes>"
      ]
     },
     "metadata": {
      "needs_background": "light"
     },
     "output_type": "display_data"
    }
   ],
   "source": [
    "data_lc.boxplot('loan_amnt')"
   ]
  },
  {
   "cell_type": "markdown",
   "id": "81a1f0a7",
   "metadata": {},
   "source": [
    "It looks fine. Let's then look at annual income."
   ]
  },
  {
   "cell_type": "code",
   "execution_count": 90,
   "id": "0dba8558",
   "metadata": {},
   "outputs": [
    {
     "data": {
      "text/plain": [
       "<AxesSubplot:>"
      ]
     },
     "execution_count": 90,
     "metadata": {},
     "output_type": "execute_result"
    },
    {
     "data": {
      "image/png": "[encoded data removed]",
      "text/plain": [
       "<Figure size 432x288 with 1 Axes>"
      ]
     },
     "metadata": {
      "needs_background": "light"
     },
     "output_type": "display_data"
    }
   ],
   "source": [
    "data_lc.boxplot('annual_inc')"
   ]
  },
  {
   "cell_type": "markdown",
   "id": "ea2263e9",
   "metadata": {},
   "source": [
    "It looks ok. let's then have a look on dti."
   ]
  },
  {
   "cell_type": "code",
   "execution_count": 91,
   "id": "b1db8679",
   "metadata": {},
   "outputs": [
    {
     "data": {
      "text/plain": [
       "<AxesSubplot:>"
      ]
     },
     "execution_count": 91,
     "metadata": {},
     "output_type": "execute_result"
    },
    {
     "data": {
      "image/png": "[encoded data removed]",
      "text/plain": [
       "<Figure size 432x288 with 1 Axes>"
      ]
     },
     "metadata": {
      "needs_background": "light"
     },
     "output_type": "display_data"
    }
   ],
   "source": [
    "data_lc.boxplot('dti')"
   ]
  },
  {
   "cell_type": "markdown",
   "id": "5446bca4",
   "metadata": {},
   "source": [
    "There are quite some outliners which will bring much bias to our model. We would like to drop rows with values greater than 500."
   ]
  },
  {
   "cell_type": "code",
   "execution_count": 92,
   "id": "b62459a1",
   "metadata": {},
   "outputs": [],
   "source": [
    "data_lc = data_lc.drop(data_lc[data_lc['dti'] > 500].index)"
   ]
  },
  {
   "cell_type": "code",
   "execution_count": 93,
   "id": "9b01d44c",
   "metadata": {},
   "outputs": [
    {
     "data": {
      "text/plain": [
       "<AxesSubplot:>"
      ]
     },
     "execution_count": 93,
     "metadata": {},
     "output_type": "execute_result"
    },
    {
     "data": {
      "image/png": "[encoded data removed]",
      "text/plain": [
       "<Figure size 432x288 with 1 Axes>"
      ]
     },
     "metadata": {
      "needs_background": "light"
     },
     "output_type": "display_data"
    }
   ],
   "source": [
    "data_lc.boxplot('dti')"
   ]
  },
  {
   "cell_type": "markdown",
   "id": "ec0b40ae",
   "metadata": {},
   "source": [
    "From the description above we see the distributions of 'fico_range_high', 'inq_last_6mths', 'last_pymnt_amnt', 'percent_bc_gt_75', 'last_fico_range_low' are reasonable so we will keep them as they are.\n",
    "\n",
    "Next, total_rec_late_fee. Since it has large amount of zero values, we will only see values above 100."
   ]
  },
  {
   "cell_type": "code",
   "execution_count": 94,
   "id": "e7dc401a",
   "metadata": {},
   "outputs": [
    {
     "data": {
      "text/plain": [
       "Text(0, 0.5, 'Count')"
      ]
     },
     "execution_count": 94,
     "metadata": {},
     "output_type": "execute_result"
    },
    {
     "data": {
      "image/png": "[encoded data removed]",
      "text/plain": [
       "<Figure size 432x288 with 1 Axes>"
      ]
     },
     "metadata": {
      "needs_background": "light"
     },
     "output_type": "display_data"
    }
   ],
   "source": [
    "data_lc[data_lc.total_rec_late_fee>100].total_rec_late_fee.hist(bins=20)\n",
    "plt.xlabel('total_rec_late_fee')\n",
    "plt.ylabel('Count')"
   ]
  },
  {
   "cell_type": "markdown",
   "id": "edfdc8e5",
   "metadata": {},
   "source": [
    "It looks fine. We will keep it as it is."
   ]
  },
  {
   "cell_type": "code",
   "execution_count": 95,
   "id": "371379be",
   "metadata": {},
   "outputs": [
    {
     "data": {
      "text/plain": [
       "<AxesSubplot:>"
      ]
     },
     "execution_count": 95,
     "metadata": {},
     "output_type": "execute_result"
    },
    {
     "data": {
      "image/png": "[encoded data removed]",
      "text/plain": [
       "<Figure size 432x288 with 1 Axes>"
      ]
     },
     "metadata": {
      "needs_background": "light"
     },
     "output_type": "display_data"
    }
   ],
   "source": [
    "data_lc.boxplot('recoveries')"
   ]
  },
  {
   "cell_type": "markdown",
   "id": "33216687",
   "metadata": {},
   "source": [
    "the 'recoveries' also looks fine. We would like to keep it as it is.\n",
    "\n",
    "Let's see 'tot_hi_cred_lim'."
   ]
  },
  {
   "cell_type": "code",
   "execution_count": 96,
   "id": "6f3a9c12",
   "metadata": {},
   "outputs": [
    {
     "data": {
      "text/plain": [
       "<AxesSubplot:>"
      ]
     },
     "execution_count": 96,
     "metadata": {},
     "output_type": "execute_result"
    },
    {
     "data": {
      "image/png": "[encoded data removed]",
      "text/plain": [
       "<Figure size 432x288 with 1 Axes>"
      ]
     },
     "metadata": {
      "needs_background": "light"
     },
     "output_type": "display_data"
    }
   ],
   "source": [
    "data_lc.boxplot('tot_hi_cred_lim' )"
   ]
  },
  {
   "cell_type": "markdown",
   "id": "5e5eab2b",
   "metadata": {},
   "source": [
    "A few quite high values are found. To avoid bias let's change drop rows with values greater than 6,000,000. "
   ]
  },
  {
   "cell_type": "code",
   "execution_count": 97,
   "id": "ea3e2e1d",
   "metadata": {},
   "outputs": [],
   "source": [
    "data_lc = data_lc.drop(data_lc[data_lc['tot_hi_cred_lim'] > 6000000].index)"
   ]
  },
  {
   "cell_type": "code",
   "execution_count": 98,
   "id": "34ca4701",
   "metadata": {},
   "outputs": [
    {
     "data": {
      "text/plain": [
       "<AxesSubplot:>"
      ]
     },
     "execution_count": 98,
     "metadata": {},
     "output_type": "execute_result"
    },
    {
     "data": {
      "image/png": "[encoded data removed]",
      "text/plain": [
       "<Figure size 432x288 with 1 Axes>"
      ]
     },
     "metadata": {
      "needs_background": "light"
     },
     "output_type": "display_data"
    }
   ],
   "source": [
    "data_lc.boxplot('tot_hi_cred_lim' )"
   ]
  },
  {
   "cell_type": "code",
   "execution_count": 99,
   "id": "bb2f3f81",
   "metadata": {},
   "outputs": [
    {
     "data": {
      "text/plain": [
       "<AxesSubplot:>"
      ]
     },
     "execution_count": 99,
     "metadata": {},
     "output_type": "execute_result"
    },
    {
     "data": {
      "image/png": "[encoded data removed]",
      "text/plain": [
       "<Figure size 432x288 with 1 Axes>"
      ]
     },
     "metadata": {
      "needs_background": "light"
     },
     "output_type": "display_data"
    }
   ],
   "source": [
    "data_lc.boxplot('total_bc_limit' )"
   ]
  },
  {
   "cell_type": "markdown",
   "id": "cc51180a",
   "metadata": {},
   "source": [
    "We want to remove outliners with too high total_bc_limit."
   ]
  },
  {
   "cell_type": "code",
   "execution_count": 100,
   "id": "1a8571e0",
   "metadata": {},
   "outputs": [],
   "source": [
    "data_lc = data_lc.drop(data_lc[data_lc['total_bc_limit'] > 600000].index)"
   ]
  },
  {
   "cell_type": "markdown",
   "id": "7d8ee2fe",
   "metadata": {},
   "source": [
    "Now let's drop the month in column \"earliest_cr_line\" and only keep the year."
   ]
  },
  {
   "cell_type": "code",
   "execution_count": 101,
   "id": "1c855782",
   "metadata": {},
   "outputs": [
    {
     "data": {
      "text/plain": [
       "0          Aug-2003\n",
       "1          Dec-1999\n",
       "2          Aug-2000\n",
       "4          Jun-1998\n",
       "5          Oct-1987\n",
       "             ...   \n",
       "2260688    Jul-2004\n",
       "2260690    Mar-2002\n",
       "2260691    Jun-2011\n",
       "2260692    Aug-1997\n",
       "2260697    Jul-1999\n",
       "Name: earliest_cr_line, Length: 1188428, dtype: object"
      ]
     },
     "execution_count": 101,
     "metadata": {},
     "output_type": "execute_result"
    }
   ],
   "source": [
    "data_lc.earliest_cr_line      "
   ]
  },
  {
   "cell_type": "code",
   "execution_count": 102,
   "id": "cd878254",
   "metadata": {},
   "outputs": [],
   "source": [
    "earliest_cr_line_year = []\n",
    "for i in data_lc['earliest_cr_line']:\n",
    "    earliest_cr_line_year.append(i[-4:])"
   ]
  },
  {
   "cell_type": "code",
   "execution_count": 103,
   "id": "5a95ed3c",
   "metadata": {},
   "outputs": [],
   "source": [
    "data_lc['earliest_cr_line_year'] = earliest_cr_line_year"
   ]
  },
  {
   "cell_type": "code",
   "execution_count": 104,
   "id": "c583b3df",
   "metadata": {},
   "outputs": [],
   "source": [
    "data_lc.drop(columns='earliest_cr_line',inplace=True)"
   ]
  },
  {
   "cell_type": "code",
   "execution_count": 105,
   "id": "2e40baad",
   "metadata": {},
   "outputs": [
    {
     "data": {
      "text/html": [
       "<div>\n",
       "<style scoped>\n",
       "    .dataframe tbody tr th:only-of-type {\n",
       "        vertical-align: middle;\n",
       "    }\n",
       "\n",
       "    .dataframe tbody tr th {\n",
       "        vertical-align: top;\n",
       "    }\n",
       "\n",
       "    .dataframe thead th {\n",
       "        text-align: right;\n",
       "    }\n",
       "</style>\n",
       "<table border=\"1\" class=\"dataframe\">\n",
       "  <thead>\n",
       "    <tr style=\"text-align: right;\">\n",
       "      <th></th>\n",
       "      <th>0</th>\n",
       "      <th>1</th>\n",
       "      <th>2</th>\n",
       "      <th>4</th>\n",
       "      <th>5</th>\n",
       "    </tr>\n",
       "  </thead>\n",
       "  <tbody>\n",
       "    <tr>\n",
       "      <th>loan_amnt</th>\n",
       "      <td>3600.0</td>\n",
       "      <td>24700.0</td>\n",
       "      <td>20000.0</td>\n",
       "      <td>10400.0</td>\n",
       "      <td>11950.0</td>\n",
       "    </tr>\n",
       "    <tr>\n",
       "      <th>term</th>\n",
       "      <td>36 months</td>\n",
       "      <td>36 months</td>\n",
       "      <td>60 months</td>\n",
       "      <td>60 months</td>\n",
       "      <td>36 months</td>\n",
       "    </tr>\n",
       "    <tr>\n",
       "      <th>int_rate</th>\n",
       "      <td>13.99</td>\n",
       "      <td>11.99</td>\n",
       "      <td>10.78</td>\n",
       "      <td>22.45</td>\n",
       "      <td>13.44</td>\n",
       "    </tr>\n",
       "    <tr>\n",
       "      <th>grade</th>\n",
       "      <td>C</td>\n",
       "      <td>C</td>\n",
       "      <td>B</td>\n",
       "      <td>F</td>\n",
       "      <td>C</td>\n",
       "    </tr>\n",
       "    <tr>\n",
       "      <th>emp_length</th>\n",
       "      <td>10+ years</td>\n",
       "      <td>10+ years</td>\n",
       "      <td>10+ years</td>\n",
       "      <td>3 years</td>\n",
       "      <td>4 years</td>\n",
       "    </tr>\n",
       "    <tr>\n",
       "      <th>home_ownership</th>\n",
       "      <td>MORTGAGE</td>\n",
       "      <td>MORTGAGE</td>\n",
       "      <td>MORTGAGE</td>\n",
       "      <td>MORTGAGE</td>\n",
       "      <td>RENT</td>\n",
       "    </tr>\n",
       "    <tr>\n",
       "      <th>annual_inc</th>\n",
       "      <td>55000.0</td>\n",
       "      <td>65000.0</td>\n",
       "      <td>63000.0</td>\n",
       "      <td>104433.0</td>\n",
       "      <td>34000.0</td>\n",
       "    </tr>\n",
       "    <tr>\n",
       "      <th>loan_status</th>\n",
       "      <td>1</td>\n",
       "      <td>1</td>\n",
       "      <td>1</td>\n",
       "      <td>1</td>\n",
       "      <td>1</td>\n",
       "    </tr>\n",
       "    <tr>\n",
       "      <th>purpose</th>\n",
       "      <td>debt_consolidation</td>\n",
       "      <td>small_business</td>\n",
       "      <td>home_improvement</td>\n",
       "      <td>major_purchase</td>\n",
       "      <td>debt_consolidation</td>\n",
       "    </tr>\n",
       "    <tr>\n",
       "      <th>dti</th>\n",
       "      <td>5.91</td>\n",
       "      <td>16.06</td>\n",
       "      <td>10.78</td>\n",
       "      <td>25.37</td>\n",
       "      <td>10.2</td>\n",
       "    </tr>\n",
       "    <tr>\n",
       "      <th>fico_range_high</th>\n",
       "      <td>679.0</td>\n",
       "      <td>719.0</td>\n",
       "      <td>699.0</td>\n",
       "      <td>699.0</td>\n",
       "      <td>694.0</td>\n",
       "    </tr>\n",
       "    <tr>\n",
       "      <th>inq_last_6mths</th>\n",
       "      <td>1.0</td>\n",
       "      <td>4.0</td>\n",
       "      <td>0.0</td>\n",
       "      <td>3.0</td>\n",
       "      <td>0.0</td>\n",
       "    </tr>\n",
       "    <tr>\n",
       "      <th>revol_util</th>\n",
       "      <td>29.7</td>\n",
       "      <td>19.2</td>\n",
       "      <td>56.2</td>\n",
       "      <td>64.5</td>\n",
       "      <td>68.4</td>\n",
       "    </tr>\n",
       "    <tr>\n",
       "      <th>initial_list_status</th>\n",
       "      <td>w</td>\n",
       "      <td>w</td>\n",
       "      <td>w</td>\n",
       "      <td>w</td>\n",
       "      <td>w</td>\n",
       "    </tr>\n",
       "    <tr>\n",
       "      <th>total_rec_late_fee</th>\n",
       "      <td>0.0</td>\n",
       "      <td>0.0</td>\n",
       "      <td>0.0</td>\n",
       "      <td>0.0</td>\n",
       "      <td>0.0</td>\n",
       "    </tr>\n",
       "    <tr>\n",
       "      <th>recoveries</th>\n",
       "      <td>0.0</td>\n",
       "      <td>0.0</td>\n",
       "      <td>0.0</td>\n",
       "      <td>0.0</td>\n",
       "      <td>0.0</td>\n",
       "    </tr>\n",
       "    <tr>\n",
       "      <th>last_pymnt_amnt</th>\n",
       "      <td>122.67</td>\n",
       "      <td>926.35</td>\n",
       "      <td>15813.3</td>\n",
       "      <td>10128.96</td>\n",
       "      <td>7653.56</td>\n",
       "    </tr>\n",
       "    <tr>\n",
       "      <th>last_fico_range_low</th>\n",
       "      <td>560.0</td>\n",
       "      <td>695.0</td>\n",
       "      <td>700.0</td>\n",
       "      <td>700.0</td>\n",
       "      <td>755.0</td>\n",
       "    </tr>\n",
       "    <tr>\n",
       "      <th>application_type</th>\n",
       "      <td>Individual</td>\n",
       "      <td>Individual</td>\n",
       "      <td>Joint App</td>\n",
       "      <td>Individual</td>\n",
       "      <td>Individual</td>\n",
       "    </tr>\n",
       "    <tr>\n",
       "      <th>acc_open_past_24mths</th>\n",
       "      <td>4.0</td>\n",
       "      <td>4.0</td>\n",
       "      <td>6.0</td>\n",
       "      <td>10.0</td>\n",
       "      <td>0.0</td>\n",
       "    </tr>\n",
       "    <tr>\n",
       "      <th>mort_acc</th>\n",
       "      <td>1.0</td>\n",
       "      <td>4.0</td>\n",
       "      <td>5.0</td>\n",
       "      <td>6.0</td>\n",
       "      <td>0.0</td>\n",
       "    </tr>\n",
       "    <tr>\n",
       "      <th>num_tl_op_past_12m</th>\n",
       "      <td>3.0</td>\n",
       "      <td>2.0</td>\n",
       "      <td>0.0</td>\n",
       "      <td>4.0</td>\n",
       "      <td>0.0</td>\n",
       "    </tr>\n",
       "    <tr>\n",
       "      <th>percent_bc_gt_75</th>\n",
       "      <td>0.0</td>\n",
       "      <td>7.7</td>\n",
       "      <td>50.0</td>\n",
       "      <td>60.0</td>\n",
       "      <td>100.0</td>\n",
       "    </tr>\n",
       "    <tr>\n",
       "      <th>tot_hi_cred_lim</th>\n",
       "      <td>178050.0</td>\n",
       "      <td>314017.0</td>\n",
       "      <td>218418.0</td>\n",
       "      <td>439570.0</td>\n",
       "      <td>16900.0</td>\n",
       "    </tr>\n",
       "    <tr>\n",
       "      <th>total_bc_limit</th>\n",
       "      <td>2400.0</td>\n",
       "      <td>79300.0</td>\n",
       "      <td>6200.0</td>\n",
       "      <td>20300.0</td>\n",
       "      <td>9400.0</td>\n",
       "    </tr>\n",
       "    <tr>\n",
       "      <th>disbursement_method</th>\n",
       "      <td>Cash</td>\n",
       "      <td>Cash</td>\n",
       "      <td>Cash</td>\n",
       "      <td>Cash</td>\n",
       "      <td>Cash</td>\n",
       "    </tr>\n",
       "    <tr>\n",
       "      <th>debt_settlement_flag</th>\n",
       "      <td>N</td>\n",
       "      <td>N</td>\n",
       "      <td>N</td>\n",
       "      <td>N</td>\n",
       "      <td>N</td>\n",
       "    </tr>\n",
       "    <tr>\n",
       "      <th>earliest_cr_line_year</th>\n",
       "      <td>2003</td>\n",
       "      <td>1999</td>\n",
       "      <td>2000</td>\n",
       "      <td>1998</td>\n",
       "      <td>1987</td>\n",
       "    </tr>\n",
       "  </tbody>\n",
       "</table>\n",
       "</div>"
      ],
      "text/plain": [
       "                                        0               1                 2  \\\n",
       "loan_amnt                          3600.0         24700.0           20000.0   \n",
       "term                            36 months       36 months         60 months   \n",
       "int_rate                            13.99           11.99             10.78   \n",
       "grade                                   C               C                 B   \n",
       "emp_length                      10+ years       10+ years         10+ years   \n",
       "home_ownership                   MORTGAGE        MORTGAGE          MORTGAGE   \n",
       "annual_inc                        55000.0         65000.0           63000.0   \n",
       "loan_status                             1               1                 1   \n",
       "purpose                debt_consolidation  small_business  home_improvement   \n",
       "dti                                  5.91           16.06             10.78   \n",
       "fico_range_high                     679.0           719.0             699.0   \n",
       "inq_last_6mths                        1.0             4.0               0.0   \n",
       "revol_util                           29.7            19.2              56.2   \n",
       "initial_list_status                     w               w                 w   \n",
       "total_rec_late_fee                    0.0             0.0               0.0   \n",
       "recoveries                            0.0             0.0               0.0   \n",
       "last_pymnt_amnt                    122.67          926.35           15813.3   \n",
       "last_fico_range_low                 560.0           695.0             700.0   \n",
       "application_type               Individual      Individual         Joint App   \n",
       "acc_open_past_24mths                  4.0             4.0               6.0   \n",
       "mort_acc                              1.0             4.0               5.0   \n",
       "num_tl_op_past_12m                    3.0             2.0               0.0   \n",
       "percent_bc_gt_75                      0.0             7.7              50.0   \n",
       "tot_hi_cred_lim                  178050.0        314017.0          218418.0   \n",
       "total_bc_limit                     2400.0         79300.0            6200.0   \n",
       "disbursement_method                  Cash            Cash              Cash   \n",
       "debt_settlement_flag                    N               N                 N   \n",
       "earliest_cr_line_year                2003            1999              2000   \n",
       "\n",
       "                                    4                   5  \n",
       "loan_amnt                     10400.0             11950.0  \n",
       "term                        60 months           36 months  \n",
       "int_rate                        22.45               13.44  \n",
       "grade                               F                   C  \n",
       "emp_length                    3 years             4 years  \n",
       "home_ownership               MORTGAGE                RENT  \n",
       "annual_inc                   104433.0             34000.0  \n",
       "loan_status                         1                   1  \n",
       "purpose                major_purchase  debt_consolidation  \n",
       "dti                             25.37                10.2  \n",
       "fico_range_high                 699.0               694.0  \n",
       "inq_last_6mths                    3.0                 0.0  \n",
       "revol_util                       64.5                68.4  \n",
       "initial_list_status                 w                   w  \n",
       "total_rec_late_fee                0.0                 0.0  \n",
       "recoveries                        0.0                 0.0  \n",
       "last_pymnt_amnt              10128.96             7653.56  \n",
       "last_fico_range_low             700.0               755.0  \n",
       "application_type           Individual          Individual  \n",
       "acc_open_past_24mths             10.0                 0.0  \n",
       "mort_acc                          6.0                 0.0  \n",
       "num_tl_op_past_12m                4.0                 0.0  \n",
       "percent_bc_gt_75                 60.0               100.0  \n",
       "tot_hi_cred_lim              439570.0             16900.0  \n",
       "total_bc_limit                20300.0              9400.0  \n",
       "disbursement_method              Cash                Cash  \n",
       "debt_settlement_flag                N                   N  \n",
       "earliest_cr_line_year            1998                1987  "
      ]
     },
     "execution_count": 105,
     "metadata": {},
     "output_type": "execute_result"
    }
   ],
   "source": [
    "data_lc.head().T"
   ]
  },
  {
   "cell_type": "code",
   "execution_count": 106,
   "id": "2faf19af",
   "metadata": {},
   "outputs": [
    {
     "name": "stdout",
     "output_type": "stream",
     "text": [
      "<class 'pandas.core.frame.DataFrame'>\n",
      "Int64Index: 1188428 entries, 0 to 2260697\n",
      "Data columns (total 28 columns):\n",
      " #   Column                 Non-Null Count    Dtype   \n",
      "---  ------                 --------------    -----   \n",
      " 0   acc_open_past_24mths   1188428 non-null  float64 \n",
      " 1   annual_inc             1188428 non-null  float64 \n",
      " 2   application_type       1188428 non-null  object  \n",
      " 3   debt_settlement_flag   1188428 non-null  object  \n",
      " 4   disbursement_method    1188428 non-null  object  \n",
      " 5   dti                    1188428 non-null  float64 \n",
      " 6   earliest_cr_line_year  1188428 non-null  object  \n",
      " 7   emp_length             1188428 non-null  object  \n",
      " 8   fico_range_high        1188428 non-null  float64 \n",
      " 9   grade                  1188428 non-null  object  \n",
      " 10  home_ownership         1188428 non-null  object  \n",
      " 11  initial_list_status    1188428 non-null  object  \n",
      " 12  inq_last_6mths         1188428 non-null  float64 \n",
      " 13  int_rate               1188428 non-null  float64 \n",
      " 14  last_fico_range_low    1188428 non-null  float64 \n",
      " 15  last_pymnt_amnt        1188428 non-null  float64 \n",
      " 16  loan_amnt              1188428 non-null  float64 \n",
      " 17  loan_status            1188428 non-null  category\n",
      " 18  mort_acc               1188428 non-null  float64 \n",
      " 19  num_tl_op_past_12m     1188428 non-null  float64 \n",
      " 20  percent_bc_gt_75       1188428 non-null  float64 \n",
      " 21  purpose                1188428 non-null  object  \n",
      " 22  recoveries             1188428 non-null  float64 \n",
      " 23  revol_util             1188428 non-null  float64 \n",
      " 24  term                   1188428 non-null  object  \n",
      " 25  tot_hi_cred_lim        1188428 non-null  float64 \n",
      " 26  total_bc_limit         1188428 non-null  float64 \n",
      " 27  total_rec_late_fee     1188428 non-null  float64 \n",
      "dtypes: category(1), float64(17), object(10)\n",
      "memory usage: 255.0+ MB\n"
     ]
    }
   ],
   "source": [
    "# sort column names and reset index\n",
    "data_lc.reindex(sorted(data_lc.columns), axis=1).info()"
   ]
  },
  {
   "cell_type": "markdown",
   "id": "88301be5",
   "metadata": {},
   "source": [
    "# 8. Write data to file, conclusions"
   ]
  },
  {
   "cell_type": "markdown",
   "id": "a70d3647",
   "metadata": {},
   "source": [
    "So in our final data after the wrangling, we have 1188428 rows and 28 columns."
   ]
  },
  {
   "cell_type": "code",
   "execution_count": 109,
   "id": "6f8fa0a8",
   "metadata": {},
   "outputs": [],
   "source": [
    "file_name = '../Data/lending_club_data.csv'\n",
    "data_lc.to_csv(file_name, index=False)"
   ]
  },
  {
   "cell_type": "markdown",
   "id": "454b386f",
   "metadata": {},
   "source": [
    "Conclusion:\n",
    "    \n",
    "    In this data wrangling process, a few steps have been done to make our data tidy and ready for next step, which is listed as follows:\n",
    "    1. Missing values are checked, and columns with too many missing values (>30%) are dropped.\n",
    "    2. Check correlations among all numerical columns, and columns with high correlation with others are dropped.\n",
    "    3. Check the correlation between target column and other numerical columns, and drop columns with poor correlation.\n",
    "    4. Study the categorical columns and remove columns which is believed to have little impact to our target column.\n",
    "    5. Rows with missing value are dropped.\n",
    "    6. Boxplots were created on numerical columns, rows with abnormal outliners are removed.\n",
    "    7. The clean data was saved to a CSV file."
   ]
  }
 ],
 "metadata": {
  "kernelspec": {
   "display_name": "Python 3",
   "language": "python",
   "name": "python3"
  },
  "language_info": {
   "codemirror_mode": {
    "name": "ipython",
    "version": 3
   },
   "file_extension": ".py",
   "mimetype": "text/x-python",
   "name": "python",
   "nbconvert_exporter": "python",
   "pygments_lexer": "ipython3",
   "version": "3.8.8"
  }
 },
 "nbformat": 4,
 "nbformat_minor": 5
}
