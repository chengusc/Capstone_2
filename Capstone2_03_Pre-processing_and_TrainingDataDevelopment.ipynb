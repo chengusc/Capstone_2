{
 "cells": [
  {
   "cell_type": "markdown",
   "id": "0a32b2d7",
   "metadata": {},
   "source": [
    "# Lending Club Loans Status Prediction - Part 3: Pre-processing and Training Data Development"
   ]
  },
  {
   "cell_type": "markdown",
   "id": "888cc219",
   "metadata": {},
   "source": [
    "When one borrower submits a loan application, the lender company will collected many information from him/her, and based on the information collected, they will run their algorithm and try to predict if the customer will be able to or will be willing to fully paid the loans. Then they will either approve or deny the loan application. So the prediction must be as accurate as possible, otherwise the lending companny will either loss business opportunity or loss profit.\n",
    "\n",
    "In this study, we will use Lending Club's data from kaggle (https://www.kaggle.com/wordsforthewise/lending-club), and build a model to predict the loan's future status. "
   ]
  },
  {
   "cell_type": "markdown",
   "id": "4b635996",
   "metadata": {},
   "source": [
    "This is the third part of the study: Pre-processing & Training Data Development. In this project we would like to manipulate our data as following:\n",
    "\n",
    "# Contents\n",
    "\n",
    "# 1. Balance the data\n",
    "# 2. Evaluation of Model Performance under Different Conditions\n",
    "## 2.1 K Nearest Neighbors with 4 Most Correlated Features\n",
    "## 2.2 K Nearest Neighbors with 4 Most Correlated Features (Scaled)\n",
    "## 2.3 Grid Search Cross Validation for k Value\n",
    "## 2.4 Random Forest\n",
    "## 2.5 Logistic Regression\n",
    "## 2.6 K Nearest Neighbors with 4 Most Correlated Features and 2 Categorical Features\n",
    "## 2.7 Random Forest with 4 Most Correlated Features and 2 Categorical Features\n",
    "## 2.8 Random Forest with 6 Most Correlated Features and 2 Categorical Features\n",
    "## 2.9 Random Forest with 9 Principal Components\n",
    "# 3. Conclusion and Write Data to File"
   ]
  },
  {
   "cell_type": "markdown",
   "id": "44758426",
   "metadata": {},
   "source": [
    "First let's import modules and read data."
   ]
  },
  {
   "cell_type": "code",
   "execution_count": 322,
   "id": "0ca5899e",
   "metadata": {},
   "outputs": [],
   "source": [
    "import pandas as pd\n",
    "import numpy as np\n",
    "import matplotlib.pyplot as plt\n",
    "import seaborn as sns\n",
    "from sklearn.neighbors import KNeighborsClassifier\n",
    "from sklearn.model_selection import train_test_split \n",
    "from sklearn.metrics import classification_report\n",
    "from sklearn.metrics import confusion_matrix\n",
    "from sklearn.linear_model import LogisticRegression\n",
    "from sklearn.metrics import roc_curve\n",
    "from sklearn.metrics import roc_auc_score\n",
    "from sklearn.model_selection import cross_val_score"
   ]
  },
  {
   "cell_type": "code",
   "execution_count": 323,
   "id": "7bb8ff81",
   "metadata": {},
   "outputs": [],
   "source": [
    "# Read data to the data frame.\n",
    "data_lc = pd.read_csv('../Data/lending_club_data.csv')"
   ]
  },
  {
   "cell_type": "code",
   "execution_count": 324,
   "id": "aac91084",
   "metadata": {},
   "outputs": [
    {
     "data": {
      "text/html": [
       "<div>\n",
       "<style scoped>\n",
       "    .dataframe tbody tr th:only-of-type {\n",
       "        vertical-align: middle;\n",
       "    }\n",
       "\n",
       "    .dataframe tbody tr th {\n",
       "        vertical-align: top;\n",
       "    }\n",
       "\n",
       "    .dataframe thead th {\n",
       "        text-align: right;\n",
       "    }\n",
       "</style>\n",
       "<table border=\"1\" class=\"dataframe\">\n",
       "  <thead>\n",
       "    <tr style=\"text-align: right;\">\n",
       "      <th></th>\n",
       "      <th>loan_amnt</th>\n",
       "      <th>term</th>\n",
       "      <th>int_rate</th>\n",
       "      <th>grade</th>\n",
       "      <th>emp_length</th>\n",
       "      <th>home_ownership</th>\n",
       "      <th>annual_inc</th>\n",
       "      <th>loan_status</th>\n",
       "      <th>purpose</th>\n",
       "      <th>dti</th>\n",
       "      <th>...</th>\n",
       "      <th>application_type</th>\n",
       "      <th>acc_open_past_24mths</th>\n",
       "      <th>mort_acc</th>\n",
       "      <th>num_tl_op_past_12m</th>\n",
       "      <th>percent_bc_gt_75</th>\n",
       "      <th>tot_hi_cred_lim</th>\n",
       "      <th>total_bc_limit</th>\n",
       "      <th>disbursement_method</th>\n",
       "      <th>debt_settlement_flag</th>\n",
       "      <th>earliest_cr_line_year</th>\n",
       "    </tr>\n",
       "  </thead>\n",
       "  <tbody>\n",
       "    <tr>\n",
       "      <th>0</th>\n",
       "      <td>3600.0</td>\n",
       "      <td>36 months</td>\n",
       "      <td>13.99</td>\n",
       "      <td>C</td>\n",
       "      <td>10+ years</td>\n",
       "      <td>MORTGAGE</td>\n",
       "      <td>55000.0</td>\n",
       "      <td>1</td>\n",
       "      <td>debt_consolidation</td>\n",
       "      <td>5.91</td>\n",
       "      <td>...</td>\n",
       "      <td>Individual</td>\n",
       "      <td>4.0</td>\n",
       "      <td>1.0</td>\n",
       "      <td>3.0</td>\n",
       "      <td>0.0</td>\n",
       "      <td>178050.0</td>\n",
       "      <td>2400.0</td>\n",
       "      <td>Cash</td>\n",
       "      <td>N</td>\n",
       "      <td>2003</td>\n",
       "    </tr>\n",
       "    <tr>\n",
       "      <th>1</th>\n",
       "      <td>24700.0</td>\n",
       "      <td>36 months</td>\n",
       "      <td>11.99</td>\n",
       "      <td>C</td>\n",
       "      <td>10+ years</td>\n",
       "      <td>MORTGAGE</td>\n",
       "      <td>65000.0</td>\n",
       "      <td>1</td>\n",
       "      <td>small_business</td>\n",
       "      <td>16.06</td>\n",
       "      <td>...</td>\n",
       "      <td>Individual</td>\n",
       "      <td>4.0</td>\n",
       "      <td>4.0</td>\n",
       "      <td>2.0</td>\n",
       "      <td>7.7</td>\n",
       "      <td>314017.0</td>\n",
       "      <td>79300.0</td>\n",
       "      <td>Cash</td>\n",
       "      <td>N</td>\n",
       "      <td>1999</td>\n",
       "    </tr>\n",
       "    <tr>\n",
       "      <th>2</th>\n",
       "      <td>20000.0</td>\n",
       "      <td>60 months</td>\n",
       "      <td>10.78</td>\n",
       "      <td>B</td>\n",
       "      <td>10+ years</td>\n",
       "      <td>MORTGAGE</td>\n",
       "      <td>63000.0</td>\n",
       "      <td>1</td>\n",
       "      <td>home_improvement</td>\n",
       "      <td>10.78</td>\n",
       "      <td>...</td>\n",
       "      <td>Joint App</td>\n",
       "      <td>6.0</td>\n",
       "      <td>5.0</td>\n",
       "      <td>0.0</td>\n",
       "      <td>50.0</td>\n",
       "      <td>218418.0</td>\n",
       "      <td>6200.0</td>\n",
       "      <td>Cash</td>\n",
       "      <td>N</td>\n",
       "      <td>2000</td>\n",
       "    </tr>\n",
       "    <tr>\n",
       "      <th>3</th>\n",
       "      <td>10400.0</td>\n",
       "      <td>60 months</td>\n",
       "      <td>22.45</td>\n",
       "      <td>F</td>\n",
       "      <td>3 years</td>\n",
       "      <td>MORTGAGE</td>\n",
       "      <td>104433.0</td>\n",
       "      <td>1</td>\n",
       "      <td>major_purchase</td>\n",
       "      <td>25.37</td>\n",
       "      <td>...</td>\n",
       "      <td>Individual</td>\n",
       "      <td>10.0</td>\n",
       "      <td>6.0</td>\n",
       "      <td>4.0</td>\n",
       "      <td>60.0</td>\n",
       "      <td>439570.0</td>\n",
       "      <td>20300.0</td>\n",
       "      <td>Cash</td>\n",
       "      <td>N</td>\n",
       "      <td>1998</td>\n",
       "    </tr>\n",
       "    <tr>\n",
       "      <th>4</th>\n",
       "      <td>11950.0</td>\n",
       "      <td>36 months</td>\n",
       "      <td>13.44</td>\n",
       "      <td>C</td>\n",
       "      <td>4 years</td>\n",
       "      <td>RENT</td>\n",
       "      <td>34000.0</td>\n",
       "      <td>1</td>\n",
       "      <td>debt_consolidation</td>\n",
       "      <td>10.20</td>\n",
       "      <td>...</td>\n",
       "      <td>Individual</td>\n",
       "      <td>0.0</td>\n",
       "      <td>0.0</td>\n",
       "      <td>0.0</td>\n",
       "      <td>100.0</td>\n",
       "      <td>16900.0</td>\n",
       "      <td>9400.0</td>\n",
       "      <td>Cash</td>\n",
       "      <td>N</td>\n",
       "      <td>1987</td>\n",
       "    </tr>\n",
       "  </tbody>\n",
       "</table>\n",
       "<p>5 rows × 28 columns</p>\n",
       "</div>"
      ],
      "text/plain": [
       "   loan_amnt        term  int_rate grade emp_length home_ownership  \\\n",
       "0     3600.0   36 months     13.99     C  10+ years       MORTGAGE   \n",
       "1    24700.0   36 months     11.99     C  10+ years       MORTGAGE   \n",
       "2    20000.0   60 months     10.78     B  10+ years       MORTGAGE   \n",
       "3    10400.0   60 months     22.45     F    3 years       MORTGAGE   \n",
       "4    11950.0   36 months     13.44     C    4 years           RENT   \n",
       "\n",
       "   annual_inc  loan_status             purpose    dti  ...  application_type  \\\n",
       "0     55000.0            1  debt_consolidation   5.91  ...        Individual   \n",
       "1     65000.0            1      small_business  16.06  ...        Individual   \n",
       "2     63000.0            1    home_improvement  10.78  ...         Joint App   \n",
       "3    104433.0            1      major_purchase  25.37  ...        Individual   \n",
       "4     34000.0            1  debt_consolidation  10.20  ...        Individual   \n",
       "\n",
       "   acc_open_past_24mths  mort_acc num_tl_op_past_12m  percent_bc_gt_75  \\\n",
       "0                   4.0       1.0                3.0               0.0   \n",
       "1                   4.0       4.0                2.0               7.7   \n",
       "2                   6.0       5.0                0.0              50.0   \n",
       "3                  10.0       6.0                4.0              60.0   \n",
       "4                   0.0       0.0                0.0             100.0   \n",
       "\n",
       "   tot_hi_cred_lim  total_bc_limit  disbursement_method debt_settlement_flag  \\\n",
       "0         178050.0          2400.0                 Cash                    N   \n",
       "1         314017.0         79300.0                 Cash                    N   \n",
       "2         218418.0          6200.0                 Cash                    N   \n",
       "3         439570.0         20300.0                 Cash                    N   \n",
       "4          16900.0          9400.0                 Cash                    N   \n",
       "\n",
       "   earliest_cr_line_year  \n",
       "0                   2003  \n",
       "1                   1999  \n",
       "2                   2000  \n",
       "3                   1998  \n",
       "4                   1987  \n",
       "\n",
       "[5 rows x 28 columns]"
      ]
     },
     "execution_count": 324,
     "metadata": {},
     "output_type": "execute_result"
    }
   ],
   "source": [
    "data_lc.head()"
   ]
  },
  {
   "cell_type": "code",
   "execution_count": 325,
   "id": "92d4e4b8",
   "metadata": {},
   "outputs": [
    {
     "name": "stdout",
     "output_type": "stream",
     "text": [
      "<class 'pandas.core.frame.DataFrame'>\n",
      "RangeIndex: 1188428 entries, 0 to 1188427\n",
      "Data columns (total 28 columns):\n",
      " #   Column                 Non-Null Count    Dtype  \n",
      "---  ------                 --------------    -----  \n",
      " 0   loan_amnt              1188428 non-null  float64\n",
      " 1   term                   1188428 non-null  object \n",
      " 2   int_rate               1188428 non-null  float64\n",
      " 3   grade                  1188428 non-null  object \n",
      " 4   emp_length             1188428 non-null  object \n",
      " 5   home_ownership         1188428 non-null  object \n",
      " 6   annual_inc             1188428 non-null  float64\n",
      " 7   loan_status            1188428 non-null  int64  \n",
      " 8   purpose                1188428 non-null  object \n",
      " 9   dti                    1188428 non-null  float64\n",
      " 10  fico_range_high        1188428 non-null  float64\n",
      " 11  inq_last_6mths         1188428 non-null  float64\n",
      " 12  revol_util             1188428 non-null  float64\n",
      " 13  initial_list_status    1188428 non-null  object \n",
      " 14  total_rec_late_fee     1188428 non-null  float64\n",
      " 15  recoveries             1188428 non-null  float64\n",
      " 16  last_pymnt_amnt        1188428 non-null  float64\n",
      " 17  last_fico_range_low    1188428 non-null  float64\n",
      " 18  application_type       1188428 non-null  object \n",
      " 19  acc_open_past_24mths   1188428 non-null  float64\n",
      " 20  mort_acc               1188428 non-null  float64\n",
      " 21  num_tl_op_past_12m     1188428 non-null  float64\n",
      " 22  percent_bc_gt_75       1188428 non-null  float64\n",
      " 23  tot_hi_cred_lim        1188428 non-null  float64\n",
      " 24  total_bc_limit         1188428 non-null  float64\n",
      " 25  disbursement_method    1188428 non-null  object \n",
      " 26  debt_settlement_flag   1188428 non-null  object \n",
      " 27  earliest_cr_line_year  1188428 non-null  int64  \n",
      "dtypes: float64(17), int64(2), object(9)\n",
      "memory usage: 253.9+ MB\n"
     ]
    }
   ],
   "source": [
    "data_lc.info()"
   ]
  },
  {
   "cell_type": "markdown",
   "id": "245c827b",
   "metadata": {},
   "source": [
    "# 1. Balance the data"
   ]
  },
  {
   "cell_type": "markdown",
   "id": "3cf9a0b7",
   "metadata": {},
   "source": [
    "Let's count the value of column 'loan status'."
   ]
  },
  {
   "cell_type": "code",
   "execution_count": 326,
   "id": "c51961b2",
   "metadata": {},
   "outputs": [],
   "source": [
    "loan_status_count = pd.DataFrame(data_lc['loan_status'].value_counts())"
   ]
  },
  {
   "cell_type": "code",
   "execution_count": 327,
   "id": "8db644aa",
   "metadata": {},
   "outputs": [
    {
     "data": {
      "text/html": [
       "<div>\n",
       "<style scoped>\n",
       "    .dataframe tbody tr th:only-of-type {\n",
       "        vertical-align: middle;\n",
       "    }\n",
       "\n",
       "    .dataframe tbody tr th {\n",
       "        vertical-align: top;\n",
       "    }\n",
       "\n",
       "    .dataframe thead th {\n",
       "        text-align: right;\n",
       "    }\n",
       "</style>\n",
       "<table border=\"1\" class=\"dataframe\">\n",
       "  <thead>\n",
       "    <tr style=\"text-align: right;\">\n",
       "      <th></th>\n",
       "      <th>loan_status</th>\n",
       "    </tr>\n",
       "  </thead>\n",
       "  <tbody>\n",
       "    <tr>\n",
       "      <th>1</th>\n",
       "      <td>953495</td>\n",
       "    </tr>\n",
       "    <tr>\n",
       "      <th>0</th>\n",
       "      <td>234933</td>\n",
       "    </tr>\n",
       "  </tbody>\n",
       "</table>\n",
       "</div>"
      ],
      "text/plain": [
       "   loan_status\n",
       "1       953495\n",
       "0       234933"
      ]
     },
     "execution_count": 327,
     "metadata": {},
     "output_type": "execute_result"
    }
   ],
   "source": [
    "loan_status_count"
   ]
  },
  {
   "cell_type": "code",
   "execution_count": 328,
   "id": "93a00835",
   "metadata": {},
   "outputs": [
    {
     "name": "stdout",
     "output_type": "stream",
     "text": [
      "4.058582659737032\n"
     ]
    }
   ],
   "source": [
    "print(loan_status_count.loc[1, 'loan_status'] / loan_status_count.loc[0, 'loan_status'] )"
   ]
  },
  {
   "cell_type": "markdown",
   "id": "93fdf9e2",
   "metadata": {},
   "source": [
    "We see that the amount of data points with loan_status = 1 (fully paid) is about 4 times of the amount of loan_status = 0 (defaulted), which means the data is not balanced. To ensure the high data quality we should try to keep it balanced. Since we have large amount of data, we should reduce the data point with loan_status = 1. We can keep only half of it so that the ratio is about 1.6:1. "
   ]
  },
  {
   "cell_type": "code",
   "execution_count": 329,
   "id": "162e9ab3",
   "metadata": {},
   "outputs": [],
   "source": [
    "# let's first get all data points of default loans\n",
    "data_1 = data_lc[data_lc['loan_status']==0]"
   ]
  },
  {
   "cell_type": "code",
   "execution_count": 330,
   "id": "4a562422",
   "metadata": {},
   "outputs": [],
   "source": [
    "# this is to get 40% data points of all fully paid loans.\n",
    "data_2 = data_lc[data_lc['loan_status']==1].sample(frac=0.4)"
   ]
  },
  {
   "cell_type": "code",
   "execution_count": 331,
   "id": "dd4846b3",
   "metadata": {},
   "outputs": [
    {
     "data": {
      "text/plain": [
       "(234933, 28)"
      ]
     },
     "execution_count": 331,
     "metadata": {},
     "output_type": "execute_result"
    }
   ],
   "source": [
    "data_1.shape"
   ]
  },
  {
   "cell_type": "code",
   "execution_count": 332,
   "id": "5b2b4867",
   "metadata": {},
   "outputs": [
    {
     "data": {
      "text/plain": [
       "(381398, 28)"
      ]
     },
     "execution_count": 332,
     "metadata": {},
     "output_type": "execute_result"
    }
   ],
   "source": [
    "data_2.shape"
   ]
  },
  {
   "cell_type": "code",
   "execution_count": 333,
   "id": "05efa322",
   "metadata": {},
   "outputs": [],
   "source": [
    "data_balanced = pd.concat([data_1, data_2], ignore_index=True)"
   ]
  },
  {
   "cell_type": "code",
   "execution_count": 334,
   "id": "1ac4f011",
   "metadata": {},
   "outputs": [
    {
     "name": "stdout",
     "output_type": "stream",
     "text": [
      "<class 'pandas.core.frame.DataFrame'>\n",
      "RangeIndex: 616331 entries, 0 to 616330\n",
      "Data columns (total 28 columns):\n",
      " #   Column                 Non-Null Count   Dtype  \n",
      "---  ------                 --------------   -----  \n",
      " 0   loan_amnt              616331 non-null  float64\n",
      " 1   term                   616331 non-null  object \n",
      " 2   int_rate               616331 non-null  float64\n",
      " 3   grade                  616331 non-null  object \n",
      " 4   emp_length             616331 non-null  object \n",
      " 5   home_ownership         616331 non-null  object \n",
      " 6   annual_inc             616331 non-null  float64\n",
      " 7   loan_status            616331 non-null  int64  \n",
      " 8   purpose                616331 non-null  object \n",
      " 9   dti                    616331 non-null  float64\n",
      " 10  fico_range_high        616331 non-null  float64\n",
      " 11  inq_last_6mths         616331 non-null  float64\n",
      " 12  revol_util             616331 non-null  float64\n",
      " 13  initial_list_status    616331 non-null  object \n",
      " 14  total_rec_late_fee     616331 non-null  float64\n",
      " 15  recoveries             616331 non-null  float64\n",
      " 16  last_pymnt_amnt        616331 non-null  float64\n",
      " 17  last_fico_range_low    616331 non-null  float64\n",
      " 18  application_type       616331 non-null  object \n",
      " 19  acc_open_past_24mths   616331 non-null  float64\n",
      " 20  mort_acc               616331 non-null  float64\n",
      " 21  num_tl_op_past_12m     616331 non-null  float64\n",
      " 22  percent_bc_gt_75       616331 non-null  float64\n",
      " 23  tot_hi_cred_lim        616331 non-null  float64\n",
      " 24  total_bc_limit         616331 non-null  float64\n",
      " 25  disbursement_method    616331 non-null  object \n",
      " 26  debt_settlement_flag   616331 non-null  object \n",
      " 27  earliest_cr_line_year  616331 non-null  int64  \n",
      "dtypes: float64(17), int64(2), object(9)\n",
      "memory usage: 131.7+ MB\n"
     ]
    }
   ],
   "source": [
    "data_balanced.info()"
   ]
  },
  {
   "cell_type": "markdown",
   "id": "56005ace",
   "metadata": {},
   "source": [
    "The new data set has 616331 rows, about 52% of total amount of rows in original data."
   ]
  },
  {
   "cell_type": "code",
   "execution_count": 335,
   "id": "6a2c7174",
   "metadata": {},
   "outputs": [
    {
     "data": {
      "text/plain": [
       "1    381398\n",
       "0    234933\n",
       "Name: loan_status, dtype: int64"
      ]
     },
     "execution_count": 335,
     "metadata": {},
     "output_type": "execute_result"
    }
   ],
   "source": [
    "data_balanced['loan_status'].value_counts()"
   ]
  },
  {
   "cell_type": "markdown",
   "id": "3a462502",
   "metadata": {},
   "source": [
    "# 2. Evaluation of Model Performance under different conditions"
   ]
  },
  {
   "cell_type": "markdown",
   "id": "d1a22a0c",
   "metadata": {},
   "source": [
    "We wants to evaluate the performance on a few models, under different conditions, to select the conditions for the model, such as which predictor feature to choose, if we should choose scaling and PCA."
   ]
  },
  {
   "cell_type": "markdown",
   "id": "d139a918",
   "metadata": {},
   "source": [
    "## 2.1 K-neighbors with 4 most correlated features"
   ]
  },
  {
   "cell_type": "markdown",
   "id": "03e16cbb",
   "metadata": {},
   "source": [
    "First let's think of which features should we choose for our model. The criteria is the correlation to our target feature, loan status."
   ]
  },
  {
   "cell_type": "code",
   "execution_count": 336,
   "id": "7de819b0",
   "metadata": {},
   "outputs": [],
   "source": [
    "columns_numerical = data_balanced.select_dtypes(['float','int64']).columns"
   ]
  },
  {
   "cell_type": "code",
   "execution_count": 337,
   "id": "d5459db2",
   "metadata": {},
   "outputs": [
    {
     "data": {
      "text/plain": [
       "Index(['loan_amnt', 'int_rate', 'annual_inc', 'loan_status', 'dti',\n",
       "       'fico_range_high', 'inq_last_6mths', 'revol_util', 'total_rec_late_fee',\n",
       "       'recoveries', 'last_pymnt_amnt', 'last_fico_range_low',\n",
       "       'acc_open_past_24mths', 'mort_acc', 'num_tl_op_past_12m',\n",
       "       'percent_bc_gt_75', 'tot_hi_cred_lim', 'total_bc_limit',\n",
       "       'earliest_cr_line_year'],\n",
       "      dtype='object')"
      ]
     },
     "execution_count": 337,
     "metadata": {},
     "output_type": "execute_result"
    }
   ],
   "source": [
    "columns_numerical"
   ]
  },
  {
   "cell_type": "code",
   "execution_count": 338,
   "id": "48c92be2",
   "metadata": {},
   "outputs": [
    {
     "data": {
      "text/html": [
       "<div>\n",
       "<style scoped>\n",
       "    .dataframe tbody tr th:only-of-type {\n",
       "        vertical-align: middle;\n",
       "    }\n",
       "\n",
       "    .dataframe tbody tr th {\n",
       "        vertical-align: top;\n",
       "    }\n",
       "\n",
       "    .dataframe thead th {\n",
       "        text-align: right;\n",
       "    }\n",
       "</style>\n",
       "<table border=\"1\" class=\"dataframe\">\n",
       "  <thead>\n",
       "    <tr style=\"text-align: right;\">\n",
       "      <th></th>\n",
       "      <th>column</th>\n",
       "      <th>correlation</th>\n",
       "    </tr>\n",
       "  </thead>\n",
       "  <tbody>\n",
       "    <tr>\n",
       "      <th>2</th>\n",
       "      <td>annual_inc</td>\n",
       "      <td>0.047058</td>\n",
       "    </tr>\n",
       "    <tr>\n",
       "      <th>18</th>\n",
       "      <td>earliest_cr_line_year</td>\n",
       "      <td>0.061175</td>\n",
       "    </tr>\n",
       "    <tr>\n",
       "      <th>7</th>\n",
       "      <td>revol_util</td>\n",
       "      <td>0.071629</td>\n",
       "    </tr>\n",
       "    <tr>\n",
       "      <th>15</th>\n",
       "      <td>percent_bc_gt_75</td>\n",
       "      <td>0.081630</td>\n",
       "    </tr>\n",
       "    <tr>\n",
       "      <th>6</th>\n",
       "      <td>inq_last_6mths</td>\n",
       "      <td>0.082099</td>\n",
       "    </tr>\n",
       "    <tr>\n",
       "      <th>0</th>\n",
       "      <td>loan_amnt</td>\n",
       "      <td>0.085216</td>\n",
       "    </tr>\n",
       "    <tr>\n",
       "      <th>17</th>\n",
       "      <td>total_bc_limit</td>\n",
       "      <td>0.088721</td>\n",
       "    </tr>\n",
       "    <tr>\n",
       "      <th>13</th>\n",
       "      <td>mort_acc</td>\n",
       "      <td>0.093250</td>\n",
       "    </tr>\n",
       "    <tr>\n",
       "      <th>16</th>\n",
       "      <td>tot_hi_cred_lim</td>\n",
       "      <td>0.096132</td>\n",
       "    </tr>\n",
       "    <tr>\n",
       "      <th>14</th>\n",
       "      <td>num_tl_op_past_12m</td>\n",
       "      <td>0.106615</td>\n",
       "    </tr>\n",
       "    <tr>\n",
       "      <th>4</th>\n",
       "      <td>dti</td>\n",
       "      <td>0.122501</td>\n",
       "    </tr>\n",
       "    <tr>\n",
       "      <th>12</th>\n",
       "      <td>acc_open_past_24mths</td>\n",
       "      <td>0.124765</td>\n",
       "    </tr>\n",
       "    <tr>\n",
       "      <th>8</th>\n",
       "      <td>total_rec_late_fee</td>\n",
       "      <td>0.153037</td>\n",
       "    </tr>\n",
       "    <tr>\n",
       "      <th>5</th>\n",
       "      <td>fico_range_high</td>\n",
       "      <td>0.164129</td>\n",
       "    </tr>\n",
       "    <tr>\n",
       "      <th>1</th>\n",
       "      <td>int_rate</td>\n",
       "      <td>0.310797</td>\n",
       "    </tr>\n",
       "    <tr>\n",
       "      <th>10</th>\n",
       "      <td>last_pymnt_amnt</td>\n",
       "      <td>0.464460</td>\n",
       "    </tr>\n",
       "    <tr>\n",
       "      <th>9</th>\n",
       "      <td>recoveries</td>\n",
       "      <td>0.468188</td>\n",
       "    </tr>\n",
       "    <tr>\n",
       "      <th>11</th>\n",
       "      <td>last_fico_range_low</td>\n",
       "      <td>0.585187</td>\n",
       "    </tr>\n",
       "    <tr>\n",
       "      <th>3</th>\n",
       "      <td>loan_status</td>\n",
       "      <td>1.000000</td>\n",
       "    </tr>\n",
       "  </tbody>\n",
       "</table>\n",
       "</div>"
      ],
      "text/plain": [
       "                   column  correlation\n",
       "2              annual_inc     0.047058\n",
       "18  earliest_cr_line_year     0.061175\n",
       "7              revol_util     0.071629\n",
       "15       percent_bc_gt_75     0.081630\n",
       "6          inq_last_6mths     0.082099\n",
       "0               loan_amnt     0.085216\n",
       "17         total_bc_limit     0.088721\n",
       "13               mort_acc     0.093250\n",
       "16        tot_hi_cred_lim     0.096132\n",
       "14     num_tl_op_past_12m     0.106615\n",
       "4                     dti     0.122501\n",
       "12   acc_open_past_24mths     0.124765\n",
       "8      total_rec_late_fee     0.153037\n",
       "5         fico_range_high     0.164129\n",
       "1                int_rate     0.310797\n",
       "10        last_pymnt_amnt     0.464460\n",
       "9              recoveries     0.468188\n",
       "11    last_fico_range_low     0.585187\n",
       "3             loan_status     1.000000"
      ]
     },
     "execution_count": 338,
     "metadata": {},
     "output_type": "execute_result"
    }
   ],
   "source": [
    "col_corr = []\n",
    "data_corr = []\n",
    "for item in columns_numerical:\n",
    "    data_corr.append(abs(data_balanced['loan_status'].corr(data_balanced[item])))\n",
    "    col_corr.append(item)\n",
    "    \n",
    "df_corr = pd.DataFrame({'column':col_corr, 'correlation':data_corr})\n",
    "df_corr.sort_values('correlation')"
   ]
  },
  {
   "cell_type": "markdown",
   "id": "f1285124",
   "metadata": {},
   "source": [
    "We can see that columns 'last_fico_range_low', 'recoveries', 'last_pymnt_amnt', and 'int_rate' have the highest correlation with loan status. So we would like to use them as predictor features and evaluate the K neighbors model."
   ]
  },
  {
   "cell_type": "code",
   "execution_count": 339,
   "id": "b07ed148",
   "metadata": {},
   "outputs": [],
   "source": [
    "# define predictor features\n",
    "cols_model = ['last_fico_range_low', 'recoveries', 'last_pymnt_amnt', 'int_rate']"
   ]
  },
  {
   "cell_type": "code",
   "execution_count": 340,
   "id": "61d839e6",
   "metadata": {},
   "outputs": [],
   "source": [
    "X = data_balanced[cols_model]"
   ]
  },
  {
   "cell_type": "code",
   "execution_count": 341,
   "id": "d20ffb4b",
   "metadata": {},
   "outputs": [
    {
     "data": {
      "text/html": [
       "<div>\n",
       "<style scoped>\n",
       "    .dataframe tbody tr th:only-of-type {\n",
       "        vertical-align: middle;\n",
       "    }\n",
       "\n",
       "    .dataframe tbody tr th {\n",
       "        vertical-align: top;\n",
       "    }\n",
       "\n",
       "    .dataframe thead th {\n",
       "        text-align: right;\n",
       "    }\n",
       "</style>\n",
       "<table border=\"1\" class=\"dataframe\">\n",
       "  <thead>\n",
       "    <tr style=\"text-align: right;\">\n",
       "      <th></th>\n",
       "      <th>last_fico_range_low</th>\n",
       "      <th>recoveries</th>\n",
       "      <th>last_pymnt_amnt</th>\n",
       "      <th>int_rate</th>\n",
       "    </tr>\n",
       "  </thead>\n",
       "  <tbody>\n",
       "    <tr>\n",
       "      <th>0</th>\n",
       "      <td>580.0</td>\n",
       "      <td>1618.90</td>\n",
       "      <td>471.70</td>\n",
       "      <td>19.48</td>\n",
       "    </tr>\n",
       "    <tr>\n",
       "      <th>1</th>\n",
       "      <td>0.0</td>\n",
       "      <td>368.37</td>\n",
       "      <td>146.16</td>\n",
       "      <td>14.85</td>\n",
       "    </tr>\n",
       "    <tr>\n",
       "      <th>2</th>\n",
       "      <td>625.0</td>\n",
       "      <td>0.00</td>\n",
       "      <td>565.09</td>\n",
       "      <td>12.88</td>\n",
       "    </tr>\n",
       "    <tr>\n",
       "      <th>3</th>\n",
       "      <td>0.0</td>\n",
       "      <td>0.00</td>\n",
       "      <td>701.01</td>\n",
       "      <td>24.24</td>\n",
       "    </tr>\n",
       "    <tr>\n",
       "      <th>4</th>\n",
       "      <td>600.0</td>\n",
       "      <td>0.00</td>\n",
       "      <td>581.58</td>\n",
       "      <td>13.99</td>\n",
       "    </tr>\n",
       "  </tbody>\n",
       "</table>\n",
       "</div>"
      ],
      "text/plain": [
       "   last_fico_range_low  recoveries  last_pymnt_amnt  int_rate\n",
       "0                580.0     1618.90           471.70     19.48\n",
       "1                  0.0      368.37           146.16     14.85\n",
       "2                625.0        0.00           565.09     12.88\n",
       "3                  0.0        0.00           701.01     24.24\n",
       "4                600.0        0.00           581.58     13.99"
      ]
     },
     "execution_count": 341,
     "metadata": {},
     "output_type": "execute_result"
    }
   ],
   "source": [
    "X.head()"
   ]
  },
  {
   "cell_type": "code",
   "execution_count": 342,
   "id": "d4084c21",
   "metadata": {},
   "outputs": [
    {
     "name": "stdout",
     "output_type": "stream",
     "text": [
      "<class 'pandas.core.frame.DataFrame'>\n",
      "RangeIndex: 616331 entries, 0 to 616330\n",
      "Data columns (total 4 columns):\n",
      " #   Column               Non-Null Count   Dtype  \n",
      "---  ------               --------------   -----  \n",
      " 0   last_fico_range_low  616331 non-null  float64\n",
      " 1   recoveries           616331 non-null  float64\n",
      " 2   last_pymnt_amnt      616331 non-null  float64\n",
      " 3   int_rate             616331 non-null  float64\n",
      "dtypes: float64(4)\n",
      "memory usage: 18.8 MB\n"
     ]
    }
   ],
   "source": [
    "X.info()"
   ]
  },
  {
   "cell_type": "code",
   "execution_count": 343,
   "id": "874d644d",
   "metadata": {},
   "outputs": [],
   "source": [
    "y = data_balanced['loan_status']"
   ]
  },
  {
   "cell_type": "code",
   "execution_count": 344,
   "id": "b64be569",
   "metadata": {},
   "outputs": [],
   "source": [
    "# split the data\n",
    "X_train, X_test, y_train, y_test = train_test_split(X, y, random_state = 21)"
   ]
  },
  {
   "cell_type": "code",
   "execution_count": 345,
   "id": "9324261f",
   "metadata": {},
   "outputs": [],
   "source": [
    "# define the KNN model\n",
    "knn_1 = KNeighborsClassifier(n_neighbors=5)"
   ]
  },
  {
   "cell_type": "code",
   "execution_count": 346,
   "id": "23ec17e4",
   "metadata": {},
   "outputs": [
    {
     "data": {
      "text/plain": [
       "KNeighborsClassifier()"
      ]
     },
     "execution_count": 346,
     "metadata": {},
     "output_type": "execute_result"
    }
   ],
   "source": [
    "# fit the model with the train data\n",
    "knn_1.fit(X_train, y_train)"
   ]
  },
  {
   "cell_type": "code",
   "execution_count": 347,
   "id": "03ae022a",
   "metadata": {},
   "outputs": [],
   "source": [
    "y_pred = knn_1.predict(X_test)"
   ]
  },
  {
   "cell_type": "code",
   "execution_count": 348,
   "id": "3f22c389",
   "metadata": {},
   "outputs": [],
   "source": [
    "score_1 = knn_1.score(X_test, y_test)"
   ]
  },
  {
   "cell_type": "code",
   "execution_count": 349,
   "id": "b6ae121f",
   "metadata": {},
   "outputs": [
    {
     "name": "stdout",
     "output_type": "stream",
     "text": [
      "0.9560561515546816\n"
     ]
    }
   ],
   "source": [
    "print(score_1)"
   ]
  },
  {
   "cell_type": "code",
   "execution_count": 350,
   "id": "f675ad20",
   "metadata": {},
   "outputs": [
    {
     "name": "stdout",
     "output_type": "stream",
     "text": [
      "[[55136  3416]\n",
      " [ 3355 92176]]\n"
     ]
    }
   ],
   "source": [
    "print(confusion_matrix(y_test, y_pred))"
   ]
  },
  {
   "cell_type": "code",
   "execution_count": 351,
   "id": "129c9350",
   "metadata": {},
   "outputs": [],
   "source": [
    "classification_report_1 = classification_report(y_test, y_pred, digits = 3, output_dict=True)"
   ]
  },
  {
   "cell_type": "code",
   "execution_count": 352,
   "id": "5714dc11",
   "metadata": {},
   "outputs": [
    {
     "name": "stdout",
     "output_type": "stream",
     "text": [
      "              precision    recall  f1-score   support\n",
      "\n",
      "           0      0.943     0.942     0.942     58552\n",
      "           1      0.964     0.965     0.965     95531\n",
      "\n",
      "    accuracy                          0.956    154083\n",
      "   macro avg      0.953     0.953     0.953    154083\n",
      "weighted avg      0.956     0.956     0.956    154083\n",
      "\n"
     ]
    }
   ],
   "source": [
    "print(classification_report(y_test, y_pred, digits = 3))"
   ]
  },
  {
   "cell_type": "code",
   "execution_count": 353,
   "id": "c5de4edf",
   "metadata": {},
   "outputs": [
    {
     "data": {
      "text/html": [
       "<div>\n",
       "<style scoped>\n",
       "    .dataframe tbody tr th:only-of-type {\n",
       "        vertical-align: middle;\n",
       "    }\n",
       "\n",
       "    .dataframe tbody tr th {\n",
       "        vertical-align: top;\n",
       "    }\n",
       "\n",
       "    .dataframe thead th {\n",
       "        text-align: right;\n",
       "    }\n",
       "</style>\n",
       "<table border=\"1\" class=\"dataframe\">\n",
       "  <thead>\n",
       "    <tr style=\"text-align: right;\">\n",
       "      <th></th>\n",
       "      <th>last_fico_range_low</th>\n",
       "      <th>recoveries</th>\n",
       "      <th>last_pymnt_amnt</th>\n",
       "      <th>int_rate</th>\n",
       "    </tr>\n",
       "  </thead>\n",
       "  <tbody>\n",
       "    <tr>\n",
       "      <th>0</th>\n",
       "      <td>580.0</td>\n",
       "      <td>1618.90</td>\n",
       "      <td>471.70</td>\n",
       "      <td>19.48</td>\n",
       "    </tr>\n",
       "    <tr>\n",
       "      <th>1</th>\n",
       "      <td>0.0</td>\n",
       "      <td>368.37</td>\n",
       "      <td>146.16</td>\n",
       "      <td>14.85</td>\n",
       "    </tr>\n",
       "    <tr>\n",
       "      <th>2</th>\n",
       "      <td>625.0</td>\n",
       "      <td>0.00</td>\n",
       "      <td>565.09</td>\n",
       "      <td>12.88</td>\n",
       "    </tr>\n",
       "    <tr>\n",
       "      <th>3</th>\n",
       "      <td>0.0</td>\n",
       "      <td>0.00</td>\n",
       "      <td>701.01</td>\n",
       "      <td>24.24</td>\n",
       "    </tr>\n",
       "    <tr>\n",
       "      <th>4</th>\n",
       "      <td>600.0</td>\n",
       "      <td>0.00</td>\n",
       "      <td>581.58</td>\n",
       "      <td>13.99</td>\n",
       "    </tr>\n",
       "  </tbody>\n",
       "</table>\n",
       "</div>"
      ],
      "text/plain": [
       "   last_fico_range_low  recoveries  last_pymnt_amnt  int_rate\n",
       "0                580.0     1618.90           471.70     19.48\n",
       "1                  0.0      368.37           146.16     14.85\n",
       "2                625.0        0.00           565.09     12.88\n",
       "3                  0.0        0.00           701.01     24.24\n",
       "4                600.0        0.00           581.58     13.99"
      ]
     },
     "execution_count": 353,
     "metadata": {},
     "output_type": "execute_result"
    }
   ],
   "source": [
    "X.head()"
   ]
  },
  {
   "cell_type": "markdown",
   "id": "8b03a8fc",
   "metadata": {},
   "source": [
    "#### Conclusion: From the study above, we can see that the score for the case with 4 most correlated features is 0.956, and the classification report is shown above. This gives us a bottom line and we will use it as reference to evaluate other models. "
   ]
  },
  {
   "cell_type": "markdown",
   "id": "cd66678f",
   "metadata": {},
   "source": [
    "## 2.2 K neighbors with 4 most correlated features (scaled)"
   ]
  },
  {
   "cell_type": "markdown",
   "id": "140e5943",
   "metadata": {},
   "source": [
    "In this model, we will still use K neighbors and the 4 features same as model 2.1. But in this model we will scale the 4 features. The reason is to see if the model performance will improve after the scaling."
   ]
  },
  {
   "cell_type": "code",
   "execution_count": 354,
   "id": "d390f839",
   "metadata": {},
   "outputs": [],
   "source": [
    "from sklearn.preprocessing import scale, StandardScaler"
   ]
  },
  {
   "cell_type": "code",
   "execution_count": 355,
   "id": "f7982f49",
   "metadata": {},
   "outputs": [],
   "source": [
    "X1_train, X1_test, y1_train, y1_test = train_test_split(X, y, random_state = 21)"
   ]
  },
  {
   "cell_type": "code",
   "execution_count": 356,
   "id": "a28a14b7",
   "metadata": {},
   "outputs": [],
   "source": [
    "scaler = StandardScaler()"
   ]
  },
  {
   "cell_type": "code",
   "execution_count": 357,
   "id": "128ba95e",
   "metadata": {},
   "outputs": [],
   "source": [
    "X_tr_scaled = scaler.fit_transform(X1_train)"
   ]
  },
  {
   "cell_type": "code",
   "execution_count": 358,
   "id": "f897fb2f",
   "metadata": {},
   "outputs": [],
   "source": [
    "X_te_scaled = scaler.transform(X1_test)"
   ]
  },
  {
   "cell_type": "code",
   "execution_count": 359,
   "id": "e12a38c9",
   "metadata": {},
   "outputs": [],
   "source": [
    "knn_2 = KNeighborsClassifier(n_neighbors=5)"
   ]
  },
  {
   "cell_type": "code",
   "execution_count": 360,
   "id": "f2e558d7",
   "metadata": {},
   "outputs": [
    {
     "data": {
      "text/plain": [
       "KNeighborsClassifier()"
      ]
     },
     "execution_count": 360,
     "metadata": {},
     "output_type": "execute_result"
    }
   ],
   "source": [
    "knn_2.fit(X_tr_scaled, y1_train)"
   ]
  },
  {
   "cell_type": "code",
   "execution_count": 361,
   "id": "88868e28",
   "metadata": {},
   "outputs": [],
   "source": [
    "y1_pred = knn_2.predict(X_te_scaled)"
   ]
  },
  {
   "cell_type": "code",
   "execution_count": 362,
   "id": "643ae7d2",
   "metadata": {},
   "outputs": [],
   "source": [
    "score_2 = knn_2.score(X_te_scaled, y1_test)"
   ]
  },
  {
   "cell_type": "code",
   "execution_count": 363,
   "id": "2f70a3ce",
   "metadata": {},
   "outputs": [
    {
     "name": "stdout",
     "output_type": "stream",
     "text": [
      "              precision    recall  f1-score   support\n",
      "\n",
      "           0      0.940     0.942     0.941     58552\n",
      "           1      0.965     0.963     0.964     95531\n",
      "\n",
      "    accuracy                          0.955    154083\n",
      "   macro avg      0.952     0.953     0.953    154083\n",
      "weighted avg      0.955     0.955     0.955    154083\n",
      "\n"
     ]
    }
   ],
   "source": [
    "print(classification_report(y1_test, y1_pred, digits=3))"
   ]
  },
  {
   "cell_type": "code",
   "execution_count": 364,
   "id": "0ee0f94a",
   "metadata": {},
   "outputs": [],
   "source": [
    "classification_report_2 = classification_report(y1_test, y1_pred, digits=3, output_dict=True)"
   ]
  },
  {
   "cell_type": "code",
   "execution_count": 365,
   "id": "980ca6cf",
   "metadata": {},
   "outputs": [
    {
     "name": "stdout",
     "output_type": "stream",
     "text": [
      "Score before scaling: 0.956   Score after scaling: 0.955\n"
     ]
    }
   ],
   "source": [
    "print('Score before scaling:', round(score_1, 3), '  Score after scaling:', round(score_2,3))"
   ]
  },
  {
   "cell_type": "code",
   "execution_count": 366,
   "id": "4006922d",
   "metadata": {},
   "outputs": [
    {
     "data": {
      "image/png": "[encoded data removed]",
      "text/plain": [
       "<Figure size 432x288 with 1 Axes>"
      ]
     },
     "metadata": {
      "needs_background": "light"
     },
     "output_type": "display_data"
    }
   ],
   "source": [
    "plt.bar(['Before Scaling','After Scaling'], [score_1, score_2], color=['r', 'b'])\n",
    "plt.ylim(0.9, 1.0)\n",
    "plt.grid(True)\n",
    "plt.ylabel('Score')\n",
    "plt.show()"
   ]
  },
  {
   "cell_type": "code",
   "execution_count": 367,
   "id": "60d943ec",
   "metadata": {},
   "outputs": [],
   "source": [
    "report_1 = pd.DataFrame(classification_report_1)"
   ]
  },
  {
   "cell_type": "code",
   "execution_count": 368,
   "id": "248c49b5",
   "metadata": {},
   "outputs": [],
   "source": [
    "report_2 = pd.DataFrame(classification_report_2)"
   ]
  },
  {
   "cell_type": "code",
   "execution_count": 369,
   "id": "e4b7c661",
   "metadata": {},
   "outputs": [],
   "source": [
    "f1_score_value = [report_1.loc['f1-score','0'], report_1.loc['f1-score','1'], report_2.loc['f1-score','0'], report_2.loc['f1-score','1']]"
   ]
  },
  {
   "cell_type": "code",
   "execution_count": 370,
   "id": "7107f962",
   "metadata": {},
   "outputs": [],
   "source": [
    "f1_score_df =pd.DataFrame({'loan_status':[0,1,0,1], 'Scaled/Original':['Original', 'Original', 'Scaled', 'Scaled'], 'f1 score':f1_score_value})"
   ]
  },
  {
   "cell_type": "code",
   "execution_count": 371,
   "id": "d2fff89d",
   "metadata": {},
   "outputs": [
    {
     "data": {
      "text/html": [
       "<div>\n",
       "<style scoped>\n",
       "    .dataframe tbody tr th:only-of-type {\n",
       "        vertical-align: middle;\n",
       "    }\n",
       "\n",
       "    .dataframe tbody tr th {\n",
       "        vertical-align: top;\n",
       "    }\n",
       "\n",
       "    .dataframe thead th {\n",
       "        text-align: right;\n",
       "    }\n",
       "</style>\n",
       "<table border=\"1\" class=\"dataframe\">\n",
       "  <thead>\n",
       "    <tr style=\"text-align: right;\">\n",
       "      <th></th>\n",
       "      <th>loan_status</th>\n",
       "      <th>Scaled/Original</th>\n",
       "      <th>f1 score</th>\n",
       "    </tr>\n",
       "  </thead>\n",
       "  <tbody>\n",
       "    <tr>\n",
       "      <th>0</th>\n",
       "      <td>0</td>\n",
       "      <td>Original</td>\n",
       "      <td>0.942149</td>\n",
       "    </tr>\n",
       "    <tr>\n",
       "      <th>1</th>\n",
       "      <td>1</td>\n",
       "      <td>Original</td>\n",
       "      <td>0.964573</td>\n",
       "    </tr>\n",
       "    <tr>\n",
       "      <th>2</th>\n",
       "      <td>0</td>\n",
       "      <td>Scaled</td>\n",
       "      <td>0.941322</td>\n",
       "    </tr>\n",
       "    <tr>\n",
       "      <th>3</th>\n",
       "      <td>1</td>\n",
       "      <td>Scaled</td>\n",
       "      <td>0.963972</td>\n",
       "    </tr>\n",
       "  </tbody>\n",
       "</table>\n",
       "</div>"
      ],
      "text/plain": [
       "   loan_status Scaled/Original  f1 score\n",
       "0            0        Original  0.942149\n",
       "1            1        Original  0.964573\n",
       "2            0          Scaled  0.941322\n",
       "3            1          Scaled  0.963972"
      ]
     },
     "execution_count": 371,
     "metadata": {},
     "output_type": "execute_result"
    }
   ],
   "source": [
    "f1_score_df"
   ]
  },
  {
   "cell_type": "code",
   "execution_count": 372,
   "id": "8b4875bf",
   "metadata": {},
   "outputs": [],
   "source": [
    "plt.rc('font', size=16)"
   ]
  },
  {
   "cell_type": "code",
   "execution_count": 373,
   "id": "9773e5ff",
   "metadata": {},
   "outputs": [
    {
     "data": {
      "image/png": "[encoded data removed]",
      "text/plain": [
       "<Figure size 494.675x360 with 1 Axes>"
      ]
     },
     "metadata": {
      "needs_background": "light"
     },
     "output_type": "display_data"
    }
   ],
   "source": [
    "sns.catplot(x='loan_status', y='f1 score', data=f1_score_df, hue='Scaled/Original', kind='bar')\n",
    "plt.ylim(0.9, 1.0)\n",
    "plt.grid(True)\n",
    "plt.show()"
   ]
  },
  {
   "cell_type": "code",
   "execution_count": 374,
   "id": "20f0506e",
   "metadata": {},
   "outputs": [
    {
     "data": {
      "text/html": [
       "<div>\n",
       "<style scoped>\n",
       "    .dataframe tbody tr th:only-of-type {\n",
       "        vertical-align: middle;\n",
       "    }\n",
       "\n",
       "    .dataframe tbody tr th {\n",
       "        vertical-align: top;\n",
       "    }\n",
       "\n",
       "    .dataframe thead th {\n",
       "        text-align: right;\n",
       "    }\n",
       "</style>\n",
       "<table border=\"1\" class=\"dataframe\">\n",
       "  <thead>\n",
       "    <tr style=\"text-align: right;\">\n",
       "      <th></th>\n",
       "      <th>last_fico_range_low</th>\n",
       "      <th>recoveries</th>\n",
       "      <th>last_pymnt_amnt</th>\n",
       "      <th>int_rate</th>\n",
       "    </tr>\n",
       "  </thead>\n",
       "  <tbody>\n",
       "    <tr>\n",
       "      <th>count</th>\n",
       "      <td>616331.000000</td>\n",
       "      <td>616331.000000</td>\n",
       "      <td>616331.000000</td>\n",
       "      <td>616331.000000</td>\n",
       "    </tr>\n",
       "    <tr>\n",
       "      <th>mean</th>\n",
       "      <td>624.031211</td>\n",
       "      <td>481.829520</td>\n",
       "      <td>4471.510661</td>\n",
       "      <td>13.831898</td>\n",
       "    </tr>\n",
       "    <tr>\n",
       "      <th>std</th>\n",
       "      <td>162.005326</td>\n",
       "      <td>1311.266992</td>\n",
       "      <td>6736.314749</td>\n",
       "      <td>4.944392</td>\n",
       "    </tr>\n",
       "    <tr>\n",
       "      <th>min</th>\n",
       "      <td>0.000000</td>\n",
       "      <td>0.000000</td>\n",
       "      <td>0.000000</td>\n",
       "      <td>5.310000</td>\n",
       "    </tr>\n",
       "    <tr>\n",
       "      <th>25%</th>\n",
       "      <td>570.000000</td>\n",
       "      <td>0.000000</td>\n",
       "      <td>348.270000</td>\n",
       "      <td>10.410000</td>\n",
       "    </tr>\n",
       "    <tr>\n",
       "      <th>50%</th>\n",
       "      <td>665.000000</td>\n",
       "      <td>0.000000</td>\n",
       "      <td>825.560000</td>\n",
       "      <td>13.330000</td>\n",
       "    </tr>\n",
       "    <tr>\n",
       "      <th>75%</th>\n",
       "      <td>715.000000</td>\n",
       "      <td>75.000000</td>\n",
       "      <td>6378.100000</td>\n",
       "      <td>16.990000</td>\n",
       "    </tr>\n",
       "    <tr>\n",
       "      <th>max</th>\n",
       "      <td>845.000000</td>\n",
       "      <td>39859.550000</td>\n",
       "      <td>41453.070000</td>\n",
       "      <td>30.990000</td>\n",
       "    </tr>\n",
       "  </tbody>\n",
       "</table>\n",
       "</div>"
      ],
      "text/plain": [
       "       last_fico_range_low     recoveries  last_pymnt_amnt       int_rate\n",
       "count        616331.000000  616331.000000    616331.000000  616331.000000\n",
       "mean            624.031211     481.829520      4471.510661      13.831898\n",
       "std             162.005326    1311.266992      6736.314749       4.944392\n",
       "min               0.000000       0.000000         0.000000       5.310000\n",
       "25%             570.000000       0.000000       348.270000      10.410000\n",
       "50%             665.000000       0.000000       825.560000      13.330000\n",
       "75%             715.000000      75.000000      6378.100000      16.990000\n",
       "max             845.000000   39859.550000     41453.070000      30.990000"
      ]
     },
     "execution_count": 374,
     "metadata": {},
     "output_type": "execute_result"
    }
   ],
   "source": [
    "X.describe()"
   ]
  },
  {
   "cell_type": "markdown",
   "id": "8cb155b6",
   "metadata": {},
   "source": [
    "#### Conclusion: From the two plots above, we can see that after the scaling, there is almost no improvment in both scole (accuracy) and the f1 score. Therefore we get the conclusion that the scaling is not needed for this case. So we will not do scaling for the K neighbors models. "
   ]
  },
  {
   "cell_type": "markdown",
   "id": "03e9443f",
   "metadata": {},
   "source": [
    "## 2.3 Grid Search Cross Validation for k value"
   ]
  },
  {
   "cell_type": "markdown",
   "id": "d9d9ae74",
   "metadata": {},
   "source": [
    "In our previous analysis we use k value(n_neighbors) to be 5. This is just our intuitive guess. We wants to use cross validation to find the best value. We just want to test a few values as (3, 5, 7, 9) "
   ]
  },
  {
   "cell_type": "code",
   "execution_count": 375,
   "id": "da05eb2a",
   "metadata": {},
   "outputs": [],
   "source": [
    "from sklearn.model_selection import GridSearchCV"
   ]
  },
  {
   "cell_type": "code",
   "execution_count": 376,
   "id": "d746b36a",
   "metadata": {},
   "outputs": [],
   "source": [
    "param_grid = {'n_neighbors': np.arange(3,10,2)}"
   ]
  },
  {
   "cell_type": "code",
   "execution_count": 377,
   "id": "d1a20115",
   "metadata": {},
   "outputs": [],
   "source": [
    "knn_model = KNeighborsClassifier()"
   ]
  },
  {
   "cell_type": "code",
   "execution_count": 378,
   "id": "433d35e7",
   "metadata": {},
   "outputs": [],
   "source": [
    "knn_cv = GridSearchCV(knn_model, param_grid, cv=5)"
   ]
  },
  {
   "cell_type": "code",
   "execution_count": 379,
   "id": "bc86944d",
   "metadata": {},
   "outputs": [
    {
     "data": {
      "text/plain": [
       "GridSearchCV(cv=5, estimator=KNeighborsClassifier(),\n",
       "             param_grid={'n_neighbors': array([3, 5, 7, 9])})"
      ]
     },
     "execution_count": 379,
     "metadata": {},
     "output_type": "execute_result"
    }
   ],
   "source": [
    "knn_cv.fit(X, y)"
   ]
  },
  {
   "cell_type": "code",
   "execution_count": 380,
   "id": "e2287df5",
   "metadata": {},
   "outputs": [
    {
     "data": {
      "text/plain": [
       "{'n_neighbors': 9}"
      ]
     },
     "execution_count": 380,
     "metadata": {},
     "output_type": "execute_result"
    }
   ],
   "source": [
    "knn_cv.best_params_"
   ]
  },
  {
   "cell_type": "code",
   "execution_count": 381,
   "id": "62534524",
   "metadata": {},
   "outputs": [
    {
     "data": {
      "text/plain": [
       "0.9574222214517043"
      ]
     },
     "execution_count": 381,
     "metadata": {},
     "output_type": "execute_result"
    }
   ],
   "source": [
    "knn_cv.best_score_"
   ]
  },
  {
   "cell_type": "markdown",
   "id": "7a5584ef",
   "metadata": {},
   "source": [
    "#### Conclusion: Result shows that the best n_neighbors value is 9."
   ]
  },
  {
   "cell_type": "markdown",
   "id": "2ee24fcb",
   "metadata": {},
   "source": [
    "## 2.4 Random Forest"
   ]
  },
  {
   "cell_type": "markdown",
   "id": "da944bb1",
   "metadata": {},
   "source": [
    "Now Let's try the random forest model and see what is the performance."
   ]
  },
  {
   "cell_type": "code",
   "execution_count": 382,
   "id": "336435f0",
   "metadata": {},
   "outputs": [],
   "source": [
    "from sklearn.ensemble import RandomForestClassifier\n",
    "from sklearn.datasets import make_classification"
   ]
  },
  {
   "cell_type": "code",
   "execution_count": 383,
   "id": "4ebfb601",
   "metadata": {},
   "outputs": [],
   "source": [
    "RFModel = RandomForestClassifier(random_state = 123)\n",
    "\n",
    "# Model and fit\n",
    "RFModel.fit(X_train, y_train)\n",
    "y_pred_rf = RFModel.predict(X_test)"
   ]
  },
  {
   "cell_type": "code",
   "execution_count": 384,
   "id": "d60bee7d",
   "metadata": {},
   "outputs": [],
   "source": [
    "score_3 = RFModel.score(X_test, y_test)"
   ]
  },
  {
   "cell_type": "code",
   "execution_count": 385,
   "id": "c74cf6a9",
   "metadata": {},
   "outputs": [
    {
     "name": "stdout",
     "output_type": "stream",
     "text": [
      "              precision    recall  f1-score   support\n",
      "\n",
      "           0      0.948     0.952     0.950     58552\n",
      "           1      0.970     0.968     0.969     95531\n",
      "\n",
      "    accuracy                          0.962    154083\n",
      "   macro avg      0.959     0.960     0.960    154083\n",
      "weighted avg      0.962     0.962     0.962    154083\n",
      "\n"
     ]
    }
   ],
   "source": [
    "print(classification_report(y_test, y_pred_rf, digits=3))"
   ]
  },
  {
   "cell_type": "code",
   "execution_count": 386,
   "id": "af10aa77",
   "metadata": {},
   "outputs": [
    {
     "data": {
      "image/png": "[encoded data removed]",
      "text/plain": [
       "<Figure size 432x288 with 1 Axes>"
      ]
     },
     "metadata": {
      "needs_background": "light"
     },
     "output_type": "display_data"
    }
   ],
   "source": [
    "plt.bar(['K neighbors','RandomForest'], [score_1, score_3], color=['r', 'b'])\n",
    "plt.ylim(0.9, 1.0)\n",
    "plt.grid(True)\n",
    "plt.ylabel('Score')\n",
    "plt.show()"
   ]
  },
  {
   "cell_type": "code",
   "execution_count": 387,
   "id": "05fcbab8",
   "metadata": {},
   "outputs": [],
   "source": [
    "classification_report_3 = classification_report(y_test, y_pred_rf, digits=3, output_dict=True)"
   ]
  },
  {
   "cell_type": "code",
   "execution_count": 388,
   "id": "24934b07",
   "metadata": {},
   "outputs": [],
   "source": [
    "report_3 = pd.DataFrame(classification_report_3)"
   ]
  },
  {
   "cell_type": "code",
   "execution_count": 389,
   "id": "19562002",
   "metadata": {},
   "outputs": [],
   "source": [
    "f1_score_value = [report_1.loc['f1-score','0'], report_1.loc['f1-score','1'], report_3.loc['f1-score','0'], report_3.loc['f1-score','1']]"
   ]
  },
  {
   "cell_type": "code",
   "execution_count": 390,
   "id": "5fe3f72d",
   "metadata": {},
   "outputs": [],
   "source": [
    "f1_score_df =pd.DataFrame({'loan_status':[0,1,0,1], 'Model':['KNN', 'KNN', 'RandomForest', 'RandomForest'], 'f1_score':f1_score_value})"
   ]
  },
  {
   "cell_type": "code",
   "execution_count": 391,
   "id": "b9be120b",
   "metadata": {},
   "outputs": [
    {
     "data": {
      "image/png": "[encoded data removed]",
      "text/plain": [
       "<Figure size 533.225x360 with 1 Axes>"
      ]
     },
     "metadata": {
      "needs_background": "light"
     },
     "output_type": "display_data"
    }
   ],
   "source": [
    "sns.catplot(x='loan_status', y='f1_score', data=f1_score_df, hue='Model', kind='bar')\n",
    "plt.ylim(0.9, 1.0)\n",
    "plt.grid(True)\n",
    "plt.show()"
   ]
  },
  {
   "cell_type": "markdown",
   "id": "2fe445b7",
   "metadata": {},
   "source": [
    "#### Conclusion: Results show that the random forest model DOES improve the performance. So far it is the best model among all."
   ]
  },
  {
   "cell_type": "markdown",
   "id": "0f098e9b",
   "metadata": {},
   "source": [
    "## 2.5 Logistic Regression"
   ]
  },
  {
   "cell_type": "markdown",
   "id": "b8b9d66c",
   "metadata": {},
   "source": [
    "We want to try logistic regression as our next model."
   ]
  },
  {
   "cell_type": "code",
   "execution_count": 392,
   "id": "388e9f40",
   "metadata": {},
   "outputs": [],
   "source": [
    "from sklearn.linear_model import LogisticRegression"
   ]
  },
  {
   "cell_type": "code",
   "execution_count": 393,
   "id": "9e537876",
   "metadata": {},
   "outputs": [],
   "source": [
    "logreg = LogisticRegression()"
   ]
  },
  {
   "cell_type": "code",
   "execution_count": 394,
   "id": "ff198de7",
   "metadata": {},
   "outputs": [
    {
     "data": {
      "text/plain": [
       "LogisticRegression()"
      ]
     },
     "execution_count": 394,
     "metadata": {},
     "output_type": "execute_result"
    }
   ],
   "source": [
    "logreg.fit(X_train, y_train)"
   ]
  },
  {
   "cell_type": "code",
   "execution_count": 395,
   "id": "9189b4a5",
   "metadata": {},
   "outputs": [],
   "source": [
    "y_pred_lr = logreg.predict(X_test)"
   ]
  },
  {
   "cell_type": "code",
   "execution_count": 396,
   "id": "19a34a30",
   "metadata": {},
   "outputs": [],
   "source": [
    "score_4 = logreg.score(X_test, y_test)"
   ]
  },
  {
   "cell_type": "code",
   "execution_count": 397,
   "id": "0ff4bb78",
   "metadata": {},
   "outputs": [
    {
     "data": {
      "image/png": "[encoded data removed]",
      "text/plain": [
       "<Figure size 432x288 with 1 Axes>"
      ]
     },
     "metadata": {
      "needs_background": "light"
     },
     "output_type": "display_data"
    }
   ],
   "source": [
    "plt.bar(['KNN','LogisticRegression'], [score_1, score_4], color=['r', 'b'])\n",
    "plt.ylim(0.9, 1.0)\n",
    "plt.grid(True)\n",
    "plt.ylabel('Score')\n",
    "plt.show()"
   ]
  },
  {
   "cell_type": "code",
   "execution_count": 398,
   "id": "978b8dc9",
   "metadata": {},
   "outputs": [],
   "source": [
    "classification_report_4 = classification_report(y_test, y_pred_lr, digits=3, output_dict=True)"
   ]
  },
  {
   "cell_type": "code",
   "execution_count": 399,
   "id": "a53b06aa",
   "metadata": {},
   "outputs": [],
   "source": [
    "report_4 = pd.DataFrame(classification_report_4)"
   ]
  },
  {
   "cell_type": "code",
   "execution_count": 400,
   "id": "e45e79d6",
   "metadata": {},
   "outputs": [],
   "source": [
    "f1_score_value = [report_1.loc['f1-score','0'], report_1.loc['f1-score','1'], report_4.loc['f1-score','0'], report_4.loc['f1-score','1']]"
   ]
  },
  {
   "cell_type": "code",
   "execution_count": 401,
   "id": "3b16c93d",
   "metadata": {},
   "outputs": [],
   "source": [
    "f1_score_df =pd.DataFrame({'loan_status':[0,1,0,1], 'Model':['KNN', 'KNN', 'LogisticRegression', 'LogisticRegression'], 'f1_score':f1_score_value})"
   ]
  },
  {
   "cell_type": "code",
   "execution_count": 402,
   "id": "299c9553",
   "metadata": {},
   "outputs": [
    {
     "data": {
      "image/png": "[encoded data removed]",
      "text/plain": [
       "<Figure size 566.225x360 with 1 Axes>"
      ]
     },
     "metadata": {
      "needs_background": "light"
     },
     "output_type": "display_data"
    }
   ],
   "source": [
    "sns.catplot(x='loan_status', y='f1_score', data=f1_score_df, hue='Model', kind='bar')\n",
    "plt.ylim(0.9, 1.0)\n",
    "plt.grid(True)\n",
    "plt.show()"
   ]
  },
  {
   "cell_type": "markdown",
   "id": "3e744cb9",
   "metadata": {},
   "source": [
    "#### Conclusion: The logistic regression is fast but the result is not as good as the K neighbors model."
   ]
  },
  {
   "cell_type": "markdown",
   "id": "4e0898f2",
   "metadata": {},
   "source": [
    "## 2.6 K Neighbors with 4 most correlated features and 2 categorical features"
   ]
  },
  {
   "cell_type": "markdown",
   "id": "4b8a4c82",
   "metadata": {},
   "source": [
    "We want to see the influence of those categorical featuers. So we would like to include the two categorical features in our model. "
   ]
  },
  {
   "cell_type": "code",
   "execution_count": 403,
   "id": "da349e4f",
   "metadata": {},
   "outputs": [],
   "source": [
    "cols_for_model = ['last_fico_range_low', 'recoveries', 'last_pymnt_amnt', 'int_rate','term', 'debt_settlement_flag']"
   ]
  },
  {
   "cell_type": "code",
   "execution_count": 404,
   "id": "1c3d6be5",
   "metadata": {},
   "outputs": [],
   "source": [
    "X_new = data_balanced[cols_for_model]"
   ]
  },
  {
   "cell_type": "code",
   "execution_count": 405,
   "id": "764d5016",
   "metadata": {},
   "outputs": [
    {
     "data": {
      "text/html": [
       "<div>\n",
       "<style scoped>\n",
       "    .dataframe tbody tr th:only-of-type {\n",
       "        vertical-align: middle;\n",
       "    }\n",
       "\n",
       "    .dataframe tbody tr th {\n",
       "        vertical-align: top;\n",
       "    }\n",
       "\n",
       "    .dataframe thead th {\n",
       "        text-align: right;\n",
       "    }\n",
       "</style>\n",
       "<table border=\"1\" class=\"dataframe\">\n",
       "  <thead>\n",
       "    <tr style=\"text-align: right;\">\n",
       "      <th></th>\n",
       "      <th>last_fico_range_low</th>\n",
       "      <th>recoveries</th>\n",
       "      <th>last_pymnt_amnt</th>\n",
       "      <th>int_rate</th>\n",
       "      <th>term</th>\n",
       "      <th>debt_settlement_flag</th>\n",
       "    </tr>\n",
       "  </thead>\n",
       "  <tbody>\n",
       "    <tr>\n",
       "      <th>0</th>\n",
       "      <td>580.0</td>\n",
       "      <td>1618.90</td>\n",
       "      <td>471.70</td>\n",
       "      <td>19.48</td>\n",
       "      <td>60 months</td>\n",
       "      <td>N</td>\n",
       "    </tr>\n",
       "    <tr>\n",
       "      <th>1</th>\n",
       "      <td>0.0</td>\n",
       "      <td>368.37</td>\n",
       "      <td>146.16</td>\n",
       "      <td>14.85</td>\n",
       "      <td>36 months</td>\n",
       "      <td>N</td>\n",
       "    </tr>\n",
       "    <tr>\n",
       "      <th>2</th>\n",
       "      <td>625.0</td>\n",
       "      <td>0.00</td>\n",
       "      <td>565.09</td>\n",
       "      <td>12.88</td>\n",
       "      <td>36 months</td>\n",
       "      <td>N</td>\n",
       "    </tr>\n",
       "    <tr>\n",
       "      <th>3</th>\n",
       "      <td>0.0</td>\n",
       "      <td>0.00</td>\n",
       "      <td>701.01</td>\n",
       "      <td>24.24</td>\n",
       "      <td>60 months</td>\n",
       "      <td>N</td>\n",
       "    </tr>\n",
       "    <tr>\n",
       "      <th>4</th>\n",
       "      <td>600.0</td>\n",
       "      <td>0.00</td>\n",
       "      <td>581.58</td>\n",
       "      <td>13.99</td>\n",
       "      <td>60 months</td>\n",
       "      <td>N</td>\n",
       "    </tr>\n",
       "  </tbody>\n",
       "</table>\n",
       "</div>"
      ],
      "text/plain": [
       "   last_fico_range_low  recoveries  last_pymnt_amnt  int_rate        term  \\\n",
       "0                580.0     1618.90           471.70     19.48   60 months   \n",
       "1                  0.0      368.37           146.16     14.85   36 months   \n",
       "2                625.0        0.00           565.09     12.88   36 months   \n",
       "3                  0.0        0.00           701.01     24.24   60 months   \n",
       "4                600.0        0.00           581.58     13.99   60 months   \n",
       "\n",
       "  debt_settlement_flag  \n",
       "0                    N  \n",
       "1                    N  \n",
       "2                    N  \n",
       "3                    N  \n",
       "4                    N  "
      ]
     },
     "execution_count": 405,
     "metadata": {},
     "output_type": "execute_result"
    }
   ],
   "source": [
    "X_new.head()"
   ]
  },
  {
   "cell_type": "code",
   "execution_count": 406,
   "id": "0dbefa87",
   "metadata": {},
   "outputs": [],
   "source": [
    "X_new = pd.get_dummies(X_new, drop_first=True)"
   ]
  },
  {
   "cell_type": "code",
   "execution_count": 407,
   "id": "95903497",
   "metadata": {},
   "outputs": [
    {
     "data": {
      "text/html": [
       "<div>\n",
       "<style scoped>\n",
       "    .dataframe tbody tr th:only-of-type {\n",
       "        vertical-align: middle;\n",
       "    }\n",
       "\n",
       "    .dataframe tbody tr th {\n",
       "        vertical-align: top;\n",
       "    }\n",
       "\n",
       "    .dataframe thead th {\n",
       "        text-align: right;\n",
       "    }\n",
       "</style>\n",
       "<table border=\"1\" class=\"dataframe\">\n",
       "  <thead>\n",
       "    <tr style=\"text-align: right;\">\n",
       "      <th></th>\n",
       "      <th>last_fico_range_low</th>\n",
       "      <th>recoveries</th>\n",
       "      <th>last_pymnt_amnt</th>\n",
       "      <th>int_rate</th>\n",
       "      <th>term_ 60 months</th>\n",
       "      <th>debt_settlement_flag_Y</th>\n",
       "    </tr>\n",
       "  </thead>\n",
       "  <tbody>\n",
       "    <tr>\n",
       "      <th>0</th>\n",
       "      <td>580.0</td>\n",
       "      <td>1618.90</td>\n",
       "      <td>471.70</td>\n",
       "      <td>19.48</td>\n",
       "      <td>1</td>\n",
       "      <td>0</td>\n",
       "    </tr>\n",
       "    <tr>\n",
       "      <th>1</th>\n",
       "      <td>0.0</td>\n",
       "      <td>368.37</td>\n",
       "      <td>146.16</td>\n",
       "      <td>14.85</td>\n",
       "      <td>0</td>\n",
       "      <td>0</td>\n",
       "    </tr>\n",
       "    <tr>\n",
       "      <th>2</th>\n",
       "      <td>625.0</td>\n",
       "      <td>0.00</td>\n",
       "      <td>565.09</td>\n",
       "      <td>12.88</td>\n",
       "      <td>0</td>\n",
       "      <td>0</td>\n",
       "    </tr>\n",
       "    <tr>\n",
       "      <th>3</th>\n",
       "      <td>0.0</td>\n",
       "      <td>0.00</td>\n",
       "      <td>701.01</td>\n",
       "      <td>24.24</td>\n",
       "      <td>1</td>\n",
       "      <td>0</td>\n",
       "    </tr>\n",
       "    <tr>\n",
       "      <th>4</th>\n",
       "      <td>600.0</td>\n",
       "      <td>0.00</td>\n",
       "      <td>581.58</td>\n",
       "      <td>13.99</td>\n",
       "      <td>1</td>\n",
       "      <td>0</td>\n",
       "    </tr>\n",
       "  </tbody>\n",
       "</table>\n",
       "</div>"
      ],
      "text/plain": [
       "   last_fico_range_low  recoveries  last_pymnt_amnt  int_rate  \\\n",
       "0                580.0     1618.90           471.70     19.48   \n",
       "1                  0.0      368.37           146.16     14.85   \n",
       "2                625.0        0.00           565.09     12.88   \n",
       "3                  0.0        0.00           701.01     24.24   \n",
       "4                600.0        0.00           581.58     13.99   \n",
       "\n",
       "   term_ 60 months  debt_settlement_flag_Y  \n",
       "0                1                       0  \n",
       "1                0                       0  \n",
       "2                0                       0  \n",
       "3                1                       0  \n",
       "4                1                       0  "
      ]
     },
     "execution_count": 407,
     "metadata": {},
     "output_type": "execute_result"
    }
   ],
   "source": [
    "X_new.head()"
   ]
  },
  {
   "cell_type": "code",
   "execution_count": 408,
   "id": "b5728f0e",
   "metadata": {},
   "outputs": [],
   "source": [
    "Xn_train, Xn_test, yn_train, yn_test = train_test_split(X_new, y, random_state = 21)"
   ]
  },
  {
   "cell_type": "code",
   "execution_count": 409,
   "id": "64b8c410",
   "metadata": {},
   "outputs": [],
   "source": [
    "knn_n = KNeighborsClassifier(n_neighbors=9)"
   ]
  },
  {
   "cell_type": "code",
   "execution_count": 410,
   "id": "508c6427",
   "metadata": {},
   "outputs": [
    {
     "data": {
      "text/plain": [
       "KNeighborsClassifier(n_neighbors=9)"
      ]
     },
     "execution_count": 410,
     "metadata": {},
     "output_type": "execute_result"
    }
   ],
   "source": [
    "knn_n.fit(Xn_train, yn_train)"
   ]
  },
  {
   "cell_type": "code",
   "execution_count": 411,
   "id": "10caf5a0",
   "metadata": {},
   "outputs": [],
   "source": [
    "yn_pred = knn_n.predict(Xn_test)"
   ]
  },
  {
   "cell_type": "code",
   "execution_count": 412,
   "id": "2eba82f0",
   "metadata": {},
   "outputs": [],
   "source": [
    "score_5 = knn_n.score(Xn_test, yn_test)"
   ]
  },
  {
   "cell_type": "code",
   "execution_count": 413,
   "id": "63fd6e6e",
   "metadata": {},
   "outputs": [
    {
     "data": {
      "image/png": "[encoded data removed]",
      "text/plain": [
       "<Figure size 432x288 with 1 Axes>"
      ]
     },
     "metadata": {
      "needs_background": "light"
     },
     "output_type": "display_data"
    }
   ],
   "source": [
    "plt.bar(['KNN w/o categorical','KNN w/ 2 categorical'], [score_1, score_5], color=['r', 'b'])\n",
    "plt.ylim(0.9, 1.0)\n",
    "plt.grid(True)\n",
    "plt.ylabel('Score')\n",
    "plt.show()"
   ]
  },
  {
   "cell_type": "code",
   "execution_count": 414,
   "id": "04a5a444",
   "metadata": {},
   "outputs": [],
   "source": [
    "classification_report_5 = classification_report(y_test, yn_pred, digits=3, output_dict=True)"
   ]
  },
  {
   "cell_type": "code",
   "execution_count": 415,
   "id": "d89d7d19",
   "metadata": {},
   "outputs": [],
   "source": [
    "report_5 = pd.DataFrame(classification_report_5)"
   ]
  },
  {
   "cell_type": "code",
   "execution_count": 416,
   "id": "3573da19",
   "metadata": {},
   "outputs": [],
   "source": [
    "f1_score_value = [report_1.loc['f1-score','0'], report_1.loc['f1-score','1'], report_5.loc['f1-score','0'], \n",
    "                  report_5.loc['f1-score','1']]"
   ]
  },
  {
   "cell_type": "code",
   "execution_count": 417,
   "id": "d1194437",
   "metadata": {},
   "outputs": [],
   "source": [
    "f1_score_df =pd.DataFrame({'loan_status':[0,1,0,1], 'Model':['K neighbors w/o categorical', \n",
    "        'K neighbors w/o categorical', 'K neighbors w/ 2 categorical', 'K neighbors w/ 2 categorical'], \n",
    "                'f1_score':f1_score_value})"
   ]
  },
  {
   "cell_type": "code",
   "execution_count": 418,
   "id": "882152c1",
   "metadata": {},
   "outputs": [
    {
     "data": {
      "image/png": "[encoded data removed]",
      "text/plain": [
       "<Figure size 646.475x360 with 1 Axes>"
      ]
     },
     "metadata": {
      "needs_background": "light"
     },
     "output_type": "display_data"
    }
   ],
   "source": [
    "sns.catplot(x='loan_status', y='f1_score', data=f1_score_df, hue='Model', kind='bar')\n",
    "plt.ylim(0.9, 1.0)\n",
    "plt.grid(True)\n",
    "plt.show()"
   ]
  },
  {
   "cell_type": "markdown",
   "id": "798a52a7",
   "metadata": {},
   "source": [
    "#### Conclusion: We do see that after the two categorical features included, the model performance was improved."
   ]
  },
  {
   "cell_type": "markdown",
   "id": "d26cbadd",
   "metadata": {},
   "source": [
    "## 2.7 Random Forest with 4 most correlated features and 2 categorical features"
   ]
  },
  {
   "cell_type": "code",
   "execution_count": 419,
   "id": "f19d822e",
   "metadata": {},
   "outputs": [],
   "source": [
    "NewRFModel = RandomForestClassifier(random_state = 123)\n",
    "\n",
    "# Model and fit\n",
    "NewRFModel.fit(Xn_train, yn_train)\n",
    "yn_pred_rf = NewRFModel.predict(Xn_test)"
   ]
  },
  {
   "cell_type": "code",
   "execution_count": 420,
   "id": "6ab6b68f",
   "metadata": {},
   "outputs": [],
   "source": [
    "score_6 = NewRFModel.score(Xn_test, yn_test)"
   ]
  },
  {
   "cell_type": "code",
   "execution_count": 421,
   "id": "4aebe0ae",
   "metadata": {},
   "outputs": [
    {
     "data": {
      "image/png": "[encoded data removed]",
      "text/plain": [
       "<Figure size 432x288 with 1 Axes>"
      ]
     },
     "metadata": {
      "needs_background": "light"
     },
     "output_type": "display_data"
    }
   ],
   "source": [
    "plt.bar(['K neighbors\\n w/o categorical','K neighbors\\n w/ 2 categorical', 'Random Forest\\n w/ 2 categorical'], \n",
    "        [score_1, score_5,score_6], color=['r', 'b', 'y'])\n",
    "plt.ylim(0.9, 1.0)\n",
    "plt.xticks(rotation=45)\n",
    "plt.grid(True)\n",
    "plt.ylabel('Score')\n",
    "plt.show()"
   ]
  },
  {
   "cell_type": "code",
   "execution_count": 422,
   "id": "4e1bb75b",
   "metadata": {},
   "outputs": [
    {
     "name": "stdout",
     "output_type": "stream",
     "text": [
      "              precision    recall  f1-score   support\n",
      "\n",
      "           0      0.954     0.956     0.955     58552\n",
      "           1      0.973     0.972     0.972     95531\n",
      "\n",
      "    accuracy                          0.966    154083\n",
      "   macro avg      0.963     0.964     0.964    154083\n",
      "weighted avg      0.966     0.966     0.966    154083\n",
      "\n"
     ]
    }
   ],
   "source": [
    "print(classification_report(yn_test, yn_pred_rf, digits=3))"
   ]
  },
  {
   "cell_type": "code",
   "execution_count": 423,
   "id": "0854f314",
   "metadata": {},
   "outputs": [],
   "source": [
    "classification_report_6 = classification_report(y_test, yn_pred_rf, digits=3, output_dict=True)"
   ]
  },
  {
   "cell_type": "code",
   "execution_count": 424,
   "id": "c1c03c43",
   "metadata": {},
   "outputs": [],
   "source": [
    "report_6 = pd.DataFrame(classification_report_6)"
   ]
  },
  {
   "cell_type": "code",
   "execution_count": 425,
   "id": "3b567f81",
   "metadata": {},
   "outputs": [],
   "source": [
    "f1_score_value = [report_1.loc['f1-score','0'], report_1.loc['f1-score','1'], report_5.loc['f1-score','0'], \n",
    "                  report_5.loc['f1-score','1'], report_6.loc['f1-score','0'], report_6.loc['f1-score','1']]"
   ]
  },
  {
   "cell_type": "code",
   "execution_count": 426,
   "id": "b74e5319",
   "metadata": {},
   "outputs": [],
   "source": [
    "f1_score_df =pd.DataFrame({'loan_status':[0,1,0,1,0,1], 'Model':['KNN w/o cat', 'KNN w/o cat', 'KNN w/ 2 cat', \n",
    "        'KNN w/ 2 cat','RandmFrst w/ 2 categorical','RandmFrst w/ 2 categorical'], 'f1_score':f1_score_value})"
   ]
  },
  {
   "cell_type": "code",
   "execution_count": 427,
   "id": "4d458d79",
   "metadata": {},
   "outputs": [
    {
     "data": {
      "image/png": "[encoded data removed]",
      "text/plain": [
       "<Figure size 636.85x360 with 1 Axes>"
      ]
     },
     "metadata": {
      "needs_background": "light"
     },
     "output_type": "display_data"
    }
   ],
   "source": [
    "sns.catplot(x='loan_status', y='f1_score', data=f1_score_df, hue='Model', kind='bar')\n",
    "plt.ylim(0.9, 1.0)\n",
    "plt.grid(True)\n",
    "plt.show()"
   ]
  },
  {
   "cell_type": "markdown",
   "id": "794efcca",
   "metadata": {},
   "source": [
    "#### Conclusion: Based on the comparason of all three models, we can see that the random forest model with 4 numerical features and two categorical features are much better than the other two."
   ]
  },
  {
   "cell_type": "markdown",
   "id": "6b8e46ce",
   "metadata": {},
   "source": [
    "## 2.8 Random Forest with 6 most correlated features and 2 categorical features"
   ]
  },
  {
   "cell_type": "code",
   "execution_count": 428,
   "id": "6001de5d",
   "metadata": {},
   "outputs": [],
   "source": [
    "col2_for_model = ['last_fico_range_low', 'recoveries', 'last_pymnt_amnt', 'int_rate', 'term',\n",
    "                  'debt_settlement_flag', 'fico_range_high', 'total_rec_late_fee']"
   ]
  },
  {
   "cell_type": "code",
   "execution_count": 429,
   "id": "774e95ee",
   "metadata": {},
   "outputs": [],
   "source": [
    "X3 = data_balanced[col2_for_model]"
   ]
  },
  {
   "cell_type": "code",
   "execution_count": 430,
   "id": "6a1e8a31",
   "metadata": {},
   "outputs": [
    {
     "data": {
      "text/html": [
       "<div>\n",
       "<style scoped>\n",
       "    .dataframe tbody tr th:only-of-type {\n",
       "        vertical-align: middle;\n",
       "    }\n",
       "\n",
       "    .dataframe tbody tr th {\n",
       "        vertical-align: top;\n",
       "    }\n",
       "\n",
       "    .dataframe thead th {\n",
       "        text-align: right;\n",
       "    }\n",
       "</style>\n",
       "<table border=\"1\" class=\"dataframe\">\n",
       "  <thead>\n",
       "    <tr style=\"text-align: right;\">\n",
       "      <th></th>\n",
       "      <th>last_fico_range_low</th>\n",
       "      <th>recoveries</th>\n",
       "      <th>last_pymnt_amnt</th>\n",
       "      <th>int_rate</th>\n",
       "      <th>term</th>\n",
       "      <th>debt_settlement_flag</th>\n",
       "      <th>fico_range_high</th>\n",
       "      <th>total_rec_late_fee</th>\n",
       "    </tr>\n",
       "  </thead>\n",
       "  <tbody>\n",
       "    <tr>\n",
       "      <th>0</th>\n",
       "      <td>580.0</td>\n",
       "      <td>1618.90</td>\n",
       "      <td>471.70</td>\n",
       "      <td>19.48</td>\n",
       "      <td>60 months</td>\n",
       "      <td>N</td>\n",
       "      <td>669.0</td>\n",
       "      <td>0.00</td>\n",
       "    </tr>\n",
       "    <tr>\n",
       "      <th>1</th>\n",
       "      <td>0.0</td>\n",
       "      <td>368.37</td>\n",
       "      <td>146.16</td>\n",
       "      <td>14.85</td>\n",
       "      <td>36 months</td>\n",
       "      <td>N</td>\n",
       "      <td>729.0</td>\n",
       "      <td>0.00</td>\n",
       "    </tr>\n",
       "    <tr>\n",
       "      <th>2</th>\n",
       "      <td>625.0</td>\n",
       "      <td>0.00</td>\n",
       "      <td>565.09</td>\n",
       "      <td>12.88</td>\n",
       "      <td>36 months</td>\n",
       "      <td>N</td>\n",
       "      <td>679.0</td>\n",
       "      <td>161.46</td>\n",
       "    </tr>\n",
       "    <tr>\n",
       "      <th>3</th>\n",
       "      <td>0.0</td>\n",
       "      <td>0.00</td>\n",
       "      <td>701.01</td>\n",
       "      <td>24.24</td>\n",
       "      <td>60 months</td>\n",
       "      <td>N</td>\n",
       "      <td>664.0</td>\n",
       "      <td>0.00</td>\n",
       "    </tr>\n",
       "    <tr>\n",
       "      <th>4</th>\n",
       "      <td>600.0</td>\n",
       "      <td>0.00</td>\n",
       "      <td>581.58</td>\n",
       "      <td>13.99</td>\n",
       "      <td>60 months</td>\n",
       "      <td>N</td>\n",
       "      <td>734.0</td>\n",
       "      <td>0.00</td>\n",
       "    </tr>\n",
       "  </tbody>\n",
       "</table>\n",
       "</div>"
      ],
      "text/plain": [
       "   last_fico_range_low  recoveries  last_pymnt_amnt  int_rate        term  \\\n",
       "0                580.0     1618.90           471.70     19.48   60 months   \n",
       "1                  0.0      368.37           146.16     14.85   36 months   \n",
       "2                625.0        0.00           565.09     12.88   36 months   \n",
       "3                  0.0        0.00           701.01     24.24   60 months   \n",
       "4                600.0        0.00           581.58     13.99   60 months   \n",
       "\n",
       "  debt_settlement_flag  fico_range_high  total_rec_late_fee  \n",
       "0                    N            669.0                0.00  \n",
       "1                    N            729.0                0.00  \n",
       "2                    N            679.0              161.46  \n",
       "3                    N            664.0                0.00  \n",
       "4                    N            734.0                0.00  "
      ]
     },
     "execution_count": 430,
     "metadata": {},
     "output_type": "execute_result"
    }
   ],
   "source": [
    "X3.head()"
   ]
  },
  {
   "cell_type": "code",
   "execution_count": 431,
   "id": "93fe197a",
   "metadata": {},
   "outputs": [],
   "source": [
    "X3 = pd.get_dummies(X3, drop_first=True)"
   ]
  },
  {
   "cell_type": "code",
   "execution_count": 432,
   "id": "7928d4b8",
   "metadata": {},
   "outputs": [],
   "source": [
    "X_train, X_test, y_train, y_test = train_test_split(X3, y, random_state = 21)"
   ]
  },
  {
   "cell_type": "code",
   "execution_count": 433,
   "id": "e04c9d39",
   "metadata": {},
   "outputs": [],
   "source": [
    "NewRFModel3 = RandomForestClassifier(random_state = 123)\n",
    "\n",
    "# Model and fit\n",
    "NewRFModel3.fit(X_train, y_train)\n",
    "y_pred_rf = NewRFModel3.predict(X_test)"
   ]
  },
  {
   "cell_type": "code",
   "execution_count": 434,
   "id": "7ba64359",
   "metadata": {},
   "outputs": [],
   "source": [
    "score_7 = NewRFModel3.score(X_test, y_test)"
   ]
  },
  {
   "cell_type": "code",
   "execution_count": 435,
   "id": "94111c52",
   "metadata": {},
   "outputs": [
    {
     "data": {
      "text/plain": [
       "(0.9656159342691926, 0.9669918160991154)"
      ]
     },
     "execution_count": 435,
     "metadata": {},
     "output_type": "execute_result"
    }
   ],
   "source": [
    "score_6, score_7"
   ]
  },
  {
   "cell_type": "code",
   "execution_count": 436,
   "id": "98b1ba43",
   "metadata": {},
   "outputs": [
    {
     "data": {
      "image/png": "[encoded data removed]",
      "text/plain": [
       "<Figure size 576x432 with 1 Axes>"
      ]
     },
     "metadata": {
      "needs_background": "light"
     },
     "output_type": "display_data"
    }
   ],
   "source": [
    "plt.figure(figsize=(8,6))\n",
    "plt.bar(['RandmFrst w/ 6 features','RandmFrst w/8 features'], [score_6, score_7], color=['r', 'b'])\n",
    "plt.ylim(0.9, 1.0)\n",
    "plt.grid(True)\n",
    "plt.ylabel('Score')\n",
    "plt.show()"
   ]
  },
  {
   "cell_type": "code",
   "execution_count": 437,
   "id": "f564c97e",
   "metadata": {},
   "outputs": [],
   "source": [
    "classification_report_7 = classification_report(y_test, y_pred_rf, digits=3, output_dict=True)"
   ]
  },
  {
   "cell_type": "code",
   "execution_count": 438,
   "id": "b8ec8229",
   "metadata": {},
   "outputs": [
    {
     "name": "stdout",
     "output_type": "stream",
     "text": [
      "              precision    recall  f1-score   support\n",
      "\n",
      "           0      0.955     0.958     0.957     58552\n",
      "           1      0.974     0.972     0.973     95531\n",
      "\n",
      "    accuracy                          0.967    154083\n",
      "   macro avg      0.965     0.965     0.965    154083\n",
      "weighted avg      0.967     0.967     0.967    154083\n",
      "\n"
     ]
    }
   ],
   "source": [
    "print(classification_report(y_test, y_pred_rf, digits=3))"
   ]
  },
  {
   "cell_type": "code",
   "execution_count": 439,
   "id": "41dda209",
   "metadata": {},
   "outputs": [],
   "source": [
    "report_7 = pd.DataFrame(classification_report_7)"
   ]
  },
  {
   "cell_type": "code",
   "execution_count": 440,
   "id": "80d18a40",
   "metadata": {},
   "outputs": [],
   "source": [
    "f1_score_value = [report_6.loc['f1-score','0'], report_6.loc['f1-score','1'], report_7.loc['f1-score','0'], \n",
    "                  report_7.loc['f1-score','1']]"
   ]
  },
  {
   "cell_type": "code",
   "execution_count": 441,
   "id": "1ed55963",
   "metadata": {},
   "outputs": [],
   "source": [
    "f1_score_df =pd.DataFrame({'loan_status':[0,1,0,1], 'Model':['RandmFrst w/ 6 features', 'RandmFrst w/ 6 features', \n",
    "                                'RandmFrst w/ 8 features', 'RandmFrst w/ 8 features'], 'f1_score':f1_score_value})"
   ]
  },
  {
   "cell_type": "code",
   "execution_count": 442,
   "id": "a66f9c06",
   "metadata": {},
   "outputs": [
    {
     "data": {
      "image/png": "[encoded data removed]",
      "text/plain": [
       "<Figure size 614.1x360 with 1 Axes>"
      ]
     },
     "metadata": {
      "needs_background": "light"
     },
     "output_type": "display_data"
    }
   ],
   "source": [
    "sns.catplot(x='loan_status', y='f1_score', data=f1_score_df, hue='Model', kind='bar')\n",
    "plt.ylim(0.9, 1.0)\n",
    "plt.grid(True)\n",
    "plt.show()"
   ]
  },
  {
   "cell_type": "code",
   "execution_count": 443,
   "id": "3e13c864",
   "metadata": {},
   "outputs": [
    {
     "name": "stdout",
     "output_type": "stream",
     "text": [
      "[[56102  2450]\n",
      " [ 2636 92895]]\n"
     ]
    }
   ],
   "source": [
    "print(confusion_matrix(y_test, y_pred_rf))"
   ]
  },
  {
   "cell_type": "markdown",
   "id": "f94359ba",
   "metadata": {},
   "source": [
    "Let's then have a look at the ROC curve and AUC score."
   ]
  },
  {
   "cell_type": "code",
   "execution_count": 444,
   "id": "918ba6c8",
   "metadata": {},
   "outputs": [],
   "source": [
    "from sklearn.metrics import roc_curve\n",
    "from sklearn.metrics import roc_auc_score\n",
    "from sklearn.model_selection import cross_val_score"
   ]
  },
  {
   "cell_type": "code",
   "execution_count": 445,
   "id": "3de41e4a",
   "metadata": {},
   "outputs": [],
   "source": [
    "y_pred_prob = NewRFModel3.predict_proba(X_test)[:,1]"
   ]
  },
  {
   "cell_type": "code",
   "execution_count": 446,
   "id": "48c6ed75",
   "metadata": {},
   "outputs": [
    {
     "data": {
      "text/plain": [
       "array([1.  , 1.  , 0.27, ..., 1.  , 1.  , 0.04])"
      ]
     },
     "execution_count": 446,
     "metadata": {},
     "output_type": "execute_result"
    }
   ],
   "source": [
    "y_pred_prob"
   ]
  },
  {
   "cell_type": "code",
   "execution_count": 447,
   "id": "c7530e1d",
   "metadata": {},
   "outputs": [],
   "source": [
    "fpr, tpr, thresholds = roc_curve(y_test, y_pred_prob)"
   ]
  },
  {
   "cell_type": "code",
   "execution_count": 448,
   "id": "ef04317d",
   "metadata": {},
   "outputs": [
    {
     "data": {
      "image/png": "[encoded data removed]",
      "text/plain": [
       "<Figure size 432x288 with 1 Axes>"
      ]
     },
     "metadata": {
      "needs_background": "light"
     },
     "output_type": "display_data"
    }
   ],
   "source": [
    "plt.plot([0, 1], [0, 1], 'k--')\n",
    "plt.plot(fpr, tpr, label = 'logistic regression')\n",
    "plt.xlabel('False positive rate')\n",
    "plt.ylabel('True positive rate')\n",
    "plt.title('logistic regression roc curve')\n",
    "plt.show()"
   ]
  },
  {
   "cell_type": "code",
   "execution_count": 449,
   "id": "8de76da7",
   "metadata": {},
   "outputs": [],
   "source": [
    "cv_results = cross_val_score(NewRFModel3, X3, y, cv=5)"
   ]
  },
  {
   "cell_type": "code",
   "execution_count": 450,
   "id": "1ef293e9",
   "metadata": {},
   "outputs": [
    {
     "data": {
      "text/plain": [
       "0.9947230394523637"
      ]
     },
     "execution_count": 450,
     "metadata": {},
     "output_type": "execute_result"
    }
   ],
   "source": [
    "roc_auc_score(y_test, y_pred_prob)"
   ]
  },
  {
   "cell_type": "code",
   "execution_count": 451,
   "id": "f9104426",
   "metadata": {},
   "outputs": [],
   "source": [
    "cv_scores = cross_val_score(NewRFModel3, X3, y, cv=5, scoring='roc_auc')"
   ]
  },
  {
   "cell_type": "code",
   "execution_count": 452,
   "id": "029afc8b",
   "metadata": {},
   "outputs": [
    {
     "name": "stdout",
     "output_type": "stream",
     "text": [
      "cv_results: [0.96664152 0.96638976 0.96510798 0.96388298 0.97034056]  cv_score [0.99436905 0.99442073 0.99381699 0.99383358 0.9953699 ]\n"
     ]
    }
   ],
   "source": [
    "print('cv_results:',cv_results, ' cv_score', cv_scores)"
   ]
  },
  {
   "cell_type": "markdown",
   "id": "21ef95ee",
   "metadata": {},
   "source": [
    "Let's do the grid search cross validation for the best parameter and best score."
   ]
  },
  {
   "cell_type": "code",
   "execution_count": 453,
   "id": "2b61f6ee",
   "metadata": {},
   "outputs": [],
   "source": [
    "from sklearn.ensemble import RandomForestClassifier\n",
    "from sklearn.model_selection import GridSearchCV"
   ]
  },
  {
   "cell_type": "code",
   "execution_count": 454,
   "id": "9ed3105c",
   "metadata": {},
   "outputs": [
    {
     "data": {
      "text/plain": [
       "GridSearchCV(cv=5, estimator=RandomForestClassifier(),\n",
       "             param_grid={'n_estimators': array([55, 56, 57, 58, 59, 60, 61, 62, 63, 64])})"
      ]
     },
     "execution_count": 454,
     "metadata": {},
     "output_type": "execute_result"
    }
   ],
   "source": [
    "param_grid = {'n_estimators':np.arange(55,65)}\n",
    "rfc = RandomForestClassifier()\n",
    "rf_cv= GridSearchCV(rfc, param_grid, cv=5)\n",
    "rf_cv.fit(X_train,y_train)"
   ]
  },
  {
   "cell_type": "code",
   "execution_count": 455,
   "id": "818e2db1",
   "metadata": {},
   "outputs": [
    {
     "data": {
      "text/plain": [
       "{'n_estimators': 56}"
      ]
     },
     "execution_count": 455,
     "metadata": {},
     "output_type": "execute_result"
    }
   ],
   "source": [
    "rf_cv.best_params_"
   ]
  },
  {
   "cell_type": "code",
   "execution_count": 456,
   "id": "ce943c80",
   "metadata": {},
   "outputs": [
    {
     "data": {
      "text/plain": [
       "0.9676147904001867"
      ]
     },
     "execution_count": 456,
     "metadata": {},
     "output_type": "execute_result"
    }
   ],
   "source": [
    "rf_cv.best_score_"
   ]
  },
  {
   "cell_type": "markdown",
   "id": "44d3e7d2",
   "metadata": {},
   "source": [
    "#### Conclusion: The model of random forest with six most correlated features and two categorical features slightly improve the performance (0.2% higher in the f1 score). Therefore we will use this one as our final model (random forest with 6 most correlated and 2 categorical)."
   ]
  },
  {
   "cell_type": "markdown",
   "id": "a55b43fc",
   "metadata": {},
   "source": [
    "## 2.9 Random Forest with 9 Principal Components"
   ]
  },
  {
   "cell_type": "markdown",
   "id": "bd58c0eb",
   "metadata": {},
   "source": [
    "Let's have a look on the effect of Principal Components Analysis (PCA)."
   ]
  },
  {
   "cell_type": "code",
   "execution_count": 457,
   "id": "16233603",
   "metadata": {},
   "outputs": [],
   "source": [
    "y = data_lc['loan_status']"
   ]
  },
  {
   "cell_type": "code",
   "execution_count": 458,
   "id": "163f49c8",
   "metadata": {},
   "outputs": [],
   "source": [
    "# encoding the predictor variables\n",
    "X_encoding = pd.get_dummies(data_lc.drop(columns='loan_status'), drop_first = True)"
   ]
  },
  {
   "cell_type": "code",
   "execution_count": 459,
   "id": "0c6b2e18",
   "metadata": {},
   "outputs": [],
   "source": [
    "X1_train, X1_test, y1_train, y1_test = train_test_split(X_encoding, y, random_state = 21)"
   ]
  },
  {
   "cell_type": "code",
   "execution_count": 460,
   "id": "59acda89",
   "metadata": {},
   "outputs": [],
   "source": [
    "scaler = StandardScaler()"
   ]
  },
  {
   "cell_type": "code",
   "execution_count": 461,
   "id": "f43e0286",
   "metadata": {},
   "outputs": [],
   "source": [
    "# scale the data\n",
    "X_tr_sc = scaler.fit_transform(X1_train) "
   ]
  },
  {
   "cell_type": "code",
   "execution_count": 462,
   "id": "0f58aed9",
   "metadata": {},
   "outputs": [],
   "source": [
    "# transform test data\n",
    "X_te_sc = scaler.transform(X1_test)"
   ]
  },
  {
   "cell_type": "code",
   "execution_count": 463,
   "id": "8f1c1b0b",
   "metadata": {},
   "outputs": [],
   "source": [
    "from sklearn.decomposition import PCA\n",
    "pca = PCA(n_components=9)"
   ]
  },
  {
   "cell_type": "code",
   "execution_count": 464,
   "id": "74e66061",
   "metadata": {},
   "outputs": [],
   "source": [
    "# fit and transform the training data\n",
    "X_tr_pca = pca.fit_transform(X_tr_sc)"
   ]
  },
  {
   "cell_type": "code",
   "execution_count": 465,
   "id": "4943178a",
   "metadata": {},
   "outputs": [],
   "source": [
    "# transform the test data\n",
    "X_te_pca = pca.transform(X_te_sc)"
   ]
  },
  {
   "cell_type": "code",
   "execution_count": 466,
   "id": "f4721227",
   "metadata": {},
   "outputs": [],
   "source": [
    "NewRFModel4 = RandomForestClassifier(random_state = 123)\n",
    "\n",
    "# Model and fit\n",
    "NewRFModel4.fit(X_tr_pca, y1_train)\n",
    "y_pre = NewRFModel4.predict(X_te_pca)"
   ]
  },
  {
   "cell_type": "code",
   "execution_count": 467,
   "id": "476a0a0d",
   "metadata": {},
   "outputs": [
    {
     "name": "stdout",
     "output_type": "stream",
     "text": [
      "              precision    recall  f1-score   support\n",
      "\n",
      "           0      0.906     0.795     0.847     58767\n",
      "           1      0.951     0.980     0.965    238340\n",
      "\n",
      "    accuracy                          0.943    297107\n",
      "   macro avg      0.929     0.888     0.906    297107\n",
      "weighted avg      0.942     0.943     0.942    297107\n",
      "\n"
     ]
    }
   ],
   "source": [
    "print(classification_report(y1_test, y_pre, digits=3))"
   ]
  },
  {
   "cell_type": "code",
   "execution_count": 468,
   "id": "7f759027",
   "metadata": {},
   "outputs": [],
   "source": [
    "classification_report_8 = classification_report(y1_test, y_pre, digits=3, output_dict=True)"
   ]
  },
  {
   "cell_type": "code",
   "execution_count": 469,
   "id": "fbe02298",
   "metadata": {},
   "outputs": [],
   "source": [
    "report_8 = pd.DataFrame(classification_report_8)"
   ]
  },
  {
   "cell_type": "code",
   "execution_count": 470,
   "id": "44d2a9bf",
   "metadata": {},
   "outputs": [],
   "source": [
    "f1_score_value = [report_7.loc['f1-score','0'], report_7.loc['f1-score','1'], report_8.loc['f1-score','0'], \n",
    "                  report_8.loc['f1-score','1']]"
   ]
  },
  {
   "cell_type": "code",
   "execution_count": 471,
   "id": "3fb3dc99",
   "metadata": {},
   "outputs": [],
   "source": [
    "f1_score_df =pd.DataFrame({'loan_status':[0,1,0,1], 'Model':['RandmFrst w/ 8 features', 'RandmFrst w/ 8 features', \n",
    "                                'RandmFrst w/ 9 PCs', 'RandmFrst w/ 9 PCs'], 'f1_score':f1_score_value})"
   ]
  },
  {
   "cell_type": "code",
   "execution_count": 472,
   "id": "c81dc9d1",
   "metadata": {},
   "outputs": [
    {
     "data": {
      "image/png": "[encoded data removed]",
      "text/plain": [
       "<Figure size 614.1x360 with 1 Axes>"
      ]
     },
     "metadata": {
      "needs_background": "light"
     },
     "output_type": "display_data"
    }
   ],
   "source": [
    "sns.catplot(x='loan_status', y='f1_score', data=f1_score_df, hue='Model', kind='bar')\n",
    "plt.ylim(0.8, 1.0)\n",
    "plt.grid(True)\n",
    "plt.show()"
   ]
  },
  {
   "cell_type": "markdown",
   "id": "647e84f8",
   "metadata": {},
   "source": [
    "Result shows that the random forest gives a bad score in predicting default loans. So we will not use it in our final model. "
   ]
  },
  {
   "cell_type": "markdown",
   "id": "f0c8e9a8",
   "metadata": {},
   "source": [
    "# 3. Conclusion and Write Data to File"
   ]
  },
  {
   "cell_type": "code",
   "execution_count": 473,
   "id": "1b17ca51",
   "metadata": {},
   "outputs": [],
   "source": [
    "cols_for_model_final = ['last_fico_range_low', 'recoveries', 'last_pymnt_amnt', 'int_rate', 'term', 'loan_status',\n",
    "                  'debt_settlement_flag', 'fico_range_high', 'total_rec_late_fee']"
   ]
  },
  {
   "cell_type": "code",
   "execution_count": 474,
   "id": "5a16eb3b",
   "metadata": {},
   "outputs": [],
   "source": [
    "# write balanced data to file.\n",
    "file_name = '../Data/lending_club_data_balanced.csv'\n",
    "data_balanced[cols_for_model_final].to_csv(file_name, index=False)"
   ]
  },
  {
   "cell_type": "markdown",
   "id": "4e29676e",
   "metadata": {},
   "source": [
    "## Final Conclusion: In this study, first we balanced the data by dropping 60% of data points of fully paid loans. Then we run a few models and evaluate their performances. We also test the data scaling and PCA. Both the scaling and PCA do not give a satisfying result so we will not use them in the final model. We have selected eight features for our final modeling. "
   ]
  }
 ],
 "metadata": {
  "kernelspec": {
   "display_name": "Python 3",
   "language": "python",
   "name": "python3"
  },
  "language_info": {
   "codemirror_mode": {
    "name": "ipython",
    "version": 3
   },
   "file_extension": ".py",
   "mimetype": "text/x-python",
   "name": "python",
   "nbconvert_exporter": "python",
   "pygments_lexer": "ipython3",
   "version": "3.8.8"
  }
 },
 "nbformat": 4,
 "nbformat_minor": 5
}
