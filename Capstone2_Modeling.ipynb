{
 "cells": [
  {
   "cell_type": "markdown",
   "id": "af06e32c",
   "metadata": {},
   "source": [
    "### This is the final part of this loan default prediction study. In this part of study, we will try a few models, tune hyperparameters on each of them, and select the one with the best performance as our final model for this case. We will also print the result."
   ]
  },
  {
   "cell_type": "markdown",
   "id": "8c1c69e8",
   "metadata": {},
   "source": [
    "## Content:\n",
    "### 1. Data Preparation \n",
    "### 2. K nearest neighbors\n",
    "#### 2.1 Grid Search Cross Validation for k value\n",
    "#### 2.2 K Nearest Neighbors with best k\n",
    "### 3. Decision Tree\n",
    "#### 3.1 Try entrooy and gini as criteria\n",
    "#### 3.2 Decision Tree with gini \n",
    "### 4. Logistic Regression\n",
    "#### 4.1 Try different C value\n",
    "#### 4.2 Logistic Regression and results\n",
    "### 5. Random Forest Classifier\n",
    "#### 5.1 Grid Search cross validation for n_estimators\n",
    "#### 5.2 Try random forest and see the results\n",
    "### 6. Random Forest on dataset with more points on default loans"
   ]
  },
  {
   "cell_type": "markdown",
   "id": "b80a70da",
   "metadata": {},
   "source": [
    "## 1. Data Preparation"
   ]
  },
  {
   "cell_type": "markdown",
   "id": "61bf2036",
   "metadata": {},
   "source": [
    "First let's import all necessary modules."
   ]
  },
  {
   "cell_type": "code",
   "execution_count": 347,
   "id": "052d62ca",
   "metadata": {},
   "outputs": [],
   "source": [
    "import pandas as pd\n",
    "import numpy as np\n",
    "import matplotlib.pyplot as plt\n",
    "import seaborn as sns"
   ]
  },
  {
   "cell_type": "code",
   "execution_count": 348,
   "id": "32521c20",
   "metadata": {},
   "outputs": [],
   "source": [
    "from sklearn.ensemble import RandomForestClassifier\n",
    "from sklearn.neighbors import KNeighborsClassifier\n",
    "from sklearn.model_selection import train_test_split \n",
    "from sklearn.metrics import classification_report\n",
    "from sklearn.metrics import confusion_matrix\n",
    "from sklearn.linear_model import LogisticRegression\n",
    "from sklearn.metrics import roc_curve\n",
    "from sklearn.metrics import roc_auc_score\n",
    "from sklearn.model_selection import cross_val_score\n",
    "from sklearn.model_selection import GridSearchCV\n",
    "from sklearn import tree, metrics"
   ]
  },
  {
   "cell_type": "code",
   "execution_count": 349,
   "id": "0173de95",
   "metadata": {},
   "outputs": [],
   "source": [
    "# read data.\n",
    "data_lc = pd.read_csv('..\\Data\\lending_club_data_balanced.csv')"
   ]
  },
  {
   "cell_type": "code",
   "execution_count": 350,
   "id": "699dcef1",
   "metadata": {},
   "outputs": [
    {
     "data": {
      "text/html": [
       "<div>\n",
       "<style scoped>\n",
       "    .dataframe tbody tr th:only-of-type {\n",
       "        vertical-align: middle;\n",
       "    }\n",
       "\n",
       "    .dataframe tbody tr th {\n",
       "        vertical-align: top;\n",
       "    }\n",
       "\n",
       "    .dataframe thead th {\n",
       "        text-align: right;\n",
       "    }\n",
       "</style>\n",
       "<table border=\"1\" class=\"dataframe\">\n",
       "  <thead>\n",
       "    <tr style=\"text-align: right;\">\n",
       "      <th></th>\n",
       "      <th>last_fico_range_low</th>\n",
       "      <th>recoveries</th>\n",
       "      <th>last_pymnt_amnt</th>\n",
       "      <th>int_rate</th>\n",
       "      <th>term</th>\n",
       "      <th>loan_status</th>\n",
       "      <th>debt_settlement_flag</th>\n",
       "      <th>fico_range_high</th>\n",
       "      <th>total_rec_late_fee</th>\n",
       "    </tr>\n",
       "  </thead>\n",
       "  <tbody>\n",
       "    <tr>\n",
       "      <th>0</th>\n",
       "      <td>580.0</td>\n",
       "      <td>1618.90</td>\n",
       "      <td>471.70</td>\n",
       "      <td>19.48</td>\n",
       "      <td>60 months</td>\n",
       "      <td>0</td>\n",
       "      <td>N</td>\n",
       "      <td>669.0</td>\n",
       "      <td>0.00</td>\n",
       "    </tr>\n",
       "    <tr>\n",
       "      <th>1</th>\n",
       "      <td>0.0</td>\n",
       "      <td>368.37</td>\n",
       "      <td>146.16</td>\n",
       "      <td>14.85</td>\n",
       "      <td>36 months</td>\n",
       "      <td>0</td>\n",
       "      <td>N</td>\n",
       "      <td>729.0</td>\n",
       "      <td>0.00</td>\n",
       "    </tr>\n",
       "    <tr>\n",
       "      <th>2</th>\n",
       "      <td>625.0</td>\n",
       "      <td>0.00</td>\n",
       "      <td>565.09</td>\n",
       "      <td>12.88</td>\n",
       "      <td>36 months</td>\n",
       "      <td>0</td>\n",
       "      <td>N</td>\n",
       "      <td>679.0</td>\n",
       "      <td>161.46</td>\n",
       "    </tr>\n",
       "    <tr>\n",
       "      <th>3</th>\n",
       "      <td>0.0</td>\n",
       "      <td>0.00</td>\n",
       "      <td>701.01</td>\n",
       "      <td>24.24</td>\n",
       "      <td>60 months</td>\n",
       "      <td>0</td>\n",
       "      <td>N</td>\n",
       "      <td>664.0</td>\n",
       "      <td>0.00</td>\n",
       "    </tr>\n",
       "    <tr>\n",
       "      <th>4</th>\n",
       "      <td>600.0</td>\n",
       "      <td>0.00</td>\n",
       "      <td>581.58</td>\n",
       "      <td>13.99</td>\n",
       "      <td>60 months</td>\n",
       "      <td>0</td>\n",
       "      <td>N</td>\n",
       "      <td>734.0</td>\n",
       "      <td>0.00</td>\n",
       "    </tr>\n",
       "  </tbody>\n",
       "</table>\n",
       "</div>"
      ],
      "text/plain": [
       "   last_fico_range_low  recoveries  last_pymnt_amnt  int_rate        term  \\\n",
       "0                580.0     1618.90           471.70     19.48   60 months   \n",
       "1                  0.0      368.37           146.16     14.85   36 months   \n",
       "2                625.0        0.00           565.09     12.88   36 months   \n",
       "3                  0.0        0.00           701.01     24.24   60 months   \n",
       "4                600.0        0.00           581.58     13.99   60 months   \n",
       "\n",
       "   loan_status debt_settlement_flag  fico_range_high  total_rec_late_fee  \n",
       "0            0                    N            669.0                0.00  \n",
       "1            0                    N            729.0                0.00  \n",
       "2            0                    N            679.0              161.46  \n",
       "3            0                    N            664.0                0.00  \n",
       "4            0                    N            734.0                0.00  "
      ]
     },
     "execution_count": 350,
     "metadata": {},
     "output_type": "execute_result"
    }
   ],
   "source": [
    "data_lc.head()"
   ]
  },
  {
   "cell_type": "code",
   "execution_count": 351,
   "id": "c51c3739",
   "metadata": {},
   "outputs": [
    {
     "data": {
      "text/plain": [
       "(616298, 9)"
      ]
     },
     "execution_count": 351,
     "metadata": {},
     "output_type": "execute_result"
    }
   ],
   "source": [
    "data_lc.shape"
   ]
  },
  {
   "cell_type": "markdown",
   "id": "056e6339",
   "metadata": {},
   "source": [
    "This dataset has totally 9 variables (columns), including one target variable ('loan_status') and 8 predictor variables."
   ]
  },
  {
   "cell_type": "code",
   "execution_count": 352,
   "id": "5e7934df",
   "metadata": {},
   "outputs": [],
   "source": [
    "# create target variable array.\n",
    "y = data_lc['loan_status']"
   ]
  },
  {
   "cell_type": "code",
   "execution_count": 353,
   "id": "4f790082",
   "metadata": {},
   "outputs": [],
   "source": [
    "# create predictor variables array.\n",
    "X = data_lc.drop(columns = 'loan_status')"
   ]
  },
  {
   "cell_type": "code",
   "execution_count": 354,
   "id": "26ab92b8",
   "metadata": {},
   "outputs": [],
   "source": [
    "# encode predictor variables.\n",
    "X = pd.get_dummies(X, drop_first = True)"
   ]
  },
  {
   "cell_type": "code",
   "execution_count": 355,
   "id": "6be93b69",
   "metadata": {},
   "outputs": [
    {
     "data": {
      "text/html": [
       "<div>\n",
       "<style scoped>\n",
       "    .dataframe tbody tr th:only-of-type {\n",
       "        vertical-align: middle;\n",
       "    }\n",
       "\n",
       "    .dataframe tbody tr th {\n",
       "        vertical-align: top;\n",
       "    }\n",
       "\n",
       "    .dataframe thead th {\n",
       "        text-align: right;\n",
       "    }\n",
       "</style>\n",
       "<table border=\"1\" class=\"dataframe\">\n",
       "  <thead>\n",
       "    <tr style=\"text-align: right;\">\n",
       "      <th></th>\n",
       "      <th>last_fico_range_low</th>\n",
       "      <th>recoveries</th>\n",
       "      <th>last_pymnt_amnt</th>\n",
       "      <th>int_rate</th>\n",
       "      <th>fico_range_high</th>\n",
       "      <th>total_rec_late_fee</th>\n",
       "      <th>term_ 60 months</th>\n",
       "      <th>debt_settlement_flag_Y</th>\n",
       "    </tr>\n",
       "  </thead>\n",
       "  <tbody>\n",
       "    <tr>\n",
       "      <th>0</th>\n",
       "      <td>580.0</td>\n",
       "      <td>1618.90</td>\n",
       "      <td>471.70</td>\n",
       "      <td>19.48</td>\n",
       "      <td>669.0</td>\n",
       "      <td>0.00</td>\n",
       "      <td>1</td>\n",
       "      <td>0</td>\n",
       "    </tr>\n",
       "    <tr>\n",
       "      <th>1</th>\n",
       "      <td>0.0</td>\n",
       "      <td>368.37</td>\n",
       "      <td>146.16</td>\n",
       "      <td>14.85</td>\n",
       "      <td>729.0</td>\n",
       "      <td>0.00</td>\n",
       "      <td>0</td>\n",
       "      <td>0</td>\n",
       "    </tr>\n",
       "    <tr>\n",
       "      <th>2</th>\n",
       "      <td>625.0</td>\n",
       "      <td>0.00</td>\n",
       "      <td>565.09</td>\n",
       "      <td>12.88</td>\n",
       "      <td>679.0</td>\n",
       "      <td>161.46</td>\n",
       "      <td>0</td>\n",
       "      <td>0</td>\n",
       "    </tr>\n",
       "    <tr>\n",
       "      <th>3</th>\n",
       "      <td>0.0</td>\n",
       "      <td>0.00</td>\n",
       "      <td>701.01</td>\n",
       "      <td>24.24</td>\n",
       "      <td>664.0</td>\n",
       "      <td>0.00</td>\n",
       "      <td>1</td>\n",
       "      <td>0</td>\n",
       "    </tr>\n",
       "    <tr>\n",
       "      <th>4</th>\n",
       "      <td>600.0</td>\n",
       "      <td>0.00</td>\n",
       "      <td>581.58</td>\n",
       "      <td>13.99</td>\n",
       "      <td>734.0</td>\n",
       "      <td>0.00</td>\n",
       "      <td>1</td>\n",
       "      <td>0</td>\n",
       "    </tr>\n",
       "  </tbody>\n",
       "</table>\n",
       "</div>"
      ],
      "text/plain": [
       "   last_fico_range_low  recoveries  last_pymnt_amnt  int_rate  \\\n",
       "0                580.0     1618.90           471.70     19.48   \n",
       "1                  0.0      368.37           146.16     14.85   \n",
       "2                625.0        0.00           565.09     12.88   \n",
       "3                  0.0        0.00           701.01     24.24   \n",
       "4                600.0        0.00           581.58     13.99   \n",
       "\n",
       "   fico_range_high  total_rec_late_fee  term_ 60 months  \\\n",
       "0            669.0                0.00                1   \n",
       "1            729.0                0.00                0   \n",
       "2            679.0              161.46                0   \n",
       "3            664.0                0.00                1   \n",
       "4            734.0                0.00                1   \n",
       "\n",
       "   debt_settlement_flag_Y  \n",
       "0                       0  \n",
       "1                       0  \n",
       "2                       0  \n",
       "3                       0  \n",
       "4                       0  "
      ]
     },
     "execution_count": 355,
     "metadata": {},
     "output_type": "execute_result"
    }
   ],
   "source": [
    "X.head()"
   ]
  },
  {
   "cell_type": "code",
   "execution_count": 356,
   "id": "08e4af7a",
   "metadata": {},
   "outputs": [],
   "source": [
    "# split the data into train and test.\n",
    "X_train, X_test, y_train, y_test = train_test_split(X, y, random_state = 101)"
   ]
  },
  {
   "cell_type": "markdown",
   "id": "985b7ecf",
   "metadata": {},
   "source": [
    "Let's try a few models."
   ]
  },
  {
   "cell_type": "markdown",
   "id": "76a550a6",
   "metadata": {},
   "source": [
    "### 2. K nearest neighbors\n",
    "#### 2.1 Grid Search Cross Validation for k value"
   ]
  },
  {
   "cell_type": "markdown",
   "id": "3b74d2dd",
   "metadata": {},
   "source": [
    "Let's first use grid search cross validation to get the best K value (n_neighbors)."
   ]
  },
  {
   "cell_type": "code",
   "execution_count": 357,
   "id": "de9b07a5",
   "metadata": {},
   "outputs": [],
   "source": [
    "param_grid = {'n_neighbors': np.arange(3,12,2)}"
   ]
  },
  {
   "cell_type": "code",
   "execution_count": 358,
   "id": "e4147a21",
   "metadata": {},
   "outputs": [],
   "source": [
    "knn = KNeighborsClassifier()"
   ]
  },
  {
   "cell_type": "code",
   "execution_count": 359,
   "id": "69f24319",
   "metadata": {},
   "outputs": [],
   "source": [
    "knn_cv = GridSearchCV(knn, param_grid, cv=5)"
   ]
  },
  {
   "cell_type": "code",
   "execution_count": 360,
   "id": "524a8915",
   "metadata": {},
   "outputs": [
    {
     "data": {
      "text/plain": [
       "GridSearchCV(cv=5, estimator=KNeighborsClassifier(),\n",
       "             param_grid={'n_neighbors': array([ 3,  5,  7,  9, 11])})"
      ]
     },
     "execution_count": 360,
     "metadata": {},
     "output_type": "execute_result"
    }
   ],
   "source": [
    "knn_cv.fit(X, y)"
   ]
  },
  {
   "cell_type": "code",
   "execution_count": 361,
   "id": "940919a4",
   "metadata": {},
   "outputs": [
    {
     "data": {
      "text/plain": [
       "{'n_neighbors': 11}"
      ]
     },
     "execution_count": 361,
     "metadata": {},
     "output_type": "execute_result"
    }
   ],
   "source": [
    "knn_cv.best_params_"
   ]
  },
  {
   "cell_type": "code",
   "execution_count": 362,
   "id": "bb99bee7",
   "metadata": {},
   "outputs": [
    {
     "data": {
      "text/plain": [
       "0.9588186097142242"
      ]
     },
     "execution_count": 362,
     "metadata": {},
     "output_type": "execute_result"
    }
   ],
   "source": [
    "knn_cv.best_score_"
   ]
  },
  {
   "cell_type": "markdown",
   "id": "2bd30eaf",
   "metadata": {},
   "source": [
    "Result shows that the best K value is 11. So let's use this value to see the KNN model prediction performance."
   ]
  },
  {
   "cell_type": "markdown",
   "id": "c8e02e0f",
   "metadata": {},
   "source": [
    "#### 2.2 K Nearest Neighbors with best k"
   ]
  },
  {
   "cell_type": "code",
   "execution_count": 388,
   "id": "ebe6bc53",
   "metadata": {},
   "outputs": [],
   "source": [
    "knn_best = KNeighborsClassifier(n_neighbors=11)"
   ]
  },
  {
   "cell_type": "code",
   "execution_count": 389,
   "id": "e8b23506",
   "metadata": {},
   "outputs": [
    {
     "data": {
      "text/plain": [
       "KNeighborsClassifier(n_neighbors=11)"
      ]
     },
     "execution_count": 389,
     "metadata": {},
     "output_type": "execute_result"
    }
   ],
   "source": [
    "knn_best.fit(X_train, y_train)"
   ]
  },
  {
   "cell_type": "code",
   "execution_count": 390,
   "id": "b5ac5442",
   "metadata": {},
   "outputs": [],
   "source": [
    "y_pred_knn = knn_best.predict(X_test)"
   ]
  },
  {
   "cell_type": "code",
   "execution_count": 391,
   "id": "8bf5d2c9",
   "metadata": {},
   "outputs": [],
   "source": [
    "score_1 = knn_best.score(X_test, y_test)"
   ]
  },
  {
   "cell_type": "code",
   "execution_count": 392,
   "id": "d709850a",
   "metadata": {},
   "outputs": [
    {
     "data": {
      "text/plain": [
       "0.9587019308778193"
      ]
     },
     "execution_count": 392,
     "metadata": {},
     "output_type": "execute_result"
    }
   ],
   "source": [
    "score_1"
   ]
  },
  {
   "cell_type": "code",
   "execution_count": 393,
   "id": "3529df52",
   "metadata": {},
   "outputs": [
    {
     "data": {
      "text/plain": [
       "array([[55537,  3143],\n",
       "       [ 3220, 92175]], dtype=int64)"
      ]
     },
     "execution_count": 393,
     "metadata": {},
     "output_type": "execute_result"
    }
   ],
   "source": [
    "confusion_matrix(y_test, y_pred_knn)"
   ]
  },
  {
   "cell_type": "code",
   "execution_count": 394,
   "id": "31381c82",
   "metadata": {},
   "outputs": [
    {
     "name": "stdout",
     "output_type": "stream",
     "text": [
      "              precision    recall  f1-score   support\n",
      "\n",
      "           0      0.945     0.946     0.946     58680\n",
      "           1      0.967     0.966     0.967     95395\n",
      "\n",
      "    accuracy                          0.959    154075\n",
      "   macro avg      0.956     0.956     0.956    154075\n",
      "weighted avg      0.959     0.959     0.959    154075\n",
      "\n"
     ]
    }
   ],
   "source": [
    "print(classification_report(y_test, y_pred_knn, digits = 3))"
   ]
  },
  {
   "cell_type": "code",
   "execution_count": 395,
   "id": "63c4c1ff",
   "metadata": {},
   "outputs": [],
   "source": [
    "classification_report_1 = classification_report(y_test, y_pred_knn, digits = 3, output_dict=True)"
   ]
  },
  {
   "cell_type": "markdown",
   "id": "2b8751b3",
   "metadata": {},
   "source": [
    "This is our first model. We will use its result to compare other models. "
   ]
  },
  {
   "cell_type": "markdown",
   "id": "1a5c1f90",
   "metadata": {},
   "source": [
    "### 3. DecisionTree"
   ]
  },
  {
   "cell_type": "markdown",
   "id": "4c21a0f7",
   "metadata": {},
   "source": [
    "Let's then have a look on the decision tree model. For this model there are two main criteria (for measuring the quality of a split), which are entropy and gini. Let's try both and see their each performance."
   ]
  },
  {
   "cell_type": "markdown",
   "id": "528f5d5c",
   "metadata": {},
   "source": [
    "#### 3.1 Try entrooy and gini as criteria"
   ]
  },
  {
   "cell_type": "code",
   "execution_count": 371,
   "id": "1135a78f",
   "metadata": {},
   "outputs": [],
   "source": [
    "# first try on the entropy model.\n",
    "entr_model = tree.DecisionTreeClassifier(criterion='entropy', random_state=1234)\n",
    "\n",
    "# Call fit() on entr_model\n",
    "entr_model.fit(X_train, y_train)\n",
    "\n",
    "# Call predict() on entr_model with X_test passed to it, and assign the result to a variable y_pred \n",
    "y_pred_entr = entr_model.predict(X_test)"
   ]
  },
  {
   "cell_type": "code",
   "execution_count": 372,
   "id": "f327b002",
   "metadata": {},
   "outputs": [
    {
     "data": {
      "text/plain": [
       "0.9565925685542755"
      ]
     },
     "execution_count": 372,
     "metadata": {},
     "output_type": "execute_result"
    }
   ],
   "source": [
    "entr_model.score(X_test, y_test)"
   ]
  },
  {
   "cell_type": "code",
   "execution_count": 373,
   "id": "4fcbd850",
   "metadata": {},
   "outputs": [
    {
     "name": "stdout",
     "output_type": "stream",
     "text": [
      "[[55414  3266]\n",
      " [ 3422 91973]]\n"
     ]
    }
   ],
   "source": [
    "print(confusion_matrix(y_test, y_pred_entr))"
   ]
  },
  {
   "cell_type": "code",
   "execution_count": 374,
   "id": "ee400b63",
   "metadata": {},
   "outputs": [],
   "source": [
    "# then try the gini model\n",
    "gini_model = tree.DecisionTreeClassifier(criterion='gini', random_state=1234)\n",
    "\n",
    "# Call fit() on entr_model\n",
    "gini_model.fit(X_train, y_train)\n",
    "\n",
    "# Call predict() on entr_model with X_test passed to it, and assign the result to a variable y_pred \n",
    "y_pred_gini = gini_model.predict(X_test)"
   ]
  },
  {
   "cell_type": "code",
   "execution_count": 375,
   "id": "7f63bf3d",
   "metadata": {},
   "outputs": [
    {
     "data": {
      "text/plain": [
       "0.9562096381632322"
      ]
     },
     "execution_count": 375,
     "metadata": {},
     "output_type": "execute_result"
    }
   ],
   "source": [
    "gini_model.score(X_test, y_test)"
   ]
  },
  {
   "cell_type": "code",
   "execution_count": 376,
   "id": "f82fad7e",
   "metadata": {},
   "outputs": [
    {
     "name": "stdout",
     "output_type": "stream",
     "text": [
      "[[55428  3252]\n",
      " [ 3495 91900]]\n"
     ]
    }
   ],
   "source": [
    "print(confusion_matrix(y_test, y_pred_gini))"
   ]
  },
  {
   "cell_type": "markdown",
   "id": "2d575bad",
   "metadata": {},
   "source": [
    "By comparing the two confusion matrix, we can see that their performance is very close. Since the main purpose of this study is to detect potential default loan (loan_status = 0), We will select the one which make less misclassification on data points that loan_status = 0. The entropy model made 3266 misclassifcation, and the gini model made 3252. So we can say that the gini model is (slightly) better than the entropy model. "
   ]
  },
  {
   "cell_type": "markdown",
   "id": "fb972295",
   "metadata": {},
   "source": [
    "#### 3.2 Decision Tree with gini "
   ]
  },
  {
   "cell_type": "code",
   "execution_count": 377,
   "id": "addc6a23",
   "metadata": {},
   "outputs": [],
   "source": [
    "score_2 = gini_model.score(X_test, y_test)"
   ]
  },
  {
   "cell_type": "code",
   "execution_count": 378,
   "id": "45b265aa",
   "metadata": {},
   "outputs": [],
   "source": [
    "classification_report_2 = classification_report(y_test, y_pred_gini, digits=3, output_dict=True)"
   ]
  },
  {
   "cell_type": "code",
   "execution_count": 379,
   "id": "806e2f90",
   "metadata": {},
   "outputs": [
    {
     "name": "stdout",
     "output_type": "stream",
     "text": [
      "KNN score: 0.958   Decision Tree score: 0.956\n"
     ]
    }
   ],
   "source": [
    "print('KNN score:', round(score_1, 3), '  Decision Tree score:', round(score_2,3))"
   ]
  },
  {
   "cell_type": "code",
   "execution_count": 380,
   "id": "fec7669b",
   "metadata": {},
   "outputs": [],
   "source": [
    "plt.rc('font', size=20)"
   ]
  },
  {
   "cell_type": "code",
   "execution_count": 381,
   "id": "449c2642",
   "metadata": {},
   "outputs": [
    {
     "data": {
      "image/png": "[encoded data removed]",
      "text/plain": [
       "<Figure size 432x288 with 1 Axes>"
      ]
     },
     "metadata": {
      "needs_background": "light"
     },
     "output_type": "display_data"
    }
   ],
   "source": [
    "# plot the two scores in one plot \n",
    "plt.bar(['KNN','DecisionTree'], [score_1, score_2], color=['r', 'b'])\n",
    "plt.ylim(0.9, 1.0)\n",
    "plt.grid(True)\n",
    "plt.ylabel('Score')\n",
    "plt.title('Comparasion of Prediction Score\\n on KNN and DecisionTree ')\n",
    "plt.show()"
   ]
  },
  {
   "cell_type": "markdown",
   "id": "d9d56691",
   "metadata": {},
   "source": [
    "Now let's create one dataframe to show the f1 score under different model for loan_status = 0 and = 1 respectively. We will then plot them in one chart."
   ]
  },
  {
   "cell_type": "code",
   "execution_count": 382,
   "id": "e0d24f3f",
   "metadata": {},
   "outputs": [],
   "source": [
    "report_1 = pd.DataFrame(classification_report_1)"
   ]
  },
  {
   "cell_type": "code",
   "execution_count": 383,
   "id": "4107ba85",
   "metadata": {},
   "outputs": [],
   "source": [
    "report_2 = pd.DataFrame(classification_report_2)"
   ]
  },
  {
   "cell_type": "code",
   "execution_count": 384,
   "id": "98dffe34",
   "metadata": {},
   "outputs": [],
   "source": [
    "f1_score_value = [report_1.loc['f1-score','0'], report_1.loc['f1-score','1'], \n",
    "                  report_2.loc['f1-score','0'], report_2.loc['f1-score','1']]"
   ]
  },
  {
   "cell_type": "code",
   "execution_count": 385,
   "id": "534cafb6",
   "metadata": {},
   "outputs": [],
   "source": [
    "f1_score_df =pd.DataFrame({'loan_status':[0,1,0,1], 'Model':['KNN', 'KNN', 'DecisionTree', 'DecisionTree'], \n",
    "                           'f1_score':f1_score_value})"
   ]
  },
  {
   "cell_type": "code",
   "execution_count": 386,
   "id": "4c494bf8",
   "metadata": {},
   "outputs": [
    {
     "data": {
      "text/html": [
       "<div>\n",
       "<style scoped>\n",
       "    .dataframe tbody tr th:only-of-type {\n",
       "        vertical-align: middle;\n",
       "    }\n",
       "\n",
       "    .dataframe tbody tr th {\n",
       "        vertical-align: top;\n",
       "    }\n",
       "\n",
       "    .dataframe thead th {\n",
       "        text-align: right;\n",
       "    }\n",
       "</style>\n",
       "<table border=\"1\" class=\"dataframe\">\n",
       "  <thead>\n",
       "    <tr style=\"text-align: right;\">\n",
       "      <th></th>\n",
       "      <th>loan_status</th>\n",
       "      <th>Model</th>\n",
       "      <th>f1_score</th>\n",
       "    </tr>\n",
       "  </thead>\n",
       "  <tbody>\n",
       "    <tr>\n",
       "      <th>0</th>\n",
       "      <td>0</td>\n",
       "      <td>KNN</td>\n",
       "      <td>0.945143</td>\n",
       "    </tr>\n",
       "    <tr>\n",
       "      <th>1</th>\n",
       "      <td>1</td>\n",
       "      <td>KNN</td>\n",
       "      <td>0.966231</td>\n",
       "    </tr>\n",
       "    <tr>\n",
       "      <th>2</th>\n",
       "      <td>0</td>\n",
       "      <td>DecisionTree</td>\n",
       "      <td>0.942629</td>\n",
       "    </tr>\n",
       "    <tr>\n",
       "      <th>3</th>\n",
       "      <td>1</td>\n",
       "      <td>DecisionTree</td>\n",
       "      <td>0.964591</td>\n",
       "    </tr>\n",
       "  </tbody>\n",
       "</table>\n",
       "</div>"
      ],
      "text/plain": [
       "   loan_status         Model  f1_score\n",
       "0            0           KNN  0.945143\n",
       "1            1           KNN  0.966231\n",
       "2            0  DecisionTree  0.942629\n",
       "3            1  DecisionTree  0.964591"
      ]
     },
     "execution_count": 386,
     "metadata": {},
     "output_type": "execute_result"
    }
   ],
   "source": [
    "f1_score_df"
   ]
  },
  {
   "cell_type": "code",
   "execution_count": 396,
   "id": "e14b28ae",
   "metadata": {},
   "outputs": [
    {
     "data": {
      "image/png": "[encoded data removed]",
      "text/plain": [
       "<Figure size 559.125x360 with 1 Axes>"
      ]
     },
     "metadata": {
      "needs_background": "light"
     },
     "output_type": "display_data"
    }
   ],
   "source": [
    "# Plot f1 score under different models and different loan status value.\n",
    "sns.catplot(x='loan_status', y='f1_score', data=f1_score_df, hue='Model', kind='bar')\n",
    "plt.ylim(0.9, 1.0)\n",
    "plt.xlabel('Loan Status')\n",
    "plt.ylabel('f1 Score')\n",
    "plt.title('Comparasion of f1 Score\\n on KNN and DecisionTree ')\n",
    "plt.grid(True)\n",
    "plt.show()"
   ]
  },
  {
   "cell_type": "markdown",
   "id": "9c2f93b7",
   "metadata": {},
   "source": [
    "From the result shown above, we can see that the Decision Tree model is not as good as the KNN model. So we will still use KNN to compare with other models later."
   ]
  },
  {
   "cell_type": "markdown",
   "id": "cc6f9a07",
   "metadata": {},
   "source": [
    "### 4. Logistic Regression"
   ]
  },
  {
   "cell_type": "markdown",
   "id": "283ea36c",
   "metadata": {},
   "source": [
    "Now let's try the logistic regression. "
   ]
  },
  {
   "cell_type": "markdown",
   "id": "60744965",
   "metadata": {},
   "source": [
    "#### 4.1 Try different C value"
   ]
  },
  {
   "cell_type": "code",
   "execution_count": 397,
   "id": "fb5ac96f",
   "metadata": {},
   "outputs": [
    {
     "name": "stderr",
     "output_type": "stream",
     "text": [
      "C:\\Users\\cheng\\anaconda3\\lib\\site-packages\\sklearn\\linear_model\\_logistic.py:763: ConvergenceWarning: lbfgs failed to converge (status=1):\n",
      "STOP: TOTAL NO. of ITERATIONS REACHED LIMIT.\n",
      "\n",
      "Increase the number of iterations (max_iter) or scale the data as shown in:\n",
      "    https://scikit-learn.org/stable/modules/preprocessing.html\n",
      "Please also refer to the documentation for alternative solver options:\n",
      "    https://scikit-learn.org/stable/modules/linear_model.html#logistic-regression\n",
      "  n_iter_i = _check_optimize_result(\n"
     ]
    },
    {
     "name": "stdout",
     "output_type": "stream",
     "text": [
      "0.01 0.954132727567743\n"
     ]
    },
    {
     "name": "stderr",
     "output_type": "stream",
     "text": [
      "C:\\Users\\cheng\\anaconda3\\lib\\site-packages\\sklearn\\linear_model\\_logistic.py:763: ConvergenceWarning: lbfgs failed to converge (status=1):\n",
      "STOP: TOTAL NO. of ITERATIONS REACHED LIMIT.\n",
      "\n",
      "Increase the number of iterations (max_iter) or scale the data as shown in:\n",
      "    https://scikit-learn.org/stable/modules/preprocessing.html\n",
      "Please also refer to the documentation for alternative solver options:\n",
      "    https://scikit-learn.org/stable/modules/linear_model.html#logistic-regression\n",
      "  n_iter_i = _check_optimize_result(\n"
     ]
    },
    {
     "name": "stdout",
     "output_type": "stream",
     "text": [
      "0.1 0.9540937854940775\n",
      "1 0.9541197468765211\n"
     ]
    },
    {
     "name": "stderr",
     "output_type": "stream",
     "text": [
      "C:\\Users\\cheng\\anaconda3\\lib\\site-packages\\sklearn\\linear_model\\_logistic.py:763: ConvergenceWarning: lbfgs failed to converge (status=1):\n",
      "STOP: TOTAL NO. of ITERATIONS REACHED LIMIT.\n",
      "\n",
      "Increase the number of iterations (max_iter) or scale the data as shown in:\n",
      "    https://scikit-learn.org/stable/modules/preprocessing.html\n",
      "Please also refer to the documentation for alternative solver options:\n",
      "    https://scikit-learn.org/stable/modules/linear_model.html#logistic-regression\n",
      "  n_iter_i = _check_optimize_result(\n"
     ]
    },
    {
     "name": "stdout",
     "output_type": "stream",
     "text": [
      "10 0.9532695116014928\n",
      "100 0.9545675807236735\n"
     ]
    },
    {
     "name": "stderr",
     "output_type": "stream",
     "text": [
      "C:\\Users\\cheng\\anaconda3\\lib\\site-packages\\sklearn\\linear_model\\_logistic.py:763: ConvergenceWarning: lbfgs failed to converge (status=1):\n",
      "STOP: TOTAL NO. of ITERATIONS REACHED LIMIT.\n",
      "\n",
      "Increase the number of iterations (max_iter) or scale the data as shown in:\n",
      "    https://scikit-learn.org/stable/modules/preprocessing.html\n",
      "Please also refer to the documentation for alternative solver options:\n",
      "    https://scikit-learn.org/stable/modules/linear_model.html#logistic-regression\n",
      "  n_iter_i = _check_optimize_result(\n"
     ]
    }
   ],
   "source": [
    "Cs = [ 0.01, 0.1, 1, 10, 100]\n",
    "score_lr = []\n",
    "for c in Cs:\n",
    "    clf = LogisticRegression(C=c)\n",
    "    clf.fit(X_train, y_train)\n",
    "    score_lr.append(clf.score(X_test, y_test))\n",
    "    print(c, clf.score(X_test, y_test))"
   ]
  },
  {
   "cell_type": "code",
   "execution_count": 398,
   "id": "82ff23df",
   "metadata": {},
   "outputs": [
    {
     "name": "stdout",
     "output_type": "stream",
     "text": [
      "[0.954132727567743, 0.9540937854940775, 0.9541197468765211, 0.9532695116014928, 0.9545675807236735]\n"
     ]
    }
   ],
   "source": [
    "print(score_lr)"
   ]
  },
  {
   "cell_type": "markdown",
   "id": "8e47136f",
   "metadata": {},
   "source": [
    "Result shows that the score is not sensitive to C value. So we will just use the default value."
   ]
  },
  {
   "cell_type": "markdown",
   "id": "fe1a618a",
   "metadata": {},
   "source": [
    "#### 4.2 Logistic Regression and results"
   ]
  },
  {
   "cell_type": "markdown",
   "id": "5f04f12e",
   "metadata": {},
   "source": [
    "Let's try the logistic regression and see the results."
   ]
  },
  {
   "cell_type": "code",
   "execution_count": 399,
   "id": "15396d0b",
   "metadata": {},
   "outputs": [],
   "source": [
    "logreg = LogisticRegression()"
   ]
  },
  {
   "cell_type": "code",
   "execution_count": 400,
   "id": "9c641dea",
   "metadata": {},
   "outputs": [
    {
     "data": {
      "text/plain": [
       "LogisticRegression()"
      ]
     },
     "execution_count": 400,
     "metadata": {},
     "output_type": "execute_result"
    }
   ],
   "source": [
    "logreg.fit(X_train, y_train)"
   ]
  },
  {
   "cell_type": "code",
   "execution_count": 401,
   "id": "d6ca7bf0",
   "metadata": {},
   "outputs": [],
   "source": [
    "y_pred_lr = logreg.predict(X_test)"
   ]
  },
  {
   "cell_type": "code",
   "execution_count": 402,
   "id": "a3cfcb9f",
   "metadata": {},
   "outputs": [],
   "source": [
    "score_3 = logreg.score(X_test, y_test)"
   ]
  },
  {
   "cell_type": "code",
   "execution_count": 403,
   "id": "d6dbbc71",
   "metadata": {},
   "outputs": [
    {
     "data": {
      "image/png": "[encoded data removed]",
      "text/plain": [
       "<Figure size 432x288 with 1 Axes>"
      ]
     },
     "metadata": {
      "needs_background": "light"
     },
     "output_type": "display_data"
    }
   ],
   "source": [
    "plt.bar(['KNN','LogisticRegression'], [score_1, score_3], color=['r', 'b'])\n",
    "plt.ylim(0.9, 1.0)\n",
    "plt.grid(True)\n",
    "plt.ylabel('Score')\n",
    "plt.title('Comparasion of Prediction Score\\n on KNN and LogisticRegression')\n",
    "plt.show()"
   ]
  },
  {
   "cell_type": "code",
   "execution_count": 404,
   "id": "22e73786",
   "metadata": {},
   "outputs": [],
   "source": [
    "classification_report_3 = classification_report(y_test, y_pred_lr, digits=3, output_dict=True)"
   ]
  },
  {
   "cell_type": "code",
   "execution_count": 405,
   "id": "0a3d727c",
   "metadata": {},
   "outputs": [],
   "source": [
    "report_3 = pd.DataFrame(classification_report_3)"
   ]
  },
  {
   "cell_type": "code",
   "execution_count": 406,
   "id": "2d49f061",
   "metadata": {},
   "outputs": [],
   "source": [
    "f1_score_value = [report_1.loc['f1-score','0'], report_1.loc['f1-score','1'], \n",
    "                  report_3.loc['f1-score','0'], report_3.loc['f1-score','1']]"
   ]
  },
  {
   "cell_type": "code",
   "execution_count": 407,
   "id": "e3ba0d3b",
   "metadata": {},
   "outputs": [],
   "source": [
    "f1_score_df =pd.DataFrame({'loan_status':[0,1,0,1], 'Model':['KNN', 'KNN', 'LogisticRegression', 'LogisticRegression'], \n",
    "                           'f1_score':f1_score_value})"
   ]
  },
  {
   "cell_type": "code",
   "execution_count": 408,
   "id": "3053b1b8",
   "metadata": {},
   "outputs": [
    {
     "data": {
      "image/png": "[encoded data removed]",
      "text/plain": [
       "<Figure size 617.625x360 with 1 Axes>"
      ]
     },
     "metadata": {
      "needs_background": "light"
     },
     "output_type": "display_data"
    }
   ],
   "source": [
    "sns.catplot(x='loan_status', y='f1_score', data=f1_score_df, hue='Model', kind='bar')\n",
    "plt.ylim(0.9, 1.0)\n",
    "plt.xlabel('Loan Status')\n",
    "plt.ylabel('f1 Score')\n",
    "plt.title('Comparasion of f1 Score\\n on KNN and LogisticRegression')\n",
    "plt.grid(True)\n",
    "plt.show()"
   ]
  },
  {
   "cell_type": "markdown",
   "id": "2ac9d8cc",
   "metadata": {},
   "source": [
    "The logistic regression model runs fast, but the result is not as good as KNN. So the logistic regression model is not selected as our final. "
   ]
  },
  {
   "cell_type": "markdown",
   "id": "612280f1",
   "metadata": {},
   "source": [
    "### 5. Random Forest Classifier"
   ]
  },
  {
   "cell_type": "markdown",
   "id": "227f167c",
   "metadata": {},
   "source": [
    "Next let's try the random forest classifier. For this model the hyperparameter is the n_estimators. Let's tune this hyperparameter first."
   ]
  },
  {
   "cell_type": "markdown",
   "id": "d7f98ec4",
   "metadata": {},
   "source": [
    "#### 5.1 Grid Search cross validation for n_estimators"
   ]
  },
  {
   "cell_type": "code",
   "execution_count": 409,
   "id": "2e1d9225",
   "metadata": {},
   "outputs": [
    {
     "data": {
      "text/plain": [
       "GridSearchCV(cv=5, estimator=RandomForestClassifier(),\n",
       "             param_grid={'n_estimators': array([62, 63, 64, 65, 66])})"
      ]
     },
     "execution_count": 409,
     "metadata": {},
     "output_type": "execute_result"
    }
   ],
   "source": [
    "# I have already change the n_estimators range and run a few times to narrow down the range. This is the last time run.\n",
    "param_grid = {'n_estimators':np.arange(62,67)}\n",
    "rfModel = RandomForestClassifier()\n",
    "rf_cv= GridSearchCV(rfModel,param_grid,cv=5)\n",
    "rf_cv.fit(X_train,y_train)"
   ]
  },
  {
   "cell_type": "code",
   "execution_count": 410,
   "id": "1f05862d",
   "metadata": {},
   "outputs": [
    {
     "data": {
      "text/plain": [
       "{'n_estimators': 63}"
      ]
     },
     "execution_count": 410,
     "metadata": {},
     "output_type": "execute_result"
    }
   ],
   "source": [
    "rf_cv.best_params_"
   ]
  },
  {
   "cell_type": "code",
   "execution_count": 411,
   "id": "e6b76526",
   "metadata": {},
   "outputs": [
    {
     "data": {
      "text/plain": [
       "0.9671219291011255"
      ]
     },
     "execution_count": 411,
     "metadata": {},
     "output_type": "execute_result"
    }
   ],
   "source": [
    "rf_cv.best_score_"
   ]
  },
  {
   "cell_type": "markdown",
   "id": "d70885a8",
   "metadata": {},
   "source": [
    "The best n_estimators is 63. So let's use this value and calculate the score and the classification report. "
   ]
  },
  {
   "cell_type": "markdown",
   "id": "13f6d63b",
   "metadata": {},
   "source": [
    "#### 5.2 Try random forest and see the results"
   ]
  },
  {
   "cell_type": "code",
   "execution_count": 448,
   "id": "281a8356",
   "metadata": {},
   "outputs": [],
   "source": [
    "model_rf = RandomForestClassifier(n_estimators = 63)"
   ]
  },
  {
   "cell_type": "code",
   "execution_count": 449,
   "id": "281e3bac",
   "metadata": {},
   "outputs": [
    {
     "data": {
      "text/plain": [
       "RandomForestClassifier(n_estimators=63)"
      ]
     },
     "execution_count": 449,
     "metadata": {},
     "output_type": "execute_result"
    }
   ],
   "source": [
    "model_rf.fit(X_train, y_train)"
   ]
  },
  {
   "cell_type": "code",
   "execution_count": 450,
   "id": "52b5e0bb",
   "metadata": {},
   "outputs": [],
   "source": [
    "y_pred_rf = model_rf.predict(X_test)"
   ]
  },
  {
   "cell_type": "code",
   "execution_count": 451,
   "id": "712d1cba",
   "metadata": {},
   "outputs": [],
   "source": [
    "score_4 = model_rf.score(X_test, y_test)"
   ]
  },
  {
   "cell_type": "code",
   "execution_count": 452,
   "id": "bdffcf95",
   "metadata": {},
   "outputs": [
    {
     "data": {
      "image/png": "[encoded data removed]",
      "text/plain": [
       "<Figure size 432x288 with 1 Axes>"
      ]
     },
     "metadata": {
      "needs_background": "light"
     },
     "output_type": "display_data"
    }
   ],
   "source": [
    "plt.bar(['KNN','RandomForest'], [score_1, score_4], color=['r', 'b'])\n",
    "plt.ylim(0.9, 1.0)\n",
    "plt.grid(True)\n",
    "plt.ylabel('Score')\n",
    "plt.title('Comparasion of Prediction Score\\n on KNN and RandomForest')\n",
    "plt.show()"
   ]
  },
  {
   "cell_type": "code",
   "execution_count": 453,
   "id": "337f9bbc",
   "metadata": {},
   "outputs": [
    {
     "name": "stdout",
     "output_type": "stream",
     "text": [
      "              precision    recall  f1-score   support\n",
      "\n",
      "           0      0.957     0.957     0.957     58680\n",
      "           1      0.973     0.973     0.973     95395\n",
      "\n",
      "    accuracy                          0.967    154075\n",
      "   macro avg      0.965     0.965     0.965    154075\n",
      "weighted avg      0.967     0.967     0.967    154075\n",
      "\n"
     ]
    }
   ],
   "source": [
    "print(classification_report(y_test, y_pred_rf, digits=3))"
   ]
  },
  {
   "cell_type": "code",
   "execution_count": 454,
   "id": "9d1b6b13",
   "metadata": {},
   "outputs": [],
   "source": [
    "classification_report_4 = classification_report(y_test, y_pred_rf, digits=3, output_dict=True)"
   ]
  },
  {
   "cell_type": "code",
   "execution_count": 455,
   "id": "43789577",
   "metadata": {},
   "outputs": [],
   "source": [
    "report_4 = pd.DataFrame(classification_report_4)"
   ]
  },
  {
   "cell_type": "code",
   "execution_count": 456,
   "id": "d81c5801",
   "metadata": {},
   "outputs": [],
   "source": [
    "f1_score_value = [report_1.loc['f1-score','0'], report_1.loc['f1-score','1'], \n",
    "                  report_4.loc['f1-score','0'], report_4.loc['f1-score','1']]"
   ]
  },
  {
   "cell_type": "code",
   "execution_count": 457,
   "id": "05e28265",
   "metadata": {},
   "outputs": [],
   "source": [
    "f1_score_df =pd.DataFrame({'loan_status':[0,1,0,1], 'Model':['KNN', 'KNN', 'RandomForest', 'RandomForest'], \n",
    "                           'f1_score':f1_score_value})"
   ]
  },
  {
   "cell_type": "code",
   "execution_count": 458,
   "id": "dc4d4d1d",
   "metadata": {},
   "outputs": [
    {
     "data": {
      "image/png": "[encoded data removed]",
      "text/plain": [
       "<Figure size 576.625x360 with 1 Axes>"
      ]
     },
     "metadata": {
      "needs_background": "light"
     },
     "output_type": "display_data"
    }
   ],
   "source": [
    "sns.catplot(x='loan_status', y='f1_score', data=f1_score_df, hue='Model', kind='bar')\n",
    "plt.ylim(0.9, 1.0)\n",
    "plt.xlabel('Loan Status')\n",
    "plt.ylabel('f1 Score')\n",
    "plt.title('Comparasion of f1 Score\\n on KNN and RandomForest ')\n",
    "plt.grid(True)\n",
    "plt.show()"
   ]
  },
  {
   "cell_type": "code",
   "execution_count": 459,
   "id": "b65498ca",
   "metadata": {},
   "outputs": [
    {
     "name": "stdout",
     "output_type": "stream",
     "text": [
      "[[56130  2550]\n",
      " [ 2531 92864]]\n"
     ]
    }
   ],
   "source": [
    "print(confusion_matrix(y_test, y_pred_rf))"
   ]
  },
  {
   "cell_type": "markdown",
   "id": "d7a80b49",
   "metadata": {},
   "source": [
    "For comparason, let's place the confusion matrix for KNN model."
   ]
  },
  {
   "cell_type": "code",
   "execution_count": 460,
   "id": "b3ae00be",
   "metadata": {},
   "outputs": [
    {
     "name": "stdout",
     "output_type": "stream",
     "text": [
      "[[55537  3143]\n",
      " [ 3220 92175]]\n"
     ]
    }
   ],
   "source": [
    "print(confusion_matrix(y_test, y_pred_knn))"
   ]
  },
  {
   "cell_type": "markdown",
   "id": "9f6f301d",
   "metadata": {},
   "source": [
    "We can see that comparing to the KNN model, the random forest has big improvement in predicting both classes in our target variable.\n",
    "\n",
    "This could be the final part of this analysis. But when we look at all the f1 values, we realize that the prediction on fully paid loans is always more sucessful than the defaulted loans. \n",
    "\n",
    "Let's think of the question: Do we want a model which predict default loans more sucessful, or we want a model which predict the fully paid loans more successful? Well, if a loan is defaulted, the lender will have bigger trouble: they will have to deal with the situation that they have to request payment again and again from the borrower; on the other hand, if the model fails to predict a fully paid loan, the lender will lose the business opportunity. But that seems small problem, as they still have the money to lend to next person. So as decision from this disuss: we want a model which predict default loans more successful.\n",
    "\n",
    "Therefore we wants to give a try to change the model prediction result. Let's reduce the data point of fully paid loans, and try the random forest again. See if this will help to increase the f1 score for default loans."
   ]
  },
  {
   "cell_type": "markdown",
   "id": "8598b54e",
   "metadata": {},
   "source": [
    "### 6. Random Forest on dataset with more points on default loans"
   ]
  },
  {
   "cell_type": "markdown",
   "id": "07eee7c7",
   "metadata": {},
   "source": [
    "Let's create a new dataset by dropping half of data points with loan_status = 1."
   ]
  },
  {
   "cell_type": "code",
   "execution_count": 461,
   "id": "e3cfeb9c",
   "metadata": {},
   "outputs": [],
   "source": [
    "data_1 = data_lc[data_lc['loan_status']==0]\n",
    "data_2 = data_lc[data_lc['loan_status']==1].sample(frac=0.5)"
   ]
  },
  {
   "cell_type": "code",
   "execution_count": 462,
   "id": "6ee12543",
   "metadata": {},
   "outputs": [
    {
     "data": {
      "text/plain": [
       "((234900, 9), (190699, 9))"
      ]
     },
     "execution_count": 462,
     "metadata": {},
     "output_type": "execute_result"
    }
   ],
   "source": [
    "data_1.shape, data_2.shape"
   ]
  },
  {
   "cell_type": "markdown",
   "id": "9dead764",
   "metadata": {},
   "source": [
    "We can see that now we have more data points on loan_status = 0 than = 1. Let's have a look on the performance of random forest with this data."
   ]
  },
  {
   "cell_type": "code",
   "execution_count": 463,
   "id": "003d906b",
   "metadata": {},
   "outputs": [],
   "source": [
    "data_balanced = pd.concat([data_1, data_2], ignore_index=True)"
   ]
  },
  {
   "cell_type": "code",
   "execution_count": 464,
   "id": "5c6d2649",
   "metadata": {},
   "outputs": [],
   "source": [
    "# create target variable array.\n",
    "y_new = data_balanced['loan_status']"
   ]
  },
  {
   "cell_type": "code",
   "execution_count": 465,
   "id": "d3262677",
   "metadata": {},
   "outputs": [],
   "source": [
    "# create predictor variables array.\n",
    "X_new = data_balanced.drop(columns = 'loan_status')"
   ]
  },
  {
   "cell_type": "code",
   "execution_count": 466,
   "id": "18e4f2be",
   "metadata": {},
   "outputs": [],
   "source": [
    "# encode predictor variables.\n",
    "X_new = pd.get_dummies(X_new, drop_first = True)"
   ]
  },
  {
   "cell_type": "code",
   "execution_count": 467,
   "id": "0cd0250a",
   "metadata": {},
   "outputs": [
    {
     "data": {
      "text/html": [
       "<div>\n",
       "<style scoped>\n",
       "    .dataframe tbody tr th:only-of-type {\n",
       "        vertical-align: middle;\n",
       "    }\n",
       "\n",
       "    .dataframe tbody tr th {\n",
       "        vertical-align: top;\n",
       "    }\n",
       "\n",
       "    .dataframe thead th {\n",
       "        text-align: right;\n",
       "    }\n",
       "</style>\n",
       "<table border=\"1\" class=\"dataframe\">\n",
       "  <thead>\n",
       "    <tr style=\"text-align: right;\">\n",
       "      <th></th>\n",
       "      <th>last_fico_range_low</th>\n",
       "      <th>recoveries</th>\n",
       "      <th>last_pymnt_amnt</th>\n",
       "      <th>int_rate</th>\n",
       "      <th>fico_range_high</th>\n",
       "      <th>total_rec_late_fee</th>\n",
       "      <th>term_ 60 months</th>\n",
       "      <th>debt_settlement_flag_Y</th>\n",
       "    </tr>\n",
       "  </thead>\n",
       "  <tbody>\n",
       "    <tr>\n",
       "      <th>0</th>\n",
       "      <td>580.0</td>\n",
       "      <td>1618.90</td>\n",
       "      <td>471.70</td>\n",
       "      <td>19.48</td>\n",
       "      <td>669.0</td>\n",
       "      <td>0.00</td>\n",
       "      <td>1</td>\n",
       "      <td>0</td>\n",
       "    </tr>\n",
       "    <tr>\n",
       "      <th>1</th>\n",
       "      <td>0.0</td>\n",
       "      <td>368.37</td>\n",
       "      <td>146.16</td>\n",
       "      <td>14.85</td>\n",
       "      <td>729.0</td>\n",
       "      <td>0.00</td>\n",
       "      <td>0</td>\n",
       "      <td>0</td>\n",
       "    </tr>\n",
       "    <tr>\n",
       "      <th>2</th>\n",
       "      <td>625.0</td>\n",
       "      <td>0.00</td>\n",
       "      <td>565.09</td>\n",
       "      <td>12.88</td>\n",
       "      <td>679.0</td>\n",
       "      <td>161.46</td>\n",
       "      <td>0</td>\n",
       "      <td>0</td>\n",
       "    </tr>\n",
       "    <tr>\n",
       "      <th>3</th>\n",
       "      <td>0.0</td>\n",
       "      <td>0.00</td>\n",
       "      <td>701.01</td>\n",
       "      <td>24.24</td>\n",
       "      <td>664.0</td>\n",
       "      <td>0.00</td>\n",
       "      <td>1</td>\n",
       "      <td>0</td>\n",
       "    </tr>\n",
       "    <tr>\n",
       "      <th>4</th>\n",
       "      <td>600.0</td>\n",
       "      <td>0.00</td>\n",
       "      <td>581.58</td>\n",
       "      <td>13.99</td>\n",
       "      <td>734.0</td>\n",
       "      <td>0.00</td>\n",
       "      <td>1</td>\n",
       "      <td>0</td>\n",
       "    </tr>\n",
       "  </tbody>\n",
       "</table>\n",
       "</div>"
      ],
      "text/plain": [
       "   last_fico_range_low  recoveries  last_pymnt_amnt  int_rate  \\\n",
       "0                580.0     1618.90           471.70     19.48   \n",
       "1                  0.0      368.37           146.16     14.85   \n",
       "2                625.0        0.00           565.09     12.88   \n",
       "3                  0.0        0.00           701.01     24.24   \n",
       "4                600.0        0.00           581.58     13.99   \n",
       "\n",
       "   fico_range_high  total_rec_late_fee  term_ 60 months  \\\n",
       "0            669.0                0.00                1   \n",
       "1            729.0                0.00                0   \n",
       "2            679.0              161.46                0   \n",
       "3            664.0                0.00                1   \n",
       "4            734.0                0.00                1   \n",
       "\n",
       "   debt_settlement_flag_Y  \n",
       "0                       0  \n",
       "1                       0  \n",
       "2                       0  \n",
       "3                       0  \n",
       "4                       0  "
      ]
     },
     "execution_count": 467,
     "metadata": {},
     "output_type": "execute_result"
    }
   ],
   "source": [
    "X_new.head()"
   ]
  },
  {
   "cell_type": "code",
   "execution_count": 468,
   "id": "b44e3b90",
   "metadata": {},
   "outputs": [],
   "source": [
    "# split the data into train and test.\n",
    "X_train_new, X_test_new, y_train_new, y_test_new = train_test_split(X_new, y_new, random_state = 101)"
   ]
  },
  {
   "cell_type": "code",
   "execution_count": 469,
   "id": "fa91a439",
   "metadata": {},
   "outputs": [],
   "source": [
    "model_rf_new = RandomForestClassifier(n_estimators = 65)"
   ]
  },
  {
   "cell_type": "code",
   "execution_count": 470,
   "id": "cca39e3c",
   "metadata": {},
   "outputs": [
    {
     "data": {
      "text/plain": [
       "RandomForestClassifier(n_estimators=65)"
      ]
     },
     "execution_count": 470,
     "metadata": {},
     "output_type": "execute_result"
    }
   ],
   "source": [
    "model_rf_new.fit(X_train_new, y_train_new)"
   ]
  },
  {
   "cell_type": "code",
   "execution_count": 471,
   "id": "e602dba3",
   "metadata": {},
   "outputs": [],
   "source": [
    "y_pred_rf_new = model_rf_new.predict(X_test_new)"
   ]
  },
  {
   "cell_type": "code",
   "execution_count": 472,
   "id": "74abb70e",
   "metadata": {},
   "outputs": [],
   "source": [
    "score_5 = model_rf_new.score(X_test_new, y_test_new)"
   ]
  },
  {
   "cell_type": "code",
   "execution_count": 473,
   "id": "169437d0",
   "metadata": {},
   "outputs": [
    {
     "data": {
      "text/plain": [
       "(0.9670225539509979, 0.967359022556391)"
      ]
     },
     "execution_count": 473,
     "metadata": {},
     "output_type": "execute_result"
    }
   ],
   "source": [
    "score_4, score_5"
   ]
  },
  {
   "cell_type": "code",
   "execution_count": 474,
   "id": "708e0cbe",
   "metadata": {},
   "outputs": [
    {
     "data": {
      "image/png": "[encoded data removed]",
      "text/plain": [
       "<Figure size 720x576 with 1 Axes>"
      ]
     },
     "metadata": {
      "needs_background": "light"
     },
     "output_type": "display_data"
    }
   ],
   "source": [
    "plt.figure(figsize=(10,8))\n",
    "plt.bar(['RandmFrst more data \\n on fully paid','RandmFrst more data \\n on default'], [score_4, score_5], \n",
    "        color=['r', 'b'], width=0.5)\n",
    "plt.ylim(0.9, 1.0)\n",
    "plt.grid(True)\n",
    "plt.ylabel('Score')\n",
    "plt.title('Comparasion of Prediction Score on \\n RandomForest with Different Dataset')\n",
    "plt.show()"
   ]
  },
  {
   "cell_type": "markdown",
   "id": "08214ea4",
   "metadata": {},
   "source": [
    "Result shows that there is almost no improvment in the prediction score in the dataset with more on default. Now let's see the classification report."
   ]
  },
  {
   "cell_type": "code",
   "execution_count": 475,
   "id": "fff6b9a9",
   "metadata": {},
   "outputs": [
    {
     "name": "stdout",
     "output_type": "stream",
     "text": [
      "              precision    recall  f1-score   support\n",
      "\n",
      "           0      0.968     0.973     0.970     58543\n",
      "           1      0.966     0.961     0.964     47857\n",
      "\n",
      "    accuracy                          0.967    106400\n",
      "   macro avg      0.967     0.967     0.967    106400\n",
      "weighted avg      0.967     0.967     0.967    106400\n",
      "\n"
     ]
    }
   ],
   "source": [
    "print(classification_report(y_test_new, y_pred_rf_new, digits=3))"
   ]
  },
  {
   "cell_type": "code",
   "execution_count": 476,
   "id": "465552f7",
   "metadata": {},
   "outputs": [],
   "source": [
    "classification_report_5 = classification_report(y_test_new, y_pred_rf_new, digits=3, output_dict=True)"
   ]
  },
  {
   "cell_type": "code",
   "execution_count": 477,
   "id": "33a7b112",
   "metadata": {},
   "outputs": [],
   "source": [
    "report_5 = pd.DataFrame(classification_report_5)"
   ]
  },
  {
   "cell_type": "code",
   "execution_count": 478,
   "id": "4b0ba596",
   "metadata": {},
   "outputs": [],
   "source": [
    "f1_score_value = [report_4.loc['f1-score','0'], report_4.loc['f1-score','1'], \n",
    "                  report_5.loc['f1-score','0'], report_5.loc['f1-score','1']]"
   ]
  },
  {
   "cell_type": "code",
   "execution_count": 479,
   "id": "85388d7b",
   "metadata": {},
   "outputs": [],
   "source": [
    "f1_score_df =pd.DataFrame({'loan_status':[0,1,0,1], 'RandomForest':['more data on fully paid', 'more data on fully paid', \n",
    "                'more data on default', 'more data on default'], 'f1_score':f1_score_value})"
   ]
  },
  {
   "cell_type": "code",
   "execution_count": 480,
   "id": "751e740a",
   "metadata": {},
   "outputs": [
    {
     "data": {
      "image/png": "[encoded data removed]",
      "text/plain": [
       "<Figure size 666.125x360 with 1 Axes>"
      ]
     },
     "metadata": {
      "needs_background": "light"
     },
     "output_type": "display_data"
    }
   ],
   "source": [
    "sns.catplot(x='loan_status', y='f1_score', data=f1_score_df, hue='RandomForest', kind='bar')\n",
    "plt.ylim(0.9, 1.0)\n",
    "plt.xlabel('Loan Status')\n",
    "plt.ylabel('f1 Score')\n",
    "plt.title('Comparasion of f1 Score on \\n RandomForest with Different Dataset')\n",
    "plt.grid(True)\n",
    "plt.show()"
   ]
  },
  {
   "cell_type": "code",
   "execution_count": 481,
   "id": "1353360a",
   "metadata": {},
   "outputs": [
    {
     "name": "stdout",
     "output_type": "stream",
     "text": [
      "[[56940  1603]\n",
      " [ 1870 45987]]\n"
     ]
    }
   ],
   "source": [
    "print(confusion_matrix(y_test_new, y_pred_rf_new))"
   ]
  },
  {
   "cell_type": "code",
   "execution_count": 482,
   "id": "79caf6d7",
   "metadata": {},
   "outputs": [
    {
     "name": "stdout",
     "output_type": "stream",
     "text": [
      "[[56130  2550]\n",
      " [ 2531 92864]]\n"
     ]
    }
   ],
   "source": [
    "print(confusion_matrix(y_test, y_pred_rf))"
   ]
  },
  {
   "cell_type": "markdown",
   "id": "c4d84c64",
   "metadata": {},
   "source": [
    "Conclusion: The result is very interesting: We do see a good improvement in predicting loan_status = 0, and a drop in predicting loan_status = 1. That is exactly what as we wish to see. So which dataset to use really depends on the interest of the lender. If they want a model to be more successful in predicting the default loans, we will surely use the random forest model with a dataset with more points on defaulted loans. Otherwise we will use the model with more points on fully paid loans. We can also imagine, that according to the interest of the lender, if they want a higher prediction score on default loan, they can remove more rows on fully paid loan from the training data."
   ]
  }
 ],
 "metadata": {
  "kernelspec": {
   "display_name": "Python 3",
   "language": "python",
   "name": "python3"
  },
  "language_info": {
   "codemirror_mode": {
    "name": "ipython",
    "version": 3
   },
   "file_extension": ".py",
   "mimetype": "text/x-python",
   "name": "python",
   "nbconvert_exporter": "python",
   "pygments_lexer": "ipython3",
   "version": "3.8.8"
  }
 },
 "nbformat": 4,
 "nbformat_minor": 5
}
